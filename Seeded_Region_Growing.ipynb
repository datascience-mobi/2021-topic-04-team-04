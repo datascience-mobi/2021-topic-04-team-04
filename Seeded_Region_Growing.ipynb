{
 "cells": [
  {
   "cell_type": "code",
   "execution_count": 3,
   "metadata": {
    "collapsed": true,
    "pycharm": {
     "name": "#%%  #imports\n"
    }
   },
   "outputs": [
    {
     "name": "stdout",
     "output_type": "stream",
     "text": [
      "Using matplotlib backend: Qt5Agg\n",
      "Populating the interactive namespace from numpy and matplotlib\n"
     ]
    },
    {
     "name": "stderr",
     "output_type": "stream",
     "text": [
      "C:\\Users\\marie\\anaconda3\\lib\\site-packages\\IPython\\core\\magics\\pylab.py:160: UserWarning: pylab import has clobbered these variables: ['f']\n",
      "`%matplotlib` prevents importing * from pylab and numpy\n",
      "  \"\\n`%matplotlib` prevents importing * from pylab and numpy\"\n"
     ]
    }
   ],
   "source": [
    "import numpy as np\n",
    "%pylab\n",
    "%matplotlib inline\n",
    "\n",
    "from Functions import functions as f\n",
    "import skimage.io as sk\n",
    "from collections import Counter\n"
   ]
  },
  {
   "cell_type": "code",
   "execution_count": 4,
   "outputs": [
    {
     "name": "stderr",
     "output_type": "stream",
     "text": [
      "C:\\Users\\marie\\anaconda3\\lib\\site-packages\\skimage\\external\\tifffile\\tifffile.py:2618: RuntimeWarning: py_decodelzw encountered unexpected end of stream\n",
      "  strip = decompress(strip)\n"
     ]
    }
   ],
   "source": [
    "img = sk.imread(\"Data/N2DH-GOWT1/img/t01.tif\") #Bild laden\n",
    "#f.show_image(img, 15, 8)\n"
   ],
   "metadata": {
    "collapsed": false,
    "pycharm": {
     "name": "#%% #import image\n"
    }
   }
  },
  {
   "cell_type": "code",
   "execution_count": 5,
   "outputs": [],
   "source": [
    "\n",
    "def seeds(img, T1, T2): # automatic seed selection algorithm\n",
    "    result = np.zeros(img.shape)\n",
    "    sd_seeds = f.standarddeviation(img,3) # standard deviation\n",
    "    sd_flat = sd_seeds.flatten() # standard deviation as 1D-array\n",
    "    similarity_seeds = 1 - sd_seeds/max(sd_flat) # calculates similarity of every pixel to its neighbors\n",
    "    eurel_seeds = f.euclidean_relative(img, 3) # relative euclidean distance of every pixel to its neighbors\n",
    "    for p in np.ndindex(img.shape): # border pixel value is zero\n",
    "        if similarity_seeds[p] > T1 and eurel_seeds[p] < T2: # compares pixel with threshold\n",
    "            result[p] = 1 # assigns value 1 to seeds\n",
    "    return result\n",
    "\n",
    "#Achtung auch Randpixel bekommen Wert 1 und sind somit immer seeds! In seed_merging werden diese jedoch wieder als seeds entfernt.\n",
    "#Fehler Testbild, keine Seeds im Hintergrund gefunden, überprüfen!\n",
    "\n",
    "\n",
    "#seed_final = seeds(img, 0.4, 40)\n",
    "#f.show_image(seed_final, 15, 8)\n",
    "\n"
   ],
   "metadata": {
    "collapsed": false,
    "pycharm": {
     "name": "#%% #automatic seed detection\n"
    }
   }
  },
  {
   "cell_type": "code",
   "execution_count": 6,
   "outputs": [],
   "source": [
    "def seed_merging(img):\n",
    "    regions = np.zeros(img.shape) #creates new array for region numbers for every image pixel\n",
    "    count = 1 #keep track of region number\n",
    "    for p in np.ndindex(img.shape): #iterates over every pixel of the image\n",
    "        if img[p] == 1: #tests if pixel is seed\n",
    "            if p[0]-1 >= 0 and p[1]-1 >= 0 and p[0]+1 <= img.shape[0] -1 and p[1]+1 <= img.shape[1] -1: # no calculation of border pixels\n",
    "                for q in np.ndindex(3, 3): # iterates over 3x3 neighborhood\n",
    "                    i = p[0]-1 + q[0]\n",
    "                    j = p[1]-1 + q[1]\n",
    "                    if regions[i,j] != 0: #tests if neighbors are also seeds\n",
    "                        regions[p] = regions[i,j] # merge neighboring seeds; wird zur letzten abgefragten Region zugeordnet\n",
    "                if regions[p] == 0: #tests if no neighbors are seeds\n",
    "                    regions[p] = count #creates new region from new seed\n",
    "                    count += 1\n",
    "    return regions\n",
    "\n",
    "#test = seed_merging(seeds(f.img_resize(img, 500, 500), 0.4, 40))\n",
    "#print(test)"
   ],
   "metadata": {
    "collapsed": false,
    "pycharm": {
     "name": "#%% #region growing 2\n"
    }
   }
  },
  {
   "cell_type": "code",
   "execution_count": 7,
   "outputs": [],
   "source": [
    "#reduce number of starting regions for region growing by only considering starting regions with more than T seeds\n",
    "def decrease_region_number(img, T):\n",
    "    l = Counter(img.flatten()) #counts number of seeds in region\n",
    "    d_seeds = img.copy() \n",
    "    for i in range(1, int(np.amax(img))): #iterates over every region\n",
    "        if l[i] <= T:#if number of seeds is smaller than threshold, delete region\n",
    "            for p in np.ndindex(img.shape):\n",
    "                if img[p] == i:\n",
    "                    d_seeds[p] = 0\n",
    "    return d_seeds\n",
    "\n",
    "#test2 = decrease_region_number(test, 10)\n",
    "#f.show_image(test2, 15, 8)"
   ],
   "metadata": {
    "collapsed": false,
    "pycharm": {
     "name": "#%%\n"
    }
   }
  },
  {
   "cell_type": "code",
   "execution_count": 8,
   "outputs": [],
   "source": [
    "#test3 = decrease_region_number(test, 50)\n",
    "#f.show_image(test3, 15, 8)"
   ],
   "metadata": {
    "collapsed": false,
    "pycharm": {
     "name": "#%%\n"
    }
   }
  },
  {
   "cell_type": "code",
   "execution_count": 9,
   "outputs": [],
   "source": [
    "def find_neighbors(regions):\n",
    "    Ne = []\n",
    "    for p in np.ndindex(regions.shape):\n",
    "        if regions[p] != 0: # Pixels with region\n",
    "            if p[0] > 0: # Add neighbours to list T, left\n",
    "                a = (p[0]-1, p[1])\n",
    "                if regions[a] == 0 and a not in Ne:\n",
    "                    Ne.append(a)\n",
    "            if p[0] < regions.shape[0]-1: # Add neighbours to list T, right\n",
    "                b = (p[0]+1, p[1])\n",
    "                if regions[b] == 0 and b not in Ne:\n",
    "                    Ne.append(b)\n",
    "            if p[1] > 0: # Add neighbours to list T, up\n",
    "                c = (p[0], p[1]-1)\n",
    "                if regions[c] == 0 and c not in Ne:\n",
    "                    Ne.append(c)\n",
    "            if p[1] < regions.shape[1]-1: # Add neighbours to list T, down\n",
    "                d = (p[0], p[1]+1)\n",
    "                if regions[d] == 0 and d not in Ne:\n",
    "                    Ne.append(d)\n",
    "    return Ne"
   ],
   "metadata": {
    "collapsed": false,
    "pycharm": {
     "name": "#%%\n"
    }
   }
  },
  {
   "cell_type": "code",
   "execution_count": 10,
   "outputs": [],
   "source": [
    "#neighbors = find_neighbors(test3)\n",
    "#print(neighbors)"
   ],
   "metadata": {
    "collapsed": false,
    "pycharm": {
     "name": "#%%\n"
    }
   }
  },
  {
   "cell_type": "code",
   "execution_count": 11,
   "outputs": [],
   "source": [
    "def add_neighbors(img, p): #p describes pixel for which neighbors need to be added\n",
    "    Ne1 = []\n",
    "    if p[0] > 0: # Add neighbours to list T, up\n",
    "        a = (p[0]-1, p[1])\n",
    "        Ne1.append(a)\n",
    "    if p[0] < img.shape[0]-1: # Add neighbours to list T, down\n",
    "        b = (p[0]+1, p[1])\n",
    "        Ne1.append(b)\n",
    "    if p[1] > 0: # Add neighbours to list T, left\n",
    "        c = (p[0], p[1]-1)\n",
    "        Ne1.append(c)\n",
    "    if p[1] < img.shape[1]-1: # Add neighbours to list T, right\n",
    "        d = (p[0], p[1]+1)\n",
    "        Ne1.append(d)\n",
    "    return Ne1  #returns list of all existing direct neighbors (maximum 4 pixels)"
   ],
   "metadata": {
    "collapsed": false,
    "pycharm": {
     "name": "#%%\n"
    }
   }
  },
  {
   "cell_type": "code",
   "execution_count": 12,
   "outputs": [],
   "source": [
    "def mean_region(img, regions): #img is array of intensity values, regions is array with region numbers\n",
    "    mean_value = []\n",
    "    region_max = int(max(regions.flatten())) #calculates amount of regions\n",
    "    for count in range(1,region_max + 1): # iterates over every region\n",
    "        intensity = []\n",
    "        for p in np.ndindex(img.shape):\n",
    "            if regions[p] == count:\n",
    "                intensity.append(img[p]) #iterates over every pixel in the image and appends intensity value, if it is in the region\n",
    "        mean_value.append(np.mean(intensity)) #calculates mean value of region\n",
    "    return mean_value #returns list with average of every region"
   ],
   "metadata": {
    "collapsed": false,
    "pycharm": {
     "name": "#%%\n"
    }
   }
  },
  {
   "cell_type": "code",
   "execution_count": 13,
   "outputs": [],
   "source": [
    "def mean_region_new(img, regions):\n",
    "    mean_value = []\n",
    "    region_max = int(max(regions.flatten()))\n",
    "    intensity = []\n",
    "    for i in np.ndindex(img.shape):\n",
    "        intensity[regions[i]] = img[i]\n",
    "\n",
    "# Idee schneller: einmal über Bild iterieren und Intensitätswerte in verschachtelte Liste schreiben\n",
    "# Mittelwerte der Elemente der verschachtelten Liste berechnet"
   ],
   "metadata": {
    "collapsed": false,
    "pycharm": {
     "name": "#%%\n"
    }
   }
  },
  {
   "cell_type": "code",
   "execution_count": 14,
   "outputs": [],
   "source": [
    "# calculated mean value of region of newly labeled pixel\n",
    "def one_region_mean(img, regions, new_pixel): #img is array of intensity values, regions is array with region numbers, new_pixel is position of last added pixel\n",
    "    intensity = []\n",
    "    for p in np.ndindex(img.shape):\n",
    "        if regions[p] == regions[new_pixel]: # finds region of newly added pixel\n",
    "            intensity.append(img[p]) #iterates over every pixel in the image and appends intensity value, if it is in the region\n",
    "    single_mean = np.mean(intensity) #calculates mean value of region with new pixel\n",
    "    return single_mean #returns mean value of changed region"
   ],
   "metadata": {
    "collapsed": false,
    "pycharm": {
     "name": "#%%\n"
    }
   }
  },
  {
   "cell_type": "code",
   "execution_count": 32,
   "outputs": [],
   "source": [
    "# calculated mean value of region of newly labeled pixel\n",
    "def one_region_mean2(img, regions, new_pixel): #img is array of intensity values, regions is array with region numbers, new_pixel is position of last added pixel\n",
    "    intensity = []\n",
    "    pos_new_reg = np.where(regions == regions[new_pixel])\n",
    "    pos_new_reg = list(zip(pos_new_reg[0], pos_new_reg[1]))\n",
    "    print(pos_new_reg)\n",
    "    single_mean = np.mean(img[pos_new_reg])\n",
    "    return single_mean #returns mean value of changed region"
   ],
   "metadata": {
    "collapsed": false,
    "pycharm": {
     "name": "#%%\n"
    }
   }
  },
  {
   "cell_type": "code",
   "execution_count": 25,
   "outputs": [
    {
     "name": "stdout",
     "output_type": "stream",
     "text": [
      "[1. 1.]\n",
      "[(0, 1), (1, 1)]\n"
     ]
    },
    {
     "name": "stderr",
     "output_type": "stream",
     "text": [
      "C:\\Users\\marie\\anaconda3\\lib\\site-packages\\ipykernel_launcher.py:6: FutureWarning: Using a non-tuple sequence for multidimensional indexing is deprecated; use `arr[tuple(seq)]` instead of `arr[seq]`. In the future this will be interpreted as an array index, `arr[np.array(seq)]`, which will result either in an error or a different result.\n",
      "  \n"
     ]
    }
   ],
   "source": [
    "y = np.zeros((3,3))\n",
    "y[(0,1)] = 1\n",
    "y[(1,1)] = 1\n",
    "pos = np.where(y==1)\n",
    "pos = list(zip(pos[0], pos[1]))\n",
    "a = y[pos]\n",
    "print(a)\n",
    "print(pos)"
   ],
   "metadata": {
    "collapsed": false,
    "pycharm": {
     "name": "#%%\n"
    }
   }
  },
  {
   "cell_type": "code",
   "execution_count": 17,
   "outputs": [],
   "source": [
    "def calculation_distance(img, Ne, regions): # img intensity values, regions is region number, Ne is list of neighbours\n",
    "    max_intensity = np.amax(img)\n",
    "    means = mean_region(img, regions) # list of mean values of every region\n",
    "    result = np.ones(img.shape) # new array with distance values, standard value is one\n",
    "    nearest_reg = np.zeros(img.shape)\n",
    "    for i in Ne:\n",
    "        nei = add_neighbors(img, i) # list 4 neighbors of pixel i out of unsorted neighbors list\n",
    "        distance = []\n",
    "        region_number = []\n",
    "        for j in nei:\n",
    "            if regions[j] != 0: # only neighboring pixels which are sorted\n",
    "                distance.append(np.abs((img[i] - means[int(regions[j]-1)])) / max_intensity) # saves tuple of normalized distance of pixel to neighbor j and region of j\n",
    "                region_number.append(regions[j])\n",
    "        min_dist = min(distance)  # saves minimal distance to 1 of its neighbors in distance array\n",
    "        pos_min_dist = distance.index(min(distance))\n",
    "        nearest_reg[i] = region_number[int(pos_min_dist)] # saves number of nearest region\n",
    "        result[i] = min_dist\n",
    "    return result, nearest_reg, means  # returns array with distance values between 0 and 1 and array with number of nearest region"
   ],
   "metadata": {
    "collapsed": false,
    "pycharm": {
     "name": "#%%\n"
    }
   }
  },
  {
   "cell_type": "code",
   "execution_count": 18,
   "outputs": [],
   "source": [
    "#updates distances for updated region\n",
    "def new_distance(img, regions, nearest_reg, distances, new_pixel, Ne, means):\n",
    "    new_mean = one_region_mean2(img, regions, new_pixel)\n",
    "    means[int(regions[new_pixel] -1)] = new_mean # list of all mean values of the region with the updated region\n",
    "    max_intensity = np.amax(img)\n",
    "    for i in Ne:\n",
    "        nei = add_neighbors(img, i) # list 4 neighbors of pixel i out of unsorted neighbors list\n",
    "        distance = []\n",
    "        region_number = []\n",
    "        counter = 0\n",
    "        for j in nei:\n",
    "            if counter == 0:\n",
    "                if regions[j] == regions[new_pixel]: # calculates distance only for pixel adjacent to updated region\n",
    "                    counter = 1\n",
    "                    for k in nei:\n",
    "                        if regions[k] != 0: # compare all neighboring regions\n",
    "                            distance.append(np.abs((img[i] - means[int(regions[k]-1)])) / max_intensity) # saves tuple of normalized distance of pixel to neighbor j and region of j\n",
    "                            region_number.append(regions[k])\n",
    "                    min_dist = min(distance)  # saves minimal distance to 1 of its neighbors in distance array\n",
    "                    # only calculates new distances once\n",
    "                    pos_min_dist = distance.index(min_dist)\n",
    "                    nearest_reg[i] = region_number[int(pos_min_dist)] # saves number of nearest region # saves number of nearest region\n",
    "                    distances[i] = min_dist\n",
    "    return distances, nearest_reg, means  # returns array with distance values between 0 and 1 and array with number of nearest region\n",
    "\n"
   ],
   "metadata": {
    "collapsed": false,
    "pycharm": {
     "name": "#%%\n"
    }
   }
  },
  {
   "cell_type": "code",
   "execution_count": 19,
   "outputs": [],
   "source": [
    "def label(regions, distances, nearest_reg, Ne): # regions is array of region numbers, distances is array of distances, nearest_reg is array of nearest region number\n",
    "    x = np.where(distances == np.amin(distances)) #finds minimal distance in array and its position\n",
    "    #print(distances)\n",
    "    pos_min_dist = list(zip(x[0], x[1]))[0] # position of first pixel with minimal distance value\n",
    "    pos_min_dist = (int(pos_min_dist[0]), int(pos_min_dist[1])) #converting to int for finding in list\n",
    "    regions[pos_min_dist] = nearest_reg[pos_min_dist]\n",
    "    #print(pos_min_dist)\n",
    "    #print(Ne)\n",
    "    Ne.remove(pos_min_dist) #removes newly labeled entry from list Ne\n",
    "    distances[pos_min_dist] = 1\n",
    "    print(len(Ne))\n",
    "    return regions, pos_min_dist, Ne, distances # returns new labeled region array and position of newly labeled pixel"
   ],
   "metadata": {
    "collapsed": false,
    "pycharm": {
     "name": "#%%\n"
    }
   }
  },
  {
   "cell_type": "code",
   "execution_count": 20,
   "outputs": [],
   "source": [
    "def region_growing(img, regions):\n",
    "    Ne = find_neighbors(regions) #list of all adjacent pixels\n",
    "    dist = calculation_distance(img, Ne, regions) #array of smallest distances\n",
    "    regions_new = label(regions, dist[0], dist[1], Ne) #labels pixel with smallest distance\n",
    "    Ne = regions_new[2]\n",
    "    distances = regions_new[3]\n",
    "    Ne_add = add_neighbors(img, regions_new[1]) #finds neighbors of newly labeled pixel\n",
    "    for j in Ne_add: #updates list of adjacent pixels\n",
    "        if j not in Ne and regions[j] == 0:\n",
    "            Ne.append(j)\n",
    "    while len(Ne)>0: #as long as not all pixels are sorted\n",
    "        dist = new_distance(img, regions_new[0], dist[1], distances, regions_new[1], Ne, dist[2]) #updates distances\n",
    "        regions_new = label(regions_new[0], dist[0], dist[1], Ne) #labels next pixel\n",
    "        Ne = regions_new[2]\n",
    "        distances = regions_new[3]\n",
    "        Ne_add = add_neighbors(img, regions_new[1]) #finds neighbors of newly labeled pixel\n",
    "        for j in Ne_add: #updates Ne\n",
    "            if j not in Ne and regions[j] == 0:\n",
    "                Ne.append(j)\n",
    "    return regions_new[0] #returns array with region numbers"
   ],
   "metadata": {
    "collapsed": false,
    "pycharm": {
     "name": "#%%\n"
    }
   }
  },
  {
   "cell_type": "code",
   "execution_count": 21,
   "outputs": [],
   "source": [
    "#img_n = np.zeros([10, 10])\n",
    "#img_n[3:7, 3:7] = 1\n",
    "#img_n[1:2, 1:2] = 0.5\n",
    "#f.show_image(img_n,15,8)\n",
    "\n",
    "#img_t = seeds(img_n, 0.4, 40)\n",
    "#f.show_image(img_t,15,8)\n",
    "#img_t = seed_merging(img_t)\n",
    "#f.show_image(img_t,15,8)"
   ],
   "metadata": {
    "collapsed": false,
    "pycharm": {
     "name": "#%%\n"
    }
   }
  },
  {
   "cell_type": "code",
   "execution_count": 22,
   "outputs": [],
   "source": [
    "#img_t = region_growing(img_n, img_t)\n",
    "#f.show_image(img_t, 15,8)\n"
   ],
   "metadata": {
    "collapsed": false,
    "pycharm": {
     "name": "#%%\n"
    }
   }
  },
  {
   "cell_type": "code",
   "execution_count": 23,
   "outputs": [
    {
     "name": "stderr",
     "output_type": "stream",
     "text": [
      "C:\\Users\\marie\\Documents\\Studium\\Semester4\\Bioinfo\\Projekt\\Functions\\functions.py:54: RuntimeWarning: invalid value encountered in ubyte_scalars\n",
      "  neighborhood_distance.append((img[p]-img[i,j])/img[p]) # adds relative euclidean distance to list\n",
      "C:\\Users\\marie\\Documents\\Studium\\Semester4\\Bioinfo\\Projekt\\Functions\\functions.py:54: RuntimeWarning: overflow encountered in ubyte_scalars\n",
      "  neighborhood_distance.append((img[p]-img[i,j])/img[p]) # adds relative euclidean distance to list\n",
      "C:\\Users\\marie\\Documents\\Studium\\Semester4\\Bioinfo\\Projekt\\Functions\\functions.py:54: RuntimeWarning: divide by zero encountered in ubyte_scalars\n",
      "  neighborhood_distance.append((img[p]-img[i,j])/img[p]) # adds relative euclidean distance to list\n"
     ]
    },
    {
     "data": {
      "text/plain": "<Figure size 1080x576 with 2 Axes>",
      "image/png": "[encoded data removed]"
     },
     "metadata": {
      "needs_background": "light"
     },
     "output_type": "display_data"
    },
    {
     "data": {
      "text/plain": "<Figure size 1080x576 with 2 Axes>",
      "image/png": "[encoded data removed]"
     },
     "metadata": {
      "needs_background": "light"
     },
     "output_type": "display_data"
    },
    {
     "data": {
      "text/plain": "<Figure size 1080x576 with 2 Axes>",
      "image/png": "[encoded data removed]"
     },
     "metadata": {
      "needs_background": "light"
     },
     "output_type": "display_data"
    }
   ],
   "source": [
    "img_small = img[300:350, 400:450]\n",
    "f.show_image(img_small, 15, 8)\n",
    "img_r = seeds(img_small, 0.1, 1)\n",
    "f.show_image(img_r, 15, 8)\n",
    "img_r = seed_merging(img_r)\n",
    "f.show_image(img_r, 15, 8)"
   ],
   "metadata": {
    "collapsed": false,
    "pycharm": {
     "name": "#%%\n"
    }
   }
  },
  {
   "cell_type": "code",
   "execution_count": 33,
   "outputs": [
    {
     "name": "stdout",
     "output_type": "stream",
     "text": [
      "368\n",
      "[(28, 48), (28, 49)]\n",
      "369\n",
      "[(29, 20), (29, 21)]\n",
      "370\n",
      "[(31, 0), (31, 1), (32, 2), (32, 3)]\n"
     ]
    },
    {
     "name": "stderr",
     "output_type": "stream",
     "text": [
      "C:\\Users\\marie\\anaconda3\\lib\\site-packages\\ipykernel_launcher.py:7: FutureWarning: Using a non-tuple sequence for multidimensional indexing is deprecated; use `arr[tuple(seq)]` instead of `arr[seq]`. In the future this will be interpreted as an array index, `arr[np.array(seq)]`, which will result either in an error or a different result.\n",
      "  import sys\n"
     ]
    },
    {
     "ename": "IndexError",
     "evalue": "too many indices for array",
     "output_type": "error",
     "traceback": [
      "\u001B[1;31m---------------------------------------------------------------------------\u001B[0m",
      "\u001B[1;31mIndexError\u001B[0m                                Traceback (most recent call last)",
      "\u001B[1;32m<ipython-input-33-c9126dec3715>\u001B[0m in \u001B[0;36m<module>\u001B[1;34m\u001B[0m\n\u001B[1;32m----> 1\u001B[1;33m \u001B[0mimg_r\u001B[0m \u001B[1;33m=\u001B[0m \u001B[0mregion_growing\u001B[0m\u001B[1;33m(\u001B[0m\u001B[0mimg_small\u001B[0m\u001B[1;33m,\u001B[0m \u001B[0mimg_r\u001B[0m\u001B[1;33m)\u001B[0m\u001B[1;33m\u001B[0m\u001B[1;33m\u001B[0m\u001B[0m\n\u001B[0m\u001B[0;32m      2\u001B[0m \u001B[0mf\u001B[0m\u001B[1;33m.\u001B[0m\u001B[0mshow_image\u001B[0m\u001B[1;33m(\u001B[0m\u001B[0mimg_r\u001B[0m\u001B[1;33m,\u001B[0m \u001B[1;36m15\u001B[0m\u001B[1;33m,\u001B[0m \u001B[1;36m8\u001B[0m\u001B[1;33m)\u001B[0m\u001B[1;33m\u001B[0m\u001B[1;33m\u001B[0m\u001B[0m\n\u001B[0;32m      3\u001B[0m \u001B[1;33m\u001B[0m\u001B[0m\n\u001B[0;32m      4\u001B[0m \u001B[1;33m\u001B[0m\u001B[0m\n\u001B[0;32m      5\u001B[0m \u001B[1;33m\u001B[0m\u001B[0m\n",
      "\u001B[1;32m<ipython-input-20-cdb34b14332d>\u001B[0m in \u001B[0;36mregion_growing\u001B[1;34m(img, regions)\u001B[0m\n\u001B[0;32m     10\u001B[0m             \u001B[0mNe\u001B[0m\u001B[1;33m.\u001B[0m\u001B[0mappend\u001B[0m\u001B[1;33m(\u001B[0m\u001B[0mj\u001B[0m\u001B[1;33m)\u001B[0m\u001B[1;33m\u001B[0m\u001B[1;33m\u001B[0m\u001B[0m\n\u001B[0;32m     11\u001B[0m     \u001B[1;32mwhile\u001B[0m \u001B[0mlen\u001B[0m\u001B[1;33m(\u001B[0m\u001B[0mNe\u001B[0m\u001B[1;33m)\u001B[0m\u001B[1;33m>\u001B[0m\u001B[1;36m0\u001B[0m\u001B[1;33m:\u001B[0m \u001B[1;31m#as long as not all pixels are sorted\u001B[0m\u001B[1;33m\u001B[0m\u001B[1;33m\u001B[0m\u001B[0m\n\u001B[1;32m---> 12\u001B[1;33m         \u001B[0mdist\u001B[0m \u001B[1;33m=\u001B[0m \u001B[0mnew_distance\u001B[0m\u001B[1;33m(\u001B[0m\u001B[0mimg\u001B[0m\u001B[1;33m,\u001B[0m \u001B[0mregions_new\u001B[0m\u001B[1;33m[\u001B[0m\u001B[1;36m0\u001B[0m\u001B[1;33m]\u001B[0m\u001B[1;33m,\u001B[0m \u001B[0mdist\u001B[0m\u001B[1;33m[\u001B[0m\u001B[1;36m1\u001B[0m\u001B[1;33m]\u001B[0m\u001B[1;33m,\u001B[0m \u001B[0mdistances\u001B[0m\u001B[1;33m,\u001B[0m \u001B[0mregions_new\u001B[0m\u001B[1;33m[\u001B[0m\u001B[1;36m1\u001B[0m\u001B[1;33m]\u001B[0m\u001B[1;33m,\u001B[0m \u001B[0mNe\u001B[0m\u001B[1;33m,\u001B[0m \u001B[0mdist\u001B[0m\u001B[1;33m[\u001B[0m\u001B[1;36m2\u001B[0m\u001B[1;33m]\u001B[0m\u001B[1;33m)\u001B[0m \u001B[1;31m#updates distances\u001B[0m\u001B[1;33m\u001B[0m\u001B[1;33m\u001B[0m\u001B[0m\n\u001B[0m\u001B[0;32m     13\u001B[0m         \u001B[0mregions_new\u001B[0m \u001B[1;33m=\u001B[0m \u001B[0mlabel\u001B[0m\u001B[1;33m(\u001B[0m\u001B[0mregions_new\u001B[0m\u001B[1;33m[\u001B[0m\u001B[1;36m0\u001B[0m\u001B[1;33m]\u001B[0m\u001B[1;33m,\u001B[0m \u001B[0mdist\u001B[0m\u001B[1;33m[\u001B[0m\u001B[1;36m0\u001B[0m\u001B[1;33m]\u001B[0m\u001B[1;33m,\u001B[0m \u001B[0mdist\u001B[0m\u001B[1;33m[\u001B[0m\u001B[1;36m1\u001B[0m\u001B[1;33m]\u001B[0m\u001B[1;33m,\u001B[0m \u001B[0mNe\u001B[0m\u001B[1;33m)\u001B[0m \u001B[1;31m#labels next pixel\u001B[0m\u001B[1;33m\u001B[0m\u001B[1;33m\u001B[0m\u001B[0m\n\u001B[0;32m     14\u001B[0m         \u001B[0mNe\u001B[0m \u001B[1;33m=\u001B[0m \u001B[0mregions_new\u001B[0m\u001B[1;33m[\u001B[0m\u001B[1;36m2\u001B[0m\u001B[1;33m]\u001B[0m\u001B[1;33m\u001B[0m\u001B[1;33m\u001B[0m\u001B[0m\n",
      "\u001B[1;32m<ipython-input-18-af7bccd400a6>\u001B[0m in \u001B[0;36mnew_distance\u001B[1;34m(img, regions, nearest_reg, distances, new_pixel, Ne, means)\u001B[0m\n\u001B[0;32m      1\u001B[0m \u001B[1;31m#updates distances for updated region\u001B[0m\u001B[1;33m\u001B[0m\u001B[1;33m\u001B[0m\u001B[1;33m\u001B[0m\u001B[0m\n\u001B[0;32m      2\u001B[0m \u001B[1;32mdef\u001B[0m \u001B[0mnew_distance\u001B[0m\u001B[1;33m(\u001B[0m\u001B[0mimg\u001B[0m\u001B[1;33m,\u001B[0m \u001B[0mregions\u001B[0m\u001B[1;33m,\u001B[0m \u001B[0mnearest_reg\u001B[0m\u001B[1;33m,\u001B[0m \u001B[0mdistances\u001B[0m\u001B[1;33m,\u001B[0m \u001B[0mnew_pixel\u001B[0m\u001B[1;33m,\u001B[0m \u001B[0mNe\u001B[0m\u001B[1;33m,\u001B[0m \u001B[0mmeans\u001B[0m\u001B[1;33m)\u001B[0m\u001B[1;33m:\u001B[0m\u001B[1;33m\u001B[0m\u001B[1;33m\u001B[0m\u001B[0m\n\u001B[1;32m----> 3\u001B[1;33m     \u001B[0mnew_mean\u001B[0m \u001B[1;33m=\u001B[0m \u001B[0mone_region_mean2\u001B[0m\u001B[1;33m(\u001B[0m\u001B[0mimg\u001B[0m\u001B[1;33m,\u001B[0m \u001B[0mregions\u001B[0m\u001B[1;33m,\u001B[0m \u001B[0mnew_pixel\u001B[0m\u001B[1;33m)\u001B[0m\u001B[1;33m\u001B[0m\u001B[1;33m\u001B[0m\u001B[0m\n\u001B[0m\u001B[0;32m      4\u001B[0m     \u001B[0mmeans\u001B[0m\u001B[1;33m[\u001B[0m\u001B[0mint\u001B[0m\u001B[1;33m(\u001B[0m\u001B[0mregions\u001B[0m\u001B[1;33m[\u001B[0m\u001B[0mnew_pixel\u001B[0m\u001B[1;33m]\u001B[0m \u001B[1;33m-\u001B[0m\u001B[1;36m1\u001B[0m\u001B[1;33m)\u001B[0m\u001B[1;33m]\u001B[0m \u001B[1;33m=\u001B[0m \u001B[0mnew_mean\u001B[0m \u001B[1;31m# list of all mean values of the region with the updated region\u001B[0m\u001B[1;33m\u001B[0m\u001B[1;33m\u001B[0m\u001B[0m\n\u001B[0;32m      5\u001B[0m     \u001B[0mmax_intensity\u001B[0m \u001B[1;33m=\u001B[0m \u001B[0mnp\u001B[0m\u001B[1;33m.\u001B[0m\u001B[0mamax\u001B[0m\u001B[1;33m(\u001B[0m\u001B[0mimg\u001B[0m\u001B[1;33m)\u001B[0m\u001B[1;33m\u001B[0m\u001B[1;33m\u001B[0m\u001B[0m\n",
      "\u001B[1;32m<ipython-input-32-a50753aac162>\u001B[0m in \u001B[0;36mone_region_mean2\u001B[1;34m(img, regions, new_pixel)\u001B[0m\n\u001B[0;32m      5\u001B[0m     \u001B[0mpos_new_reg\u001B[0m \u001B[1;33m=\u001B[0m \u001B[0mlist\u001B[0m\u001B[1;33m(\u001B[0m\u001B[0mzip\u001B[0m\u001B[1;33m(\u001B[0m\u001B[0mpos_new_reg\u001B[0m\u001B[1;33m[\u001B[0m\u001B[1;36m0\u001B[0m\u001B[1;33m]\u001B[0m\u001B[1;33m,\u001B[0m \u001B[0mpos_new_reg\u001B[0m\u001B[1;33m[\u001B[0m\u001B[1;36m1\u001B[0m\u001B[1;33m]\u001B[0m\u001B[1;33m)\u001B[0m\u001B[1;33m)\u001B[0m\u001B[1;33m\u001B[0m\u001B[1;33m\u001B[0m\u001B[0m\n\u001B[0;32m      6\u001B[0m     \u001B[0mprint\u001B[0m\u001B[1;33m(\u001B[0m\u001B[0mpos_new_reg\u001B[0m\u001B[1;33m)\u001B[0m\u001B[1;33m\u001B[0m\u001B[1;33m\u001B[0m\u001B[0m\n\u001B[1;32m----> 7\u001B[1;33m     \u001B[0msingle_mean\u001B[0m \u001B[1;33m=\u001B[0m \u001B[0mnp\u001B[0m\u001B[1;33m.\u001B[0m\u001B[0mmean\u001B[0m\u001B[1;33m(\u001B[0m\u001B[0mimg\u001B[0m\u001B[1;33m[\u001B[0m\u001B[0mpos_new_reg\u001B[0m\u001B[1;33m]\u001B[0m\u001B[1;33m)\u001B[0m\u001B[1;33m\u001B[0m\u001B[1;33m\u001B[0m\u001B[0m\n\u001B[0m\u001B[0;32m      8\u001B[0m     \u001B[1;32mreturn\u001B[0m \u001B[0msingle_mean\u001B[0m \u001B[1;31m#returns mean value of changed region\u001B[0m\u001B[1;33m\u001B[0m\u001B[1;33m\u001B[0m\u001B[0m\n\u001B[0;32m      9\u001B[0m \u001B[1;33m\u001B[0m\u001B[0m\n",
      "\u001B[1;31mIndexError\u001B[0m: too many indices for array"
     ]
    }
   ],
   "source": [
    "img_r = region_growing(img_small, img_r)\n",
    "f.show_image(img_r, 15, 8)\n",
    "\n",
    "\n",
    "\n",
    "\n",
    "\n"
   ],
   "metadata": {
    "collapsed": false,
    "pycharm": {
     "name": "#%%\n"
    }
   }
  },
  {
   "cell_type": "code",
   "execution_count": null,
   "outputs": [],
   "source": [
    "#region-merging\n",
    "\n",
    "def region_distance(img, regions):\n",
    "    max_region = max(regions.flatten())\n",
    "    inter_region_distances = np.ones((int(max_region), int(max_region)))\n",
    "    means = mean_region(img, regions)\n",
    "    for i in range(0, int(max_region)):\n",
    "        for j in range(0, int(max_region)):\n",
    "            if j > i:\n",
    "                distance = abs(means[i] - means[j]) / (np.amax(img))\n",
    "                inter_region_distances[i][j] = distance\n",
    "    return inter_region_distances, means"
   ],
   "metadata": {
    "collapsed": false,
    "pycharm": {
     "name": "#%%\n"
    }
   }
  },
  {
   "cell_type": "code",
   "execution_count": null,
   "outputs": [],
   "source": [
    "def one_merged_region_mean(img, regions, region_number): #img is array of intensity values, regions is array with region numbers, new_pixel is position of last added pixel\n",
    "    intensity = []\n",
    "    for p in np.ndindex(img.shape):\n",
    "        if regions[p] == region_number:\n",
    "            intensity.append(img[p]) #iterates over every pixel in the image and appends intensity value, if it is in the region\n",
    "    single_mean = np.mean(intensity) #calculates mean value of region with new pixel\n",
    "    return single_mean"
   ],
   "metadata": {
    "collapsed": false,
    "pycharm": {
     "name": "#%%\n"
    }
   }
  },
  {
   "cell_type": "code",
   "execution_count": null,
   "outputs": [],
   "source": [
    "def region_distance_new(img, regions, pos_min_dist, means):\n",
    "    max_region = max(regions.flatten())\n",
    "    inter_region_distances = np.ones((int(max_region), int(max_region)))\n",
    "    i = pos_min_dist[0] # Regions Nummer 1 die übernommen wird\n",
    "    means[pos_min_dist[1]] = 500\n",
    "    means[i] = one_merged_region_mean(img, regions, i)\n",
    "    means = mean_region(img, regions)\n",
    "    for j in range(0, int(max_region)): # Regions Nummer 2, die nicht übernommen wird\n",
    "        if j > i:\n",
    "            distance = abs(means[i] - means[j]) / (np.amax(img))\n",
    "            inter_region_distances[i][j] = distance\n",
    "    return inter_region_distances"
   ],
   "metadata": {
    "collapsed": false,
    "pycharm": {
     "name": "#%%\n"
    }
   }
  },
  {
   "cell_type": "code",
   "execution_count": null,
   "outputs": [],
   "source": [
    "def region_merge_by_distance(inter_region_distances, regions, min_distance):\n",
    "    x = np.where(inter_region_distances == min_distance) #finds minimal distance in array and its position\n",
    "    pos_min_dist = list(zip(x[0], x[1]))[0] # position of first pixel with minimal distance value\n",
    "    pos_min_dist = (int(pos_min_dist[0]), int(pos_min_dist[1])) #converting to int for finding in list\n",
    "    regions[regions == pos_min_dist[1]] = pos_min_dist[0]\n",
    "    return regions, pos_min_dist\n",
    "\n",
    "        #for p in np.ndindex(img.shape):\n",
    "        #    if regions[p] == pos_min_dist[1]:\n",
    "        #        regions[p] == pos_min_dist[0]"
   ],
   "metadata": {
    "collapsed": false,
    "pycharm": {
     "name": "#%%\n"
    }
   }
  },
  {
   "cell_type": "code",
   "execution_count": null,
   "outputs": [],
   "source": [
    "def distance_merging_while(regions, threshold, img):\n",
    "    result_region_distance = region_distance(img, regions)\n",
    "    inter_region_distances = result_region_distance[0]\n",
    "    means = result_region_distance[1]\n",
    "    min_distance = np.amin(inter_region_distances)\n",
    "    while min_distance < threshold:\n",
    "        result_region_merge_by_distance = region_merge_by_distance(inter_region_distances, regions, min_distance)\n",
    "        regions = result_region_merge_by_distance[0]\n",
    "        pos_min_dist = result_region_merge_by_distance[1]\n",
    "        inter_region_distances = region_distance_new(img, regions, pos_min_dist, means)\n",
    "    return regions\n"
   ],
   "metadata": {
    "collapsed": false,
    "pycharm": {
     "name": "#%%\n"
    }
   }
  },
  {
   "cell_type": "code",
   "execution_count": null,
   "outputs": [],
   "source": [
    "test = distance_merging_while(img_r, 0.000001, img_small)\n",
    "print(test)\n",
    "f.show_image(test, 15, 8)"
   ],
   "metadata": {
    "collapsed": false,
    "pycharm": {
     "name": "#%%\n"
    }
   }
  },
  {
   "cell_type": "code",
   "execution_count": null,
   "outputs": [],
   "source": [],
   "metadata": {
    "collapsed": false,
    "pycharm": {
     "name": "#%%\n"
    }
   }
  }
 ],
 "metadata": {
  "kernelspec": {
   "display_name": "Python 3",
   "language": "python",
   "name": "python3"
  },
  "language_info": {
   "codemirror_mode": {
    "name": "ipython",
    "version": 2
   },
   "file_extension": ".py",
   "mimetype": "text/x-python",
   "name": "python",
   "nbconvert_exporter": "python",
   "pygments_lexer": "ipython2",
   "version": "2.7.6"
  }
 },
 "nbformat": 4,
 "nbformat_minor": 0
}