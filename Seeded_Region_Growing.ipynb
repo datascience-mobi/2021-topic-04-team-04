{
 "cells": [
  {
   "cell_type": "code",
   "execution_count": 1,
   "metadata": {
    "collapsed": true,
    "pycharm": {
     "name": "#%%  #imports\n"
    }
   },
   "outputs": [
    {
     "name": "stdout",
     "output_type": "stream",
     "text": [
      "Using matplotlib backend: Qt5Agg\n",
      "Populating the interactive namespace from numpy and matplotlib\n"
     ]
    }
   ],
   "source": [
    "import numpy as np\n",
    "%pylab\n",
    "%matplotlib inline\n",
    "\n",
    "from Functions import functions as f\n",
    "import skimage.io as sk\n",
    "from collections import Counter\n"
   ]
  },
  {
   "cell_type": "code",
   "execution_count": 2,
   "outputs": [
    {
     "name": "stderr",
     "output_type": "stream",
     "text": [
      "C:\\Users\\marie\\anaconda3\\lib\\site-packages\\skimage\\external\\tifffile\\tifffile.py:2618: RuntimeWarning: py_decodelzw encountered unexpected end of stream\n",
      "  strip = decompress(strip)\n"
     ]
    }
   ],
   "source": [
    "img = sk.imread(\"Data/N2DH-GOWT1/img/t01.tif\") #Bild laden\n",
    "#f.show_image(img, 15, 8)\n"
   ],
   "metadata": {
    "collapsed": false,
    "pycharm": {
     "name": "#%% #import image\n"
    }
   }
  },
  {
   "cell_type": "code",
   "execution_count": 3,
   "outputs": [],
   "source": [
    "\n",
    "def seeds(img, T1, T2): # automatic seed selection algorithm\n",
    "    result = np.zeros(img.shape)\n",
    "    sd_seeds = f.standarddeviation(img,3) # standard deviation\n",
    "    sd_flat = sd_seeds.flatten() # standard deviation as 1D-array\n",
    "    similarity_seeds = 1 - sd_seeds/max(sd_flat) # calculates similarity of every pixel to its neighbors\n",
    "    eurel_seeds = f.euclidean_relative(img, 3) # relative euclidean distance of every pixel to its neighbors\n",
    "    for p in np.ndindex(img.shape): # border pixel value is zero\n",
    "        if similarity_seeds[p] > T1 and eurel_seeds[p] < T2: # compares pixel with threshold\n",
    "            result[p] = 1 # assigns value 1 to seeds\n",
    "    return result\n",
    "\n",
    "#Achtung auch Randpixel bekommen Wert 1 und sind somit immer seeds! In seed_merging werden diese jedoch wieder als seeds entfernt.\n",
    "#Fehler Testbild, keine Seeds im Hintergrund gefunden, überprüfen!\n",
    "\n",
    "\n",
    "#seed_final = seeds(img, 0.4, 40)\n",
    "#f.show_image(seed_final, 15, 8)\n",
    "\n"
   ],
   "metadata": {
    "collapsed": false,
    "pycharm": {
     "name": "#%% #automatic seed detection\n"
    }
   }
  },
  {
   "cell_type": "code",
   "execution_count": 4,
   "outputs": [],
   "source": [
    "def seed_merging(img):\n",
    "    regions = np.zeros(img.shape) #creates new array for region numbers for every image pixel\n",
    "    count = 1 #keep track of region number\n",
    "    for p in np.ndindex(img.shape): #iterates over every pixel of the image\n",
    "        if img[p] == 1: #tests if pixel is seed\n",
    "            if p[0]-1 >= 0 and p[1]-1 >= 0 and p[0]+1 <= img.shape[0] -1 and p[1]+1 <= img.shape[1] -1: # no calculation of border pixels\n",
    "                for q in np.ndindex(3, 3): # iterates over 3x3 neighborhood\n",
    "                    i = p[0]-1 + q[0]\n",
    "                    j = p[1]-1 + q[1]\n",
    "                    if regions[i,j] != 0: #tests if neighbors are also seeds\n",
    "                        regions[p] = regions[i,j] # merge neighboring seeds; wird zur letzten abgefragten Region zugeordnet\n",
    "                if regions[p] == 0: #tests if no neighbors are seeds\n",
    "                    regions[p] = count #creates new region from new seed\n",
    "                    count += 1\n",
    "    return regions\n",
    "\n",
    "#test = seed_merging(seeds(f.img_resize(img, 500, 500), 0.4, 40))\n",
    "#print(test)"
   ],
   "metadata": {
    "collapsed": false,
    "pycharm": {
     "name": "#%% #region growing 2\n"
    }
   }
  },
  {
   "cell_type": "code",
   "execution_count": 5,
   "outputs": [],
   "source": [
    "#reduce number of starting regions for region growing by only considering starting regions with more than T seeds\n",
    "def decrease_region_number(img, T):\n",
    "    list = Counter(img.flatten()) #counts number of seeds in region\n",
    "    d_seeds = img.copy() \n",
    "    for i in range(1, int(np.amax(img))): #iterates over every region\n",
    "        if list[i] <= T:#if number of seeds is smaller than threshold, delete region\n",
    "            for p in np.ndindex(img.shape):\n",
    "                if img[p] == i:\n",
    "                    d_seeds[p] = 0\n",
    "    return d_seeds\n",
    "\n",
    "#test2 = decrease_region_number(test, 10)\n",
    "#f.show_image(test2, 15, 8)"
   ],
   "metadata": {
    "collapsed": false,
    "pycharm": {
     "name": "#%%\n"
    }
   }
  },
  {
   "cell_type": "code",
   "execution_count": 6,
   "outputs": [],
   "source": [
    "#test3 = decrease_region_number(test, 50)\n",
    "#f.show_image(test3, 15, 8)"
   ],
   "metadata": {
    "collapsed": false,
    "pycharm": {
     "name": "#%%\n"
    }
   }
  },
  {
   "cell_type": "code",
   "execution_count": 7,
   "outputs": [],
   "source": [
    "def find_neighbors(regions):\n",
    "    Ne = []\n",
    "    for p in np.ndindex(regions.shape):\n",
    "        if regions[p] != 0: # Pixels with region\n",
    "            if p[0] > 0: # Add neighbours to list T, left\n",
    "                a = (p[0]-1, p[1])\n",
    "                if regions[a] == 0 and a not in Ne:\n",
    "                    Ne.append(a)\n",
    "            if p[0] < regions.shape[0]-1: # Add neighbours to list T, right\n",
    "                b = (p[0]+1, p[1])\n",
    "                if regions[b] == 0 and b not in Ne:\n",
    "                    Ne.append(b)\n",
    "            if p[1] > 0: # Add neighbours to list T, up\n",
    "                c = (p[0], p[1]-1)\n",
    "                if regions[c] == 0 and c not in Ne:\n",
    "                    Ne.append(c)\n",
    "            if p[1] < regions.shape[1]-1: # Add neighbours to list T, down\n",
    "                d = (p[0], p[1]+1)\n",
    "                if regions[d] == 0 and d not in Ne:\n",
    "                    Ne.append(d)\n",
    "    return Ne"
   ],
   "metadata": {
    "collapsed": false,
    "pycharm": {
     "name": "#%%\n"
    }
   }
  },
  {
   "cell_type": "code",
   "execution_count": 8,
   "outputs": [],
   "source": [
    "#neighbors = find_neighbors(test3)\n",
    "#print(neighbors)"
   ],
   "metadata": {
    "collapsed": false,
    "pycharm": {
     "name": "#%%\n"
    }
   }
  },
  {
   "cell_type": "code",
   "execution_count": 9,
   "outputs": [],
   "source": [
    "def add_neighbors(img, p): #p describes pixel for which neighbors need to be added\n",
    "    Ne1 = []\n",
    "    if p[0] > 0: # Add neighbours to list T, up\n",
    "        a = (p[0]-1, p[1])\n",
    "        Ne1.append(a)\n",
    "    if p[0] < img.shape[0]-1: # Add neighbours to list T, down\n",
    "        b = (p[0]+1, p[1])\n",
    "        Ne1.append(b)\n",
    "    if p[1] > 0: # Add neighbours to list T, left\n",
    "        c = (p[0], p[1]-1)\n",
    "        Ne1.append(c)\n",
    "    if p[1] < img.shape[1]-1: # Add neighbours to list T, right\n",
    "        d = (p[0], p[1]+1)\n",
    "        Ne1.append(d)\n",
    "    return Ne1  #returns list of all existing direct neighbors (maximum 4 pixels)"
   ],
   "metadata": {
    "collapsed": false,
    "pycharm": {
     "name": "#%%\n"
    }
   }
  },
  {
   "cell_type": "code",
   "execution_count": 10,
   "outputs": [],
   "source": [
    "def mean_region(img, regions): #img is array of intensity values, regions is array with region numbers\n",
    "    mean = []\n",
    "    region_max = int(max(regions.flatten())) #calculates amount of regions\n",
    "    for count in range(1,region_max + 1): # iterates over every region\n",
    "        intensity = []\n",
    "        for p in np.ndindex(img.shape):\n",
    "            if regions[p] == count:\n",
    "                intensity.append(img[p]) #iterates over every pixel in the image and appends intensity value, if it is in the region\n",
    "        mean.append(sum(intensity)/len(intensity)) #calculates mean value of region\n",
    "    return mean #returns list with average of every region"
   ],
   "metadata": {
    "collapsed": false,
    "pycharm": {
     "name": "#%%\n"
    }
   }
  },
  {
   "cell_type": "code",
   "execution_count": 11,
   "outputs": [],
   "source": [
    "# calculated mean value of region of newly labeled pixel\n",
    "def one_region_mean(img, regions, new_pixel): #img is array of intensity values, regions is array with region numbers, new_pixel is position of last added pixel\n",
    "    intensity = []\n",
    "    for p in np.ndindex(img.shape):\n",
    "        if regions[p] == regions[new_pixel]: # finds region of newly added pixel\n",
    "            intensity.append(img[p]) #iterates over every pixel in the image and appends intensity value, if it is in the region\n",
    "    single_mean = sum(intensity)/len(intensity) #calculates mean value of region with new pixel\n",
    "    return single_mean #returns mean value of changed region"
   ],
   "metadata": {
    "collapsed": false,
    "pycharm": {
     "name": "#%%\n"
    }
   }
  },
  {
   "cell_type": "code",
   "execution_count": 12,
   "outputs": [],
   "source": [
    "def calculation_distance(img, Ne, regions): # img intensity values, regions is region number, Ne is list of neighbours\n",
    "    max_intensity = np.amax(img)\n",
    "    means = mean_region(img, regions) # list of mean values of every region\n",
    "    result = np.ones(img.shape) # new array with distance values, standard value is one\n",
    "    nearest_reg = np.zeros(img.shape)\n",
    "    for i in Ne:\n",
    "        nei = add_neighbors(img, i) # list 4 neighbors of pixel i out of unsorted neighbors list\n",
    "        distance = []\n",
    "        region_number = []\n",
    "        for j in nei:\n",
    "            if regions[j] != 0: # only neighboring pixels which are sorted\n",
    "                distance.append(np.abs((img[j] - means[int(regions[j]-1)])) / max_intensity) # saves tuple of normalized distance of pixel to neighbor j and region of j\n",
    "                region_number.append(regions[j])\n",
    "        min_dist = min(distance)  # saves minimal distance to 1 of its neighbors in distance array\n",
    "        pos_min_dist = distance.index(min(distance))\n",
    "        nearest_reg[i] = region_number[int(pos_min_dist)-1] # saves number of nearest region\n",
    "        result[i] = min_dist\n",
    "    return result, nearest_reg  # returns array with distance values between 0 and 1 and array with number of nearest region"
   ],
   "metadata": {
    "collapsed": false,
    "pycharm": {
     "name": "#%%\n"
    }
   }
  },
  {
   "cell_type": "code",
   "execution_count": 13,
   "outputs": [],
   "source": [
    "#updates distances for updated region\n",
    "def new_distance(img, regions, nearest_reg, distances, new_pixel, Ne):\n",
    "    new_mean = one_region_mean(img, regions, new_pixel)\n",
    "    means = mean_region(img, regions)\n",
    "    means[int(regions[new_pixel] -1)] = new_mean # list of all mean values of the region with the updated region\n",
    "    max_intensity = np.amax(img)\n",
    "    for i in Ne:\n",
    "        nei = add_neighbors(img, i) # list 4 neighbors of pixel i out of unsorted neighbors list\n",
    "        distance = []\n",
    "        region_number = []\n",
    "        for j in nei:\n",
    "            if regions[j] == regions[new_pixel]: # calculates distance only for pixel adjacent to updated region\n",
    "                for k in nei:\n",
    "                    if regions[k] != 0: # compare all neighboring regions\n",
    "                        distance.append(np.abs((img[k] - means[int(regions[k]-1)])) / max_intensity) # saves tuple of normalized distance of pixel to neighbor j and region of j\n",
    "                        region_number.append(regions[k])\n",
    "                min_dist = min(distance)  # saves minimal distance to 1 of its neighbors in distance array\n",
    "                # only calculates new distances once\n",
    "                pos_min_dist = distance.index(min_dist)\n",
    "                nearest_reg[i] = region_number[int(pos_min_dist)-1] # saves number of nearest region # saves number of nearest region\n",
    "                distances[i] = min_dist\n",
    "    return distances, nearest_reg  # returns array with distance values between 0 and 1 and array with number of nearest region\n",
    "\n"
   ],
   "metadata": {
    "collapsed": false,
    "pycharm": {
     "name": "#%%\n"
    }
   }
  },
  {
   "cell_type": "code",
   "execution_count": 14,
   "outputs": [],
   "source": [
    "def label(regions, distances, nearest_reg, Ne): # regions is array of region numbers, distances is array of distances, nearest_reg is array of nearest region number\n",
    "    x = np.where(distances == np.amin(distances)) #finds minimal distance in array and its position\n",
    "    #print(distances)\n",
    "    pos_min_dist = list(zip(x[0], x[1]))[0] # position of first pixel with minimal distance value\n",
    "    pos_min_dist = (int(pos_min_dist[0]), int(pos_min_dist[1])) #converting to int for finding in list\n",
    "    regions[pos_min_dist] = nearest_reg[pos_min_dist]\n",
    "    #print(pos_min_dist)\n",
    "    #print(Ne)\n",
    "    Ne.remove(pos_min_dist) #removes newly labeled entry from list Ne\n",
    "    distances[pos_min_dist] = 1\n",
    "    print(len(Ne))\n",
    "    return regions, pos_min_dist, Ne, distances # returns new labeled region array and position of newly labeled pixel"
   ],
   "metadata": {
    "collapsed": false,
    "pycharm": {
     "name": "#%%\n"
    }
   }
  },
  {
   "cell_type": "code",
   "execution_count": 15,
   "outputs": [],
   "source": [
    "def region_growing(img, regions):\n",
    "    Ne = find_neighbors(regions) #list of all adjacent pixels\n",
    "    dist = calculation_distance(img, Ne, regions) #array of smallest distances\n",
    "    regions_new = label(regions, dist[0], dist[1], Ne) #labels pixel with smallest distance\n",
    "    Ne = regions_new[2]\n",
    "    distances = regions_new[3]\n",
    "    Ne_add = add_neighbors(img, regions_new[1]) #finds neighbors of newly labeled pixel\n",
    "    for j in Ne_add: #updates list of adjacent pixels\n",
    "        if j not in Ne and regions[j] == 0:\n",
    "            Ne.append(j)\n",
    "    while len(Ne)>0: #as long as not all pixels are sorted\n",
    "        dist = new_distance(img, regions_new[0], dist[1], distances, regions_new[1], Ne) #updates distances\n",
    "        regions_new = label(regions_new[0], dist[0], dist[1], Ne) #labels next pixel\n",
    "        Ne = regions_new[2]\n",
    "        distances = regions_new[3]\n",
    "        Ne_add = add_neighbors(img, regions_new[1]) #finds neighbors of newly labeled pixel\n",
    "        for j in Ne_add: #updates Ne\n",
    "            if j not in Ne and regions[j] == 0:\n",
    "                Ne.append(j)\n",
    "    return regions_new[0] #returns array with region numbers"
   ],
   "metadata": {
    "collapsed": false,
    "pycharm": {
     "name": "#%%\n"
    }
   }
  },
  {
   "cell_type": "code",
   "execution_count": 16,
   "outputs": [],
   "source": [
    "#img_n = np.zeros([10, 10])\n",
    "#img_n[3:7, 3:7] = 1\n",
    "#img_n[1:2, 1:2] = 0.5\n",
    "#f.show_image(img_n,15,8)\n",
    "\n",
    "#img_t = seeds(img_n, 0.4, 40)\n",
    "#f.show_image(img_t,15,8)\n",
    "#img_t = seed_merging(img_t)\n",
    "#f.show_image(img_t,15,8)"
   ],
   "metadata": {
    "collapsed": false,
    "pycharm": {
     "name": "#%%\n"
    }
   }
  },
  {
   "cell_type": "code",
   "execution_count": 17,
   "outputs": [],
   "source": [
    "#img_t = region_growing(img_n, img_t)\n",
    "#f.show_image(img_t, 15,8)"
   ],
   "metadata": {
    "collapsed": false,
    "pycharm": {
     "name": "#%%\n"
    }
   }
  },
  {
   "cell_type": "code",
   "execution_count": 19,
   "outputs": [
    {
     "name": "stderr",
     "output_type": "stream",
     "text": [
      "C:\\Users\\marie\\Documents\\Studium\\Semester4\\Bioinfo\\Projekt\\Functions\\functions.py:54: RuntimeWarning: invalid value encountered in ubyte_scalars\n",
      "  neighborhood_distance.append((img[p]-img[i,j])/img[p]) # adds relative euclidean distance to list\n",
      "C:\\Users\\marie\\Documents\\Studium\\Semester4\\Bioinfo\\Projekt\\Functions\\functions.py:54: RuntimeWarning: overflow encountered in ubyte_scalars\n",
      "  neighborhood_distance.append((img[p]-img[i,j])/img[p]) # adds relative euclidean distance to list\n",
      "C:\\Users\\marie\\Documents\\Studium\\Semester4\\Bioinfo\\Projekt\\Functions\\functions.py:54: RuntimeWarning: divide by zero encountered in ubyte_scalars\n",
      "  neighborhood_distance.append((img[p]-img[i,j])/img[p]) # adds relative euclidean distance to list\n"
     ]
    },
    {
     "data": {
      "text/plain": "<Figure size 1080x576 with 2 Axes>",
      "image/png": "[encoded data removed]"
     },
     "metadata": {
      "needs_background": "light"
     },
     "output_type": "display_data"
    },
    {
     "data": {
      "text/plain": "<Figure size 1080x576 with 2 Axes>",
      "image/png": "[encoded data removed]"
     },
     "metadata": {
      "needs_background": "light"
     },
     "output_type": "display_data"
    },
    {
     "data": {
      "text/plain": "<Figure size 1080x576 with 2 Axes>",
      "image/png": "[encoded data removed]"
     },
     "metadata": {
      "needs_background": "light"
     },
     "output_type": "display_data"
    }
   ],
   "source": [
    "img_small = img[300:400, 400:500]\n",
    "f.show_image(img_small, 15, 8)\n",
    "img_r = seeds(img_small, 0.4, 40)\n",
    "f.show_image(img_r, 15, 8)\n",
    "img_r = seed_merging(img_r)\n",
    "f.show_image(img_r, 15, 8)"
   ],
   "metadata": {
    "collapsed": false,
    "pycharm": {
     "name": "#%%\n"
    }
   }
  },
  {
   "cell_type": "code",
   "execution_count": null,
   "outputs": [
    {
     "name": "stdout",
     "output_type": "stream",
     "text": [
      "4264\n",
      "4265\n",
      "4265\n",
      "4266\n",
      "4266\n",
      "4265\n",
      "4265\n",
      "4265\n",
      "4265\n",
      "4264\n",
      "4264\n",
      "4264\n",
      "4264\n",
      "4264\n",
      "4265\n",
      "4266\n",
      "4267\n",
      "4269\n",
      "4271\n",
      "4272\n",
      "4271\n",
      "4273\n",
      "4275\n",
      "4277\n",
      "4277\n",
      "4276\n",
      "4276\n",
      "4275\n",
      "4276\n",
      "4278\n",
      "4280\n",
      "4281\n",
      "4282\n",
      "4282\n",
      "4281\n",
      "4280\n",
      "4279\n",
      "4279\n",
      "4279\n",
      "4279\n",
      "4279\n",
      "4280\n",
      "4282\n",
      "4282\n",
      "4282\n",
      "4282\n",
      "4282\n",
      "4283\n",
      "4283\n",
      "4283\n",
      "4282\n",
      "4281\n",
      "4281\n",
      "4281\n",
      "4280\n",
      "4281\n",
      "4281\n",
      "4281\n",
      "4280\n",
      "4280\n",
      "4280\n",
      "4279\n",
      "4278\n",
      "4278\n",
      "4277\n",
      "4278\n",
      "4277\n",
      "4277\n",
      "4276\n",
      "4276\n",
      "4278\n",
      "4278\n",
      "4278\n",
      "4277\n",
      "4277\n",
      "4277\n",
      "4277\n",
      "4277\n",
      "4278\n",
      "4278\n",
      "4277\n",
      "4276\n",
      "4276\n",
      "4276\n",
      "4275\n",
      "4274\n",
      "4275\n",
      "4274\n",
      "4276\n",
      "4276\n",
      "4275\n",
      "4275\n",
      "4276\n",
      "4275\n",
      "4274\n",
      "4273\n",
      "4273\n",
      "4272\n",
      "4272\n",
      "4272\n",
      "4272\n",
      "4273\n",
      "4273\n",
      "4272\n",
      "4272\n",
      "4272\n",
      "4273\n",
      "4272\n",
      "4271\n",
      "4272\n",
      "4271\n",
      "4271\n",
      "4270\n",
      "4269\n",
      "4268\n",
      "4267\n",
      "4267\n",
      "4267\n",
      "4267\n",
      "4267\n",
      "4267\n",
      "4266\n",
      "4266\n",
      "4266\n",
      "4266\n",
      "4266\n",
      "4265\n",
      "4264\n",
      "4263\n",
      "4263\n",
      "4263\n",
      "4263\n",
      "4262\n",
      "4262\n",
      "4261\n",
      "4260\n",
      "4260\n",
      "4259\n",
      "4260\n",
      "4260\n",
      "4260\n",
      "4260\n",
      "4261\n",
      "4261\n",
      "4260\n",
      "4259\n",
      "4260\n",
      "4259\n",
      "4259\n",
      "4259\n",
      "4260\n",
      "4259\n",
      "4258\n",
      "4257\n",
      "4257\n",
      "4258\n",
      "4257\n",
      "4257\n",
      "4256\n",
      "4256\n",
      "4256\n",
      "4255\n",
      "4254\n",
      "4253\n",
      "4253\n",
      "4253\n",
      "4252\n",
      "4251\n",
      "4250\n",
      "4250\n",
      "4249\n",
      "4248\n",
      "4247\n",
      "4247\n",
      "4246\n",
      "4245\n",
      "4245\n",
      "4244\n",
      "4244\n",
      "4243\n",
      "4242\n",
      "4241\n",
      "4240\n",
      "4239\n",
      "4238\n",
      "4238\n",
      "4238\n",
      "4238\n",
      "4237\n",
      "4236\n",
      "4237\n",
      "4237\n",
      "4237\n",
      "4237\n",
      "4236\n",
      "4235\n"
     ]
    }
   ],
   "source": [
    "img_r = region_growing(img_small, img_r)\n",
    "f.show_image(img_r, 15, 8)\n",
    "\n",
    "\n",
    "\n",
    "\n",
    "    \n",
    "\n",
    "\n",
    "\n"
   ],
   "metadata": {
    "collapsed": false,
    "pycharm": {
     "name": "#%%\n",
     "is_executing": true
    }
   }
  }
 ],
 "metadata": {
  "kernelspec": {
   "display_name": "Python 3",
   "language": "python",
   "name": "python3"
  },
  "language_info": {
   "codemirror_mode": {
    "name": "ipython",
    "version": 2
   },
   "file_extension": ".py",
   "mimetype": "text/x-python",
   "name": "python",
   "nbconvert_exporter": "python",
   "pygments_lexer": "ipython2",
   "version": "2.7.6"
  }
 },
 "nbformat": 4,
 "nbformat_minor": 0
}