{
 "cells": [
  {
   "cell_type": "code",
   "execution_count": 2,
   "metadata": {
    "collapsed": true,
    "pycharm": {
     "name": "#%%\n"
    }
   },
   "outputs": [
    {
     "name": "stdout",
     "output_type": "stream",
     "text": [
      "Using matplotlib backend: Qt5Agg\n",
      "Populating the interactive namespace from numpy and matplotlib\n"
     ]
    }
   ],
   "source": [
    "import numpy as np\n",
    "%pylab\n",
    "%matplotlib inline\n",
    "\n",
    "\n",
    "import skimage.io as sk"
   ]
  },
  {
   "cell_type": "code",
   "execution_count": 3,
   "outputs": [
    {
     "name": "stdout",
     "output_type": "stream",
     "text": [
      "[1. 5. 3.]\n"
     ]
    }
   ],
   "source": [
    "l = [1,5,3]\n",
    "a = np.ndarray(len(l))\n",
    "a[0:len(l)] = l\n",
    "print(a)"
   ],
   "metadata": {
    "collapsed": false,
    "pycharm": {
     "name": "#%%\n"
    }
   }
  },
  {
   "cell_type": "code",
   "execution_count": null,
   "outputs": [],
   "source": [
    "img = sk.imread(\"../Data/N2DH-GOWT1/img/t01.tif\") #Bild laden\n",
    "print (img.shape)"
   ],
   "metadata": {
    "collapsed": false,
    "pycharm": {
     "name": "#%%\n"
    }
   }
  },
  {
   "cell_type": "code",
   "execution_count": null,
   "outputs": [],
   "source": [
    "img_n = f.img_resize(img,400,400)\n",
    "f.show_image(img_n,15,8)"
   ],
   "metadata": {
    "collapsed": false,
    "pycharm": {
     "name": "#%%\n"
    }
   }
  },
  {
   "cell_type": "code",
   "execution_count": null,
   "outputs": [],
   "source": [
    "t = np.zeros((5,5))"
   ],
   "metadata": {
    "collapsed": false,
    "pycharm": {
     "name": "#%%\n"
    }
   }
  },
  {
   "cell_type": "code",
   "execution_count": null,
   "outputs": [],
   "source": [
    "from PIL import Image\n",
    "\n",
    "\n",
    "test = np.zeros([100,100])\n",
    "test[30:40,30:40] = 1\n",
    "f.show_image(test,15,8)\n",
    "\n",
    "im = Image.fromarray(test)\n",
    "im.save(\"unittest.tif\")\n",
    "\n",
    "\n"
   ],
   "metadata": {
    "collapsed": false,
    "pycharm": {
     "name": "#%%\n"
    }
   }
  },
  {
   "cell_type": "code",
   "execution_count": null,
   "outputs": [],
   "source": [],
   "metadata": {
    "collapsed": false,
    "pycharm": {
     "name": "#%%\n"
    }
   }
  },
  {
   "cell_type": "code",
   "execution_count": null,
   "outputs": [],
   "source": [
    "import numpy as np\n",
    "%pylab\n",
    "%matplotlib inline\n",
    "\n",
    "from PIL import Image\n",
    "from Functions import image_processing as ip\n",
    "from Functions import seed_detection as sd\n",
    "from Functions import seeded_region_growing as srg\n",
    "import skimage.io as sk\n",
    "\n",
    "# from collections import Counter"
   ],
   "metadata": {
    "collapsed": false,
    "pycharm": {
     "name": "#%%  #imports\n"
    }
   }
  },
  {
   "cell_type": "code",
   "execution_count": null,
   "outputs": [],
   "source": [
    "image = sk.imread(\"Data/N2DH-GOWT1/img/t01.tif\") #Bild laden\n",
    "image_resize = ip.img_resize(image, 500, 500)\n"
   ],
   "metadata": {
    "collapsed": false,
    "pycharm": {
     "name": "#%% #import image\n"
    }
   }
  },
  {
   "cell_type": "code",
   "execution_count": null,
   "outputs": [],
   "source": [
    "img_small = image[300:350, 400:450]\n",
    "ip.show_image(img_small, 15, 8)\n",
    "img_r = sd.seeds(img_small, 0.1, 1)\n",
    "ip.show_image(img_r, 15, 8)\n",
    "img_r = sd.seed_merging(img_r)\n",
    "ip.show_image(img_r, 15, 8)"
   ],
   "metadata": {
    "collapsed": false,
    "pycharm": {
     "name": "#%% Try on small section of image\n"
    }
   }
  },
  {
   "cell_type": "code",
   "execution_count": null,
   "outputs": [],
   "source": [
    "img_r = srg.region_growing(img_small, img_r)\n",
    "ip.show_image(img_r, 15, 8)\n"
   ],
   "metadata": {
    "collapsed": false,
    "pycharm": {
     "name": "#%% Try region growing\n"
    }
   }
  },
  {
   "cell_type": "code",
   "execution_count": null,
   "outputs": [],
   "source": [
    "#region-merging\n",
    "\n",
    "def region_distance(img, reg):\n",
    "    \"\"\"\n",
    "    calculates distance between all regions\n",
    "    :param img: intensity values (2d array)\n",
    "    :param reg: region numbers (2d array)\n",
    "    :return: 2d array with distances between all regions, only in upper pyramid\n",
    "    (region numbers are row and col number)\n",
    "    inter_region_distances is upper triangle matrix with mean intensity distances between regions (2d array)\n",
    "    mean values of all regions (list of floats)\n",
    "    \"\"\"\n",
    "\n",
    "    max_region = max(reg.flatten())\n",
    "    max_intensity = np.amax(img)\n",
    "    inter_region_distances = np.ones((int(max_region), int(max_region)))\n",
    "    means = srg.mean_region(img, reg)\n",
    "\n",
    "    for row_number in range(0, int(max_region)):\n",
    "        for col_number in range(0, int(max_region)):\n",
    "            if is_upper_triangle(col_number,row_number):\n",
    "                inter_region_distances[row_number][col_number] = distance_between_regions(row_number,col_number,max_intensity, means)\n",
    "    return inter_region_distances, means\n",
    "\n",
    "def is_upper_triangle(col_number, row_number):\n",
    "    if col_number > row_number:\n",
    "        return True\n",
    "    return False\n",
    "\n",
    "def distance_between_regions(region1, region2, max_intensity, means):\n",
    "    distance = abs(means[region1] - means[region2]) / (max_intensity)\n",
    "    return distance\n",
    "\n",
    "#print(srg.mean_region(img_small, img_r))"
   ],
   "metadata": {
    "collapsed": false,
    "pycharm": {
     "name": "#%%\n"
    }
   }
  },
  {
   "cell_type": "code",
   "execution_count": null,
   "outputs": [],
   "source": [
    "def one_merged_region_mean(img, reg, region_number):\n",
    "    \"\"\"\n",
    "    calculates the mean of changed region\n",
    "    :param img: intensity values (2d array)\n",
    "    :param reg: region numbers (2d array)\n",
    "    :param region_number: number of the changed region (int)\n",
    "    :return: mean value of changed position (float)\n",
    "    \"\"\"\n",
    "    pos_new_reg = np.where(reg == region_number)\n",
    "    single_mean = np.mean(img[pos_new_reg[0],pos_new_reg[1]])\n",
    "    return single_mean\n"
   ],
   "metadata": {
    "collapsed": false,
    "pycharm": {
     "name": "#%%\n"
    }
   }
  },
  {
   "cell_type": "code",
   "execution_count": null,
   "outputs": [],
   "source": [
    "def region_distance_new(img, reg, pos_min_dist, means, inter_region_distances):\n",
    "    \"\"\"\n",
    "    updates array of distances of mean intensity values between all changed regions\n",
    "    :param img: intensity values (2d array)\n",
    "    :param reg: region numbers (2d array)\n",
    "    :param pos_min_dist: region number of changed regions (tuple(x,y), pos_min_dist[0] is resulting region number, pos_min_dist[1] is region_number to be removed)\n",
    "    :param means: mean values of all regions (list of floats)\n",
    "    :param inter_region_distances: distances between mean intensity values of regions (2d array)\n",
    "    :return: inter_region_distances: updated distances between mean intensity values of regions\n",
    "    \"\"\"\n",
    "\n",
    "    region_count = inter_region_distances.shape[0]\n",
    "    maximal_intensity = np.amax(img)\n",
    "    changed_region1 = int(pos_min_dist[0]) # Regions Nummer 1 die übernommen wird\n",
    "    changed_region2 = int(pos_min_dist[1])\n",
    "    means = update_mean_values(means, changed_region1, changed_region2, img, reg)\n",
    "    inter_region_distances = update_distances(changed_region1, changed_region2, inter_region_distances, region_count, means, maximal_intensity)\n",
    "    return inter_region_distances\n",
    "\n",
    "def update_distances(changed_region1, changed_region2, inter_region_distances, region_count, means, maximal_intensity):\n",
    "    \"\"\"\n",
    "    updates distance values of changed regions, value 500 for removed regions\n",
    "    :param changed_region1: resulting region number for merged region\n",
    "    :param changed_region2: region number which is going to be removed\n",
    "    :param inter_region_distances: distances between mean intensity values of regions (2d array)\n",
    "    :param region_count: amount of different regions at beginning of merging process (int)\n",
    "    :param means: mean intensity values of regions (list)\n",
    "    :param maximal_intensity: maximal intensity value of image\n",
    "    :return: updated inter_region distances (2d array)\n",
    "    \"\"\"\n",
    "    for col_number in range(changed_region1 + 1, int(region_count)):\n",
    "        inter_region_distances[changed_region1][col_number] = distance_between_regions(changed_region1, col_number, maximal_intensity, means)\n",
    "    for row_number in range(0, changed_region1):\n",
    "        inter_region_distances[row_number][changed_region1] = distance_between_regions(changed_region1, row_number, maximal_intensity, means)\n",
    "    inter_region_distances[changed_region2][0:region_count] = 500\n",
    "    inter_region_distances[0:region_count][changed_region2] = 500\n",
    "    return inter_region_distances\n",
    "\n",
    "def update_mean_values(means, changed_region1, changed_region2, img, reg):\n",
    "    \"\"\"\n",
    "    updates mean value for merged regions in list of mean values, value 500 for unused means\n",
    "    :param means: mean intensity values of regions (list of ints)\n",
    "    :param changed_region1: region number for merged region (int)\n",
    "    :param changed_region2: region number to be removed (int)\n",
    "    :param img: intensity values (2d array)\n",
    "    :param reg: region numbers (2d array)\n",
    "    :return:\n",
    "    \"\"\"\n",
    "    means[changed_region2] = 500\n",
    "    means[changed_region1] = one_merged_region_mean(img, reg, changed_region1 + 1)\n",
    "    return means"
   ],
   "metadata": {
    "collapsed": false,
    "pycharm": {
     "name": "#%%\n"
    }
   }
  },
  {
   "cell_type": "code",
   "execution_count": null,
   "outputs": [],
   "source": [
    "def position_of_minimal_distance(dis, min_distance):\n",
    "    minimal_distances = np.where(dis == min_distance)\n",
    "    pos_min_dist = list(zip(minimal_distances[0], minimal_distances[1]))[0]\n",
    "    pos_min_dist = (int(pos_min_dist[0]), int(pos_min_dist[1]))\n",
    "    return pos_min_dist\n",
    "\n",
    "\n",
    "def updates_region_numbers(inter_region_distances, reg, min_distance):\n",
    "    \"\"\"\n",
    "    changes region number to region number of merged region\n",
    "    :param inter_region_distances: distances between mean intensity values of regions (2d array)\n",
    "    :param reg: region numbers (2d array)\n",
    "    :param min_distance: minimal distance of mean intensity values between to regions\n",
    "\n",
    "    :return: reg: updated region numbers (2d array)\n",
    "    :return: pos_min_dist: position of minimal distance in inter_region_distances array (tuple(x,y))\n",
    "    \"\"\"\n",
    "    pos_min_dist = position_of_minimal_distance(inter_region_distances, min_distance)\n",
    "\n",
    "    pixel_to_change = np.where(reg == pos_min_dist[1] + 1) #column in inter_region_distances is region to be changed(column number bigger than row number)\n",
    "    pixel_to_change_rows = pixel_to_change[0]\n",
    "    pixel_to_change_cols = pixel_to_change[1]\n",
    "    reg[pixel_to_change_rows, pixel_to_change_cols] = pos_min_dist[0] + 1\n",
    "    return reg, pos_min_dist"
   ],
   "metadata": {
    "collapsed": false,
    "pycharm": {
     "name": "#%%\n"
    }
   }
  },
  {
   "cell_type": "code",
   "execution_count": null,
   "outputs": [],
   "source": [
    "def distance_merging_while(reg, threshold, img):\n",
    "\n",
    "    \"\"\"\n",
    "    region merging algorithm by similarity of mean intensity values of regions\n",
    "    :param reg: region numbers (2d array)\n",
    "    :param threshold: distance intensity value below which regions are merged (float between 0 and 1)\n",
    "    :param img: intensity value (2d array)\n",
    "    :return: merged regions by intensity similarity (2d array)\n",
    "    \"\"\"\n",
    "    result_region_distance = region_distance(img, reg)\n",
    "    inter_region_distances = result_region_distance[0]\n",
    "    means = result_region_distance[1]\n",
    "\n",
    "    min_distance = np.nanmin(inter_region_distances)\n",
    "    print(min_distance)\n",
    "    while minimal_distance_is_similar(threshold, min_distance):\n",
    "        print(1)\n",
    "        updated_regions = updates_region_numbers(inter_region_distances, reg, min_distance)\n",
    "        reg = updated_regions[0]\n",
    "        pos_min_dist = updated_regions[1]\n",
    "\n",
    "        inter_region_distances = region_distance_new(img, reg, pos_min_dist, means, inter_region_distances)\n",
    "        min_distance = np.nanmin(inter_region_distances)\n",
    "        print(min_distance)\n",
    "        print(inter_region_distances)\n",
    "    return reg\n",
    "\n",
    "def minimal_distance_is_similar(threshold, min_distance):\n",
    "    if min_distance < threshold:\n",
    "        return True\n",
    "    return False"
   ],
   "metadata": {
    "collapsed": false,
    "pycharm": {
     "name": "#%%\n"
    }
   }
  },
  {
   "cell_type": "code",
   "execution_count": null,
   "outputs": [],
   "source": [
    "def calculate_regions_size(regions):\n",
    "    max_region = np.amax(regions)\n",
    "    region_sizes = []\n",
    "    for region_number in range(0, max_region):\n",
    "        region_count = np.sum(regions == region_number)\n",
    "        region_sizes.append(region_count)\n",
    "    return region_sizes\n",
    "\n",
    "def find_neighboring_regions(regions, img, region_number):\n",
    "    regions = regions.astype(int)\n",
    "    pixel_of_region = np.where(regions == region_number)\n",
    "    pixel_of_region = list(zip(pixel_of_region[0], pixel_of_region[1]))\n",
    "\n",
    "    neighboring_regions = []\n",
    "    for pixel in pixel_of_region:\n",
    "        four_neighbors = srg.get_neighbors(img, pixel)\n",
    "        for neighbor in four_neighbors:\n",
    "            if regions[neighbor] != region_number and regions[neighbor] not in neighboring_regions:\n",
    "                neighboring_regions.append(regions[neighbor])\n",
    "\n",
    "def find_most_similar_region(regions, img, means, neighboring_regions, region_number):\n",
    "    nei_regions_array = np.ndarray(neighboring_regions)\n",
    "    means_array = np.ndarray(means)\n",
    "    distances = np.ndarray(nei_regions_array.shape)\n",
    "    distances[0:nei_regions_array.shape] = abs(means_array[nei_regions_array-1]-means_array[region_number-1])\n",
    "    similar_region = np.amin(distances)\n",
    "    return similar_region"
   ],
   "metadata": {
    "collapsed": false,
    "pycharm": {
     "name": "#%%\n"
    }
   }
  },
  {
   "cell_type": "code",
   "execution_count": null,
   "outputs": [],
   "source": [
    "l = [1,5,3]\n",
    "a = np.ndarray(len(l))\n",
    "a[0:len(l)] = l\n",
    "print(a)"
   ],
   "metadata": {
    "collapsed": false,
    "pycharm": {
     "name": "#%%\n"
    }
   }
  },
  {
   "cell_type": "code",
   "execution_count": null,
   "outputs": [],
   "source": [
    "## Wo wird img_r überschrieben???\n",
    "\n",
    "test = distance_merging_while(img_r, 0.1, img_small)\n",
    "print(test)\n",
    "ip.show_image(test, 15, 8)\n",
    "\n",
    "#im = Image.fromarray(test)\n",
    "#im.save(\"t01tifimg.tif\")\n",
    "\n"
   ],
   "metadata": {
    "collapsed": false,
    "pycharm": {
     "name": "#%%\n"
    }
   }
  }
 ],
 "metadata": {
  "kernelspec": {
   "display_name": "Python 3",
   "language": "python",
   "name": "python3"
  },
  "language_info": {
   "codemirror_mode": {
    "name": "ipython",
    "version": 2
   },
   "file_extension": ".py",
   "mimetype": "text/x-python",
   "name": "python",
   "nbconvert_exporter": "python",
   "pygments_lexer": "ipython2",
   "version": "2.7.6"
  }
 },
 "nbformat": 4,
 "nbformat_minor": 0
}