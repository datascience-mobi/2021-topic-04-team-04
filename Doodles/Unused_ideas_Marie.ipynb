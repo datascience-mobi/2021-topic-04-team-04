{
 "cells": [
  {
   "cell_type": "code",
   "execution_count": 2,
   "metadata": {
    "collapsed": true,
    "pycharm": {
     "name": "#%%\n"
    }
   },
   "outputs": [
    {
     "name": "stdout",
     "output_type": "stream",
     "text": [
      "Using matplotlib backend: Qt5Agg\n",
      "Populating the interactive namespace from numpy and matplotlib\n",
      "Using matplotlib backend: Qt5Agg\n",
      "Populating the interactive namespace from numpy and matplotlib\n"
     ]
    }
   ],
   "source": [
    "import numpy as np\n",
    "%pylab\n",
    "%matplotlib inline\n",
    "\n",
    "\n",
    "import skimage.io as sk\n",
    "from Functions import image_processing as ip\n",
    "from Functions import region_merging as rm\n",
    "from Functions import seeded_region_growing as srg\n",
    "from Functions import seed_detection as sd"
   ]
  },
  {
   "cell_type": "code",
   "execution_count": 2,
   "outputs": [
    {
     "name": "stdout",
     "output_type": "stream",
     "text": [
      "[1. 5. 3.]\n"
     ]
    }
   ],
   "source": [
    "l = [1,5,3]\n",
    "a = np.ndarray(len(l))\n",
    "a[0:len(l)] = l\n",
    "print(a)"
   ],
   "metadata": {
    "collapsed": false,
    "pycharm": {
     "name": "#%%\n"
    }
   }
  },
  {
   "cell_type": "code",
   "execution_count": 3,
   "outputs": [
    {
     "name": "stdout",
     "output_type": "stream",
     "text": [
      "(1024, 1024)\n"
     ]
    }
   ],
   "source": [
    "img = sk.imread(\"../Data/N2DH-GOWT1/img/t01.tif\") #Bild laden\n",
    "print (img.shape)"
   ],
   "metadata": {
    "collapsed": false,
    "pycharm": {
     "name": "#%%\n"
    }
   }
  },
  {
   "cell_type": "code",
   "execution_count": 4,
   "outputs": [
    {
     "ename": "AttributeError",
     "evalue": "'builtin_function_or_method' object has no attribute 'img_resize'",
     "output_type": "error",
     "traceback": [
      "\u001B[1;31m---------------------------------------------------------------------------\u001B[0m",
      "\u001B[1;31mAttributeError\u001B[0m                            Traceback (most recent call last)",
      "\u001B[1;32m<ipython-input-4-8af025ddf529>\u001B[0m in \u001B[0;36m<module>\u001B[1;34m\u001B[0m\n\u001B[1;32m----> 1\u001B[1;33m \u001B[0mimg_n\u001B[0m \u001B[1;33m=\u001B[0m \u001B[0mf\u001B[0m\u001B[1;33m.\u001B[0m\u001B[0mimg_resize\u001B[0m\u001B[1;33m(\u001B[0m\u001B[0mimg\u001B[0m\u001B[1;33m,\u001B[0m\u001B[1;36m400\u001B[0m\u001B[1;33m,\u001B[0m\u001B[1;36m400\u001B[0m\u001B[1;33m)\u001B[0m\u001B[1;33m\u001B[0m\u001B[1;33m\u001B[0m\u001B[0m\n\u001B[0m\u001B[0;32m      2\u001B[0m \u001B[0mf\u001B[0m\u001B[1;33m.\u001B[0m\u001B[0mshow_image\u001B[0m\u001B[1;33m(\u001B[0m\u001B[0mimg_n\u001B[0m\u001B[1;33m,\u001B[0m\u001B[1;36m15\u001B[0m\u001B[1;33m,\u001B[0m\u001B[1;36m8\u001B[0m\u001B[1;33m)\u001B[0m\u001B[1;33m\u001B[0m\u001B[1;33m\u001B[0m\u001B[0m\n\u001B[0;32m      3\u001B[0m \u001B[1;33m\u001B[0m\u001B[0m\n",
      "\u001B[1;31mAttributeError\u001B[0m: 'builtin_function_or_method' object has no attribute 'img_resize'"
     ]
    }
   ],
   "source": [
    "img_n = ip.img_resize(img,400,400)\n",
    "ip.show_image(img_n,15,8)"
   ],
   "metadata": {
    "collapsed": false,
    "pycharm": {
     "name": "#%%\n"
    }
   }
  },
  {
   "cell_type": "code",
   "execution_count": null,
   "outputs": [],
   "source": [
    "t = np.zeros((5,5))"
   ],
   "metadata": {
    "collapsed": false,
    "pycharm": {
     "name": "#%%\n"
    }
   }
  },
  {
   "cell_type": "code",
   "execution_count": null,
   "outputs": [],
   "source": [
    "from PIL import Image\n",
    "\n",
    "\n",
    "test = np.zeros([100,100])\n",
    "test[30:40,30:40] = 1\n",
    "ip.show_image(test,15,8)\n",
    "\n",
    "im = Image.fromarray(test)\n",
    "im.save(\"unittest.tif\")\n",
    "\n",
    "\n"
   ],
   "metadata": {
    "collapsed": false,
    "pycharm": {
     "name": "#%%\n"
    }
   }
  },
  {
   "cell_type": "code",
   "execution_count": 2,
   "outputs": [
    {
     "name": "stderr",
     "output_type": "stream",
     "text": [
      "C:\\Users\\ijung\\anaconda3\\lib\\site-packages\\skimage\\external\\tifffile\\tifffile.py:2618: RuntimeWarning: py_decodelzw encountered unexpected end of stream\n",
      "  strip = decompress(strip)\n",
      "C:\\Users\\ijung\\anaconda3\\lib\\site-packages\\numpy\\core\\fromnumeric.py:3334: RuntimeWarning: Mean of empty slice.\n",
      "  return _methods._mean(a, axis=axis, dtype=dtype,\n",
      "C:\\Users\\ijung\\anaconda3\\lib\\site-packages\\numpy\\core\\_methods.py:161: RuntimeWarning: invalid value encountered in double_scalars\n",
      "  ret = ret.dtype.type(ret / rcount)\n"
     ]
    },
    {
     "ename": "TypeError",
     "evalue": "'numpy.float64' object cannot be interpreted as an integer",
     "output_type": "error",
     "traceback": [
      "\u001B[1;31m---------------------------------------------------------------------------\u001B[0m",
      "\u001B[1;31mTypeError\u001B[0m                                 Traceback (most recent call last)",
      "\u001B[1;32m<ipython-input-2-56de7e14beb7>\u001B[0m in \u001B[0;36m<module>\u001B[1;34m\u001B[0m\n\u001B[0;32m      2\u001B[0m \u001B[0mimage_intensity\u001B[0m \u001B[1;33m=\u001B[0m \u001B[0msk\u001B[0m\u001B[1;33m.\u001B[0m\u001B[0mimread\u001B[0m\u001B[1;33m(\u001B[0m\u001B[1;34m\"../Data/N2DH-GOWT1/img/t01.tif\"\u001B[0m\u001B[1;33m)\u001B[0m  \u001B[1;31m# load image\u001B[0m\u001B[1;33m\u001B[0m\u001B[1;33m\u001B[0m\u001B[0m\n\u001B[0;32m      3\u001B[0m \u001B[0mimage_intensity\u001B[0m \u001B[1;33m=\u001B[0m \u001B[0mimage_intensity\u001B[0m\u001B[1;33m[\u001B[0m\u001B[1;36m300\u001B[0m\u001B[1;33m:\u001B[0m\u001B[1;36m400\u001B[0m\u001B[1;33m,\u001B[0m \u001B[1;36m300\u001B[0m\u001B[1;33m:\u001B[0m\u001B[1;36m500\u001B[0m\u001B[1;33m]\u001B[0m\u001B[1;33m\u001B[0m\u001B[1;33m\u001B[0m\u001B[0m\n\u001B[1;32m----> 4\u001B[1;33m \u001B[0mimage_regions\u001B[0m \u001B[1;33m=\u001B[0m \u001B[0mrm\u001B[0m\u001B[1;33m.\u001B[0m\u001B[0mdistance_merging_while\u001B[0m\u001B[1;33m(\u001B[0m\u001B[0mimage_regions\u001B[0m\u001B[1;33m,\u001B[0m \u001B[1;36m0.1\u001B[0m\u001B[1;33m,\u001B[0m \u001B[0mimage_intensity\u001B[0m\u001B[1;33m)\u001B[0m\u001B[1;33m\u001B[0m\u001B[1;33m\u001B[0m\u001B[0m\n\u001B[0m\u001B[0;32m      5\u001B[0m \u001B[0mip\u001B[0m\u001B[1;33m.\u001B[0m\u001B[0mshow_image\u001B[0m\u001B[1;33m(\u001B[0m\u001B[0mimage_regions\u001B[0m\u001B[1;33m,\u001B[0m \u001B[1;36m15\u001B[0m\u001B[1;33m,\u001B[0m \u001B[1;36m8\u001B[0m\u001B[1;33m)\u001B[0m\u001B[1;33m\u001B[0m\u001B[1;33m\u001B[0m\u001B[0m\n\u001B[0;32m      6\u001B[0m \u001B[1;33m\u001B[0m\u001B[0m\n",
      "\u001B[1;32m~\\PycharmProjects\\2021-topic-04-team-04\\Functions\\region_merging.py\u001B[0m in \u001B[0;36mdistance_merging_while\u001B[1;34m(reg, threshold, img)\u001B[0m\n\u001B[0;32m    201\u001B[0m     \"\"\"\n\u001B[0;32m    202\u001B[0m \u001B[1;33m\u001B[0m\u001B[0m\n\u001B[1;32m--> 203\u001B[1;33m     \u001B[0mresult_region_distance\u001B[0m \u001B[1;33m=\u001B[0m \u001B[0mregion_distance\u001B[0m\u001B[1;33m(\u001B[0m\u001B[0mimg\u001B[0m\u001B[1;33m,\u001B[0m \u001B[0mreg\u001B[0m\u001B[1;33m)\u001B[0m\u001B[1;33m\u001B[0m\u001B[1;33m\u001B[0m\u001B[0m\n\u001B[0m\u001B[0;32m    204\u001B[0m     \u001B[0minter_region_distances\u001B[0m \u001B[1;33m=\u001B[0m \u001B[0mresult_region_distance\u001B[0m\u001B[1;33m[\u001B[0m\u001B[1;36m0\u001B[0m\u001B[1;33m]\u001B[0m\u001B[1;33m\u001B[0m\u001B[1;33m\u001B[0m\u001B[0m\n\u001B[0;32m    205\u001B[0m     \u001B[0mmeans\u001B[0m \u001B[1;33m=\u001B[0m \u001B[0mresult_region_distance\u001B[0m\u001B[1;33m[\u001B[0m\u001B[1;36m1\u001B[0m\u001B[1;33m]\u001B[0m\u001B[1;33m\u001B[0m\u001B[1;33m\u001B[0m\u001B[0m\n",
      "\u001B[1;32m~\\PycharmProjects\\2021-topic-04-team-04\\Functions\\region_merging.py\u001B[0m in \u001B[0;36mregion_distance\u001B[1;34m(img, reg)\u001B[0m\n\u001B[0;32m     66\u001B[0m     \u001B[0minter_region_distances\u001B[0m \u001B[1;33m=\u001B[0m \u001B[0mnp\u001B[0m\u001B[1;33m.\u001B[0m\u001B[0mones\u001B[0m\u001B[1;33m(\u001B[0m\u001B[1;33m(\u001B[0m\u001B[0mint\u001B[0m\u001B[1;33m(\u001B[0m\u001B[0mmax_region\u001B[0m\u001B[1;33m)\u001B[0m\u001B[1;33m,\u001B[0m \u001B[0mint\u001B[0m\u001B[1;33m(\u001B[0m\u001B[0mmax_region\u001B[0m\u001B[1;33m)\u001B[0m\u001B[1;33m)\u001B[0m\u001B[1;33m)\u001B[0m\u001B[1;33m\u001B[0m\u001B[1;33m\u001B[0m\u001B[0m\n\u001B[0;32m     67\u001B[0m     \u001B[0mmeans\u001B[0m \u001B[1;33m=\u001B[0m \u001B[0mold_srg\u001B[0m\u001B[1;33m.\u001B[0m\u001B[0mmean_region\u001B[0m\u001B[1;33m(\u001B[0m\u001B[0mimg\u001B[0m\u001B[1;33m,\u001B[0m \u001B[0mreg\u001B[0m\u001B[1;33m)\u001B[0m\u001B[1;33m\u001B[0m\u001B[1;33m\u001B[0m\u001B[0m\n\u001B[1;32m---> 68\u001B[1;33m     \u001B[0minter_region_neighbors\u001B[0m \u001B[1;33m=\u001B[0m \u001B[0mfind_neigboring_regions\u001B[0m\u001B[1;33m(\u001B[0m\u001B[0mreg\u001B[0m\u001B[1;33m)\u001B[0m\u001B[1;33m\u001B[0m\u001B[1;33m\u001B[0m\u001B[0m\n\u001B[0m\u001B[0;32m     69\u001B[0m \u001B[1;33m\u001B[0m\u001B[0m\n\u001B[0;32m     70\u001B[0m     \u001B[1;32mfor\u001B[0m \u001B[0mrow_number\u001B[0m \u001B[1;32min\u001B[0m \u001B[0mrange\u001B[0m\u001B[1;33m(\u001B[0m\u001B[1;36m0\u001B[0m\u001B[1;33m,\u001B[0m \u001B[0mint\u001B[0m\u001B[1;33m(\u001B[0m\u001B[0mmax_region\u001B[0m\u001B[1;33m)\u001B[0m\u001B[1;33m)\u001B[0m\u001B[1;33m:\u001B[0m\u001B[1;33m\u001B[0m\u001B[1;33m\u001B[0m\u001B[0m\n",
      "\u001B[1;32m~\\PycharmProjects\\2021-topic-04-team-04\\Functions\\region_merging.py\u001B[0m in \u001B[0;36mfind_neigboring_regions\u001B[1;34m(reg)\u001B[0m\n\u001B[0;32m     18\u001B[0m     \u001B[0mmax_region\u001B[0m \u001B[1;33m=\u001B[0m \u001B[0mmax\u001B[0m\u001B[1;33m(\u001B[0m\u001B[0mreg\u001B[0m\u001B[1;33m.\u001B[0m\u001B[0mflatten\u001B[0m\u001B[1;33m(\u001B[0m\u001B[1;33m)\u001B[0m\u001B[1;33m)\u001B[0m\u001B[1;33m\u001B[0m\u001B[1;33m\u001B[0m\u001B[0m\n\u001B[0;32m     19\u001B[0m     \u001B[0minter_region_neighbors\u001B[0m \u001B[1;33m=\u001B[0m \u001B[0mnp\u001B[0m\u001B[1;33m.\u001B[0m\u001B[0mones\u001B[0m\u001B[1;33m(\u001B[0m\u001B[1;33m(\u001B[0m\u001B[0mint\u001B[0m\u001B[1;33m(\u001B[0m\u001B[0mmax_region\u001B[0m\u001B[1;33m)\u001B[0m\u001B[1;33m,\u001B[0m \u001B[0mint\u001B[0m\u001B[1;33m(\u001B[0m\u001B[0mmax_region\u001B[0m\u001B[1;33m)\u001B[0m\u001B[1;33m)\u001B[0m\u001B[1;33m)\u001B[0m\u001B[1;33m\u001B[0m\u001B[1;33m\u001B[0m\u001B[0m\n\u001B[1;32m---> 20\u001B[1;33m     \u001B[1;32mfor\u001B[0m \u001B[0mregion_number\u001B[0m \u001B[1;32min\u001B[0m \u001B[0mrange\u001B[0m\u001B[1;33m(\u001B[0m\u001B[1;36m1\u001B[0m\u001B[1;33m,\u001B[0m \u001B[0mmax_region\u001B[0m \u001B[1;33m+\u001B[0m \u001B[1;36m1\u001B[0m\u001B[1;33m)\u001B[0m\u001B[1;33m:\u001B[0m\u001B[1;33m\u001B[0m\u001B[1;33m\u001B[0m\u001B[0m\n\u001B[0m\u001B[0;32m     21\u001B[0m         \u001B[0mneighboring_regions\u001B[0m \u001B[1;33m=\u001B[0m \u001B[0mfind_neighbors_one_region\u001B[0m\u001B[1;33m(\u001B[0m\u001B[0mreg\u001B[0m\u001B[1;33m,\u001B[0m \u001B[0mregion_number\u001B[0m\u001B[1;33m)\u001B[0m\u001B[1;33m\u001B[0m\u001B[1;33m\u001B[0m\u001B[0m\n\u001B[0;32m     22\u001B[0m         \u001B[0minter_region_neighbors\u001B[0m\u001B[1;33m[\u001B[0m\u001B[0mregion_number\u001B[0m\u001B[1;33m,\u001B[0m \u001B[0mneighboring_regions\u001B[0m\u001B[1;33m]\u001B[0m \u001B[1;33m=\u001B[0m \u001B[1;36m1\u001B[0m\u001B[1;33m\u001B[0m\u001B[1;33m\u001B[0m\u001B[0m\n",
      "\u001B[1;31mTypeError\u001B[0m: 'numpy.float64' object cannot be interpreted as an integer"
     ]
    }
   ],
   "source": [
    "image_regions = sk.imread(\"../Result_Pictures/Seeded_Region_Growing/N2DH-GOWT1/srg_t01.tif\")\n",
    "image_intensity = sk.imread(\"../Data/N2DH-GOWT1/img/t01.tif\")  # load image\n",
    "image_intensity = image_intensity[300:400, 300:500]\n",
    "image_regions = rm.distance_merging_while(image_regions, 0.1, image_intensity)\n",
    "ip.show_image(image_regions, 15, 8)"
   ],
   "metadata": {
    "collapsed": false,
    "pycharm": {
     "name": "#%%\n"
    }
   }
  },
  {
   "cell_type": "code",
   "execution_count": 3,
   "outputs": [],
   "source": [
    "def find_neigboring_regions(reg):\n",
    "    \"\"\"\n",
    "\n",
    "    :param reg:\n",
    "    :return:\n",
    "    \"\"\"\n",
    "    max_region = max(reg.flatten())\n",
    "    inter_region_neighbors = np.zeros((int(max_region), int(max_region)))\n",
    "    for region_number in range(1, int(max_region)+1):\n",
    "        neighboring_regions = find_neighbors_one_region(reg, region_number)\n",
    "        inter_region_neighbors[int(region_number)-1, neighboring_regions - 1] = 1\n",
    "    inter_region_neighbors = np.triu(inter_region_neighbors)  # upper triangle\n",
    "    return inter_region_neighbors\n",
    "\n",
    "\n",
    "def find_neighbors_one_region(reg, region_number):\n",
    "    \"\"\"\n",
    "\n",
    "    :param reg:\n",
    "    :param region_number:\n",
    "    :return:\n",
    "    \"\"\"\n",
    "    neighboring_regions = np.zeros((reg.shape[0] + 2, reg.shape[1] + 2))\n",
    "    reg = ip.add_border(reg)\n",
    "    reg = reg.astype(int)\n",
    "    pos_pixel_region = np.where(reg == region_number)\n",
    "\n",
    "    neighboring_regions[pos_pixel_region[0], pos_pixel_region[1] - 1] = reg[\n",
    "        pos_pixel_region[0], pos_pixel_region[1] - 1]\n",
    "    neighboring_regions[pos_pixel_region[0], pos_pixel_region[1] + 1] = reg[\n",
    "        pos_pixel_region[0], pos_pixel_region[1] + 1]\n",
    "    neighboring_regions[pos_pixel_region[0] - 1, pos_pixel_region[1]] = reg[\n",
    "        pos_pixel_region[0] - 1, pos_pixel_region[1]]\n",
    "    neighboring_regions[pos_pixel_region[0] + 1, pos_pixel_region[1]] = reg[\n",
    "        pos_pixel_region[0] + 1, pos_pixel_region[1]]\n",
    "\n",
    "    neighboring_regions[pos_pixel_region[0], pos_pixel_region[1]] = 0\n",
    "    neighboring_regions_unique = np.unique(neighboring_regions.flatten())\n",
    "    pos_zero = np.where(neighboring_regions_unique == 0)\n",
    "    neighboring_regions_unique = np.delete(neighboring_regions_unique, pos_zero[0])\n",
    "    #neighboring_regions_unique = neighboring_regions_unique.tolist()\n",
    "    neighboring_regions_unique = neighboring_regions_unique.astype(int)\n",
    "    return neighboring_regions_unique\n",
    "\n",
    "\n",
    "def region_distance(img, reg):\n",
    "    \"\"\"\n",
    "    calculates distance between all regions\n",
    "    :param img: intensity values (2d array)\n",
    "    :param reg: region numbers (2d array)\n",
    "    :return: 2d array with distances between all regions, only in upper pyramid\n",
    "    (region numbers are row and col number)\n",
    "    inter_region_distances is upper triangle matrix with mean intensity distances between regions (2d array)\n",
    "    mean values of all regions (list of floats)\n",
    "    \"\"\"\n",
    "\n",
    "    max_region = int(max(reg.flatten()))\n",
    "    max_intensity = np.amax(img)\n",
    "    inter_region_distances = np.ones((int(max_region), int(max_region)))\n",
    "    means = srg.mean_region(img, reg)\n",
    "    inter_region_neighbors = find_neigboring_regions(reg)\n",
    "\n",
    "    for row_number in range(0, int(max_region)):\n",
    "        neighboring_regions = np.where(inter_region_neighbors[row_number, :] == 1)[0]\n",
    "        for col_number in neighboring_regions:\n",
    "            inter_region_distances[row_number][col_number] = distance_between_regions(row_number, col_number,\n",
    "                                                                                      max_intensity, means)\n",
    "    return inter_region_distances, means, inter_region_neighbors\n",
    "\n",
    "\n",
    "def distance_between_regions(region1, region2, max_intensity, means):\n",
    "    distance = abs(means[region1] - means[region2]) / max_intensity\n",
    "    return distance\n",
    "\n",
    "\n",
    "def one_merged_region_mean(img, reg, region_number):\n",
    "    \"\"\"\n",
    "    calculates the mean of changed region\n",
    "    :param img: intensity values (2d array)\n",
    "    :param reg: region numbers (2d array)\n",
    "    :param region_number: number of the changed region (int)\n",
    "    :return: mean value of changed position (float)\n",
    "    \"\"\"\n",
    "    pos_new_reg = np.where(reg == region_number)\n",
    "    single_mean = np.mean(img[pos_new_reg[0], pos_new_reg[1]])\n",
    "    return single_mean\n",
    "\n",
    "\n",
    "def region_distance_new(img, reg, pos_min_dist, means, inter_region_distances, inter_region_neighbors):\n",
    "    \"\"\"\n",
    "    updates array of distances of mean intensity values between all changed regions\n",
    "    :param img: intensity values (2d array)\n",
    "    :param reg: region numbers (2d array)\n",
    "    :param pos_min_dist: region number of changed regions (tuple(x,y), pos_min_dist[0] is resulting region number,\n",
    "                         pos_min_dist[1] is region_number to be removed)\n",
    "    :param means: mean values of all regions (list of floats)\n",
    "    :param inter_region_distances: distances between mean intensity values of regions (2d array)\n",
    "    :param inter_region_neighbors:\n",
    "    :return: inter_region_distances: updated distances between mean intensity values of regions\n",
    "    \"\"\"\n",
    "\n",
    "    region_count = inter_region_distances.shape[0]\n",
    "    maximal_intensity = np.amax(img)\n",
    "    changed_region1 = int(pos_min_dist[0])  # Regions Nummer 1 die übernommen wird\n",
    "    changed_region2 = int(pos_min_dist[1])\n",
    "    means = update_mean_values(means, changed_region1, changed_region2, img, reg)\n",
    "    inter_region_distances = update_distances(changed_region1, changed_region2, inter_region_distances, region_count,\n",
    "                                              means, maximal_intensity, inter_region_neighbors)\n",
    "    return inter_region_distances\n",
    "\n",
    "\n",
    "def update_distances(changed_region1, changed_region2, inter_region_distances, region_count, means, maximal_intensity,\n",
    "                     inter_region_neighbors):\n",
    "    \"\"\"\n",
    "    updates distance values of changed regions, value 500 for removed regions\n",
    "    :param changed_region1: resulting region number for merged region\n",
    "    :param changed_region2: region number which is going to be removed\n",
    "    :param inter_region_distances: distances between mean intensity values of regions (2d array)\n",
    "    :param region_count: amount of different regions at beginning of merging process (int)\n",
    "    :param means: mean intensity values of regions (list)\n",
    "    :param maximal_intensity: maximal intensity value of image\n",
    "    :param inter_region_neighbors:\n",
    "    :return: updated inter_region distances (2d array)\n",
    "    \"\"\"\n",
    "    neighboring_regions = np.where(inter_region_neighbors[changed_region1, :] != 0)[0]\n",
    "    for col_number in neighboring_regions:\n",
    "        if col_number > changed_region1:\n",
    "            inter_region_distances[changed_region1][col_number] = distance_between_regions(changed_region1, col_number,\n",
    "                                                                                           maximal_intensity, means)\n",
    "    for row_number in neighboring_regions:\n",
    "        if row_number < changed_region1:\n",
    "            inter_region_distances[row_number][changed_region1] = distance_between_regions(changed_region1, row_number,\n",
    "                                                                                           maximal_intensity, means)\n",
    "    inter_region_distances[changed_region2][0:region_count] = 500\n",
    "    inter_region_distances[0:region_count][changed_region2] = 500\n",
    "    return inter_region_distances\n",
    "\n",
    "\n",
    "def update_neighboring_regions(inter_region_neighbors, changed_region1, changed_region2):\n",
    "    inter_region_neighbors[changed_region1, :] = inter_region_neighbors[changed_region1, :] + inter_region_neighbors[\n",
    "                                                                                              changed_region2, :]\n",
    "    return inter_region_neighbors\n",
    "\n",
    "\n",
    "def update_mean_values(means, changed_region1, changed_region2, img, reg):\n",
    "    \"\"\"\n",
    "    updates mean value for merged regions in list of mean values, value 500 for unused means\n",
    "    :param means: mean intensity values of regions (list of ints)\n",
    "    :param changed_region1: region number for merged region (int)\n",
    "    :param changed_region2: region number to be removed (int)\n",
    "    :param img: intensity values (2d array)\n",
    "    :param reg: region numbers (2d array)\n",
    "    :return:\n",
    "    \"\"\"\n",
    "    means[changed_region2] = 500\n",
    "    means[changed_region1] = one_merged_region_mean(img, reg, changed_region1 + 1)\n",
    "    return means\n",
    "\n",
    "\n",
    "def position_of_minimal_distance(dis, min_distance):\n",
    "    minimal_distances = np.where(dis == min_distance)\n",
    "    pos_min_dist = list(zip(minimal_distances[0], minimal_distances[1]))[0]\n",
    "    pos_min_dist = (int(pos_min_dist[0]), int(pos_min_dist[1]))\n",
    "    return pos_min_dist\n",
    "\n",
    "\n",
    "def updates_region_numbers(inter_region_distances, reg, min_distance):\n",
    "    \"\"\"\n",
    "    changes region number to region number of merged region\n",
    "    :param inter_region_distances: distances between mean intensity values of regions (2d array)\n",
    "    :param reg: region numbers (2d array)\n",
    "    :param min_distance: minimal distance of mean intensity values between to regions\n",
    "\n",
    "    :return: reg: updated region numbers (2d array)1\n",
    "    :return: pos_min_dist: position of minimal distance in inter_region_distances array (tuple(x,y))\n",
    "    \"\"\"\n",
    "    pos_min_dist = position_of_minimal_distance(inter_region_distances, min_distance)\n",
    "\n",
    "    pixel_to_change = np.where(reg == pos_min_dist[\n",
    "        1] + 1)  # column in inter_region_distances is region to be changed(column number bigger than row number)\n",
    "    pixel_to_change_rows = pixel_to_change[0]\n",
    "    pixel_to_change_cols = pixel_to_change[1]\n",
    "    reg[pixel_to_change_rows, pixel_to_change_cols] = pos_min_dist[0] + 1\n",
    "    return reg, pos_min_dist\n",
    "\n",
    "\n",
    "def distance_merging_while(reg, threshold, img):\n",
    "    \"\"\"\n",
    "    region merging algorithm by similarity of mean intensity values of regions\n",
    "    :param reg: region numbers (2d array)\n",
    "    :param threshold: distance intensity value below which regions are merged (float between 0 and 1)\n",
    "    :param img: intensity value (2d array)\n",
    "    :return: merged regions by intensity similarity (2d array)\n",
    "    \"\"\"\n",
    "\n",
    "    result_region_distance = region_distance(img, reg)\n",
    "    inter_region_distances = result_region_distance[0]\n",
    "    means = result_region_distance[1]\n",
    "    inter_region_neighbors = result_region_distance[2]\n",
    "\n",
    "    min_distance = np.nanmin(inter_region_distances)\n",
    "    while minimal_distance_is_similar(threshold, min_distance):\n",
    "        updated_regions = updates_region_numbers(inter_region_distances, reg, min_distance)\n",
    "        reg = updated_regions[0]\n",
    "        pos_min_dist = updated_regions[1]\n",
    "\n",
    "        inter_region_neighbors = update_neighboring_regions(inter_region_neighbors, pos_min_dist[0], pos_min_dist[1])\n",
    "        inter_region_distances = region_distance_new(img, reg, pos_min_dist, means, inter_region_distances,\n",
    "                                                     inter_region_neighbors)\n",
    "        min_distance = np.nanmin(inter_region_distances)\n",
    "    return reg\n",
    "\n",
    "\n",
    "def minimal_distance_is_similar(threshold, min_distance):\n",
    "    if min_distance < threshold:\n",
    "        return True\n",
    "    return False\n",
    "\n"
   ],
   "metadata": {
    "collapsed": false,
    "pycharm": {
     "name": "#%%\n"
    }
   }
  },
  {
   "cell_type": "code",
   "execution_count": 5,
   "outputs": [
    {
     "name": "stderr",
     "output_type": "stream",
     "text": [
      "C:\\Users\\marie\\anaconda3\\lib\\site-packages\\skimage\\external\\tifffile\\tifffile.py:2618: RuntimeWarning: py_decodelzw encountered unexpected end of stream\n",
      "  strip = decompress(strip)\n",
      "C:\\Users\\marie\\Documents\\Studium\\Semester4\\Bioinfo\\Projekt\\Functions\\seed_detection.py:51: RuntimeWarning: overflow encountered in ubyte_scalars\n",
      "  neighborhood_distance.append((img[p] - img[i, j]) / img[p])  # adds relative euclidean distance to list\n",
      "C:\\Users\\marie\\Documents\\Studium\\Semester4\\Bioinfo\\Projekt\\Functions\\seed_detection.py:51: RuntimeWarning: invalid value encountered in ubyte_scalars\n",
      "  neighborhood_distance.append((img[p] - img[i, j]) / img[p])  # adds relative euclidean distance to list\n",
      "C:\\Users\\marie\\Documents\\Studium\\Semester4\\Bioinfo\\Projekt\\Functions\\seed_detection.py:51: RuntimeWarning: divide by zero encountered in ubyte_scalars\n",
      "  neighborhood_distance.append((img[p] - img[i, j]) / img[p])  # adds relative euclidean distance to list\n"
     ]
    },
    {
     "data": {
      "text/plain": "<Figure size 1080x576 with 2 Axes>",
      "image/png": "[encoded data removed]"
     },
     "metadata": {
      "needs_background": "light"
     },
     "output_type": "display_data"
    }
   ],
   "source": [
    "image_intensity = sk.imread(\"../Data/N2DH-GOWT1/img/t01.tif\")  # load image\n",
    "image_intensity = image_intensity[300:350, 450:500]\n",
    "image_r = sd.seeds(image_intensity, 0.1, 1)\n",
    "image_r = sd.seed_merging(image_r)\n",
    "image_r = srg.region_growing(image_intensity, image_r)\n",
    "ip.show_image(image_r,15,8)\n"
   ],
   "metadata": {
    "collapsed": false,
    "pycharm": {
     "name": "#%%\n"
    }
   }
  },
  {
   "cell_type": "code",
   "execution_count": 6,
   "outputs": [
    {
     "data": {
      "text/plain": "<Figure size 1080x576 with 2 Axes>",
      "image/png": "[encoded data removed]"
     },
     "metadata": {
      "needs_background": "light"
     },
     "output_type": "display_data"
    }
   ],
   "source": [
    "image_r_copy = image_r.copy()\n",
    "image_r_copy = distance_merging_while(image_r_copy,0.05,image_intensity)\n",
    "ip.show_image(image_r_copy,15,8)\n",
    "#tets"
   ],
   "metadata": {
    "collapsed": false,
    "pycharm": {
     "name": "#%%\n"
    }
   }
  }
 ],
 "metadata": {
  "kernelspec": {
   "display_name": "Python 3",
   "language": "python",
   "name": "python3"
  },
  "language_info": {
   "codemirror_mode": {
    "name": "ipython",
    "version": 2
   },
   "file_extension": ".py",
   "mimetype": "text/x-python",
   "name": "python",
   "nbconvert_exporter": "python",
   "pygments_lexer": "ipython2",
   "version": "2.7.6"
  }
 },
 "nbformat": 4,
 "nbformat_minor": 0
}