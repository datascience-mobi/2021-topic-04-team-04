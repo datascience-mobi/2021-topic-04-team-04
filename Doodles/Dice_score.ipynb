{
 "cells": [
  {
   "cell_type": "code",
   "execution_count": 131,
   "metadata": {
    "collapsed": true
   },
   "outputs": [],
   "source": [
    "import skimage.io as sk\n",
    "import numpy as np\n",
    "from Functions import image_processing as ip"
   ]
  },
  {
   "cell_type": "code",
   "execution_count": 132,
   "outputs": [
    {
     "data": {
      "text/plain": "<Figure size 1080x576 with 2 Axes>",
      "image/png": "[encoded data removed]"
     },
     "metadata": {
      "needs_background": "light"
     },
     "output_type": "display_data"
    },
    {
     "data": {
      "text/plain": "<Figure size 1080x576 with 2 Axes>",
      "image/png": "[encoded data removed]"
     },
     "metadata": {
      "needs_background": "light"
     },
     "output_type": "display_data"
    }
   ],
   "source": [
    "gt = sk.imread(\"../Data/N2DH-GOWT1/gt/man_seg01.tif\")\n",
    "gt_resize = gt[300:350, 400:450]\n",
    "ip.show_image(gt_resize,15,8)\n",
    "\n",
    "segmented_image = sk.imread(\"../t01tifimg.tif\")\n",
    "ip.show_image(segmented_image,15,8)"
   ],
   "metadata": {
    "collapsed": false,
    "pycharm": {
     "name": "#%%\n"
    }
   }
  },
  {
   "cell_type": "code",
   "execution_count": 133,
   "outputs": [],
   "source": [
    "def segmented_image_clip (segmented_image, background_region):\n",
    "    for i in range(0, segmented_image.shape[0]):\n",
    "        for j in range(0, segmented_image.shape[1]):\n",
    "            region = segmented_image[i, j]\n",
    "            if region == background_region:\n",
    "                segmented_image[i, j] = 0\n",
    "            else:\n",
    "                segmented_image[i, j] = 1\n",
    "    return segmented_image\n",
    "\n",
    "def find_background_number (regions):\n",
    "    regions = regions.astype(int)\n",
    "    background_number = np.bincount(regions.flatten()).argmax()\n",
    "    return background_number\n",
    "\n",
    "def gt_clip(gt):\n",
    "    clipped_gt = np.ndarray.clip(gt,0, 1)\n",
    "    return clipped_gt\n",
    "\n",
    "def intersection_count(segmented_image, gt, region_number):\n",
    "    intersection_number = 0\n",
    "    for pixel in np.ndindex(segmented_image.shape):\n",
    "        if segmented_image[pixel] == gt[pixel] == region_number:\n",
    "            intersection_number += 1\n",
    "    return intersection_number\n",
    "\n",
    "def region_count(regions_image, region_number):\n",
    "    count_region = np.sum(regions_image == region_number)\n",
    "    return count_region\n",
    "\n",
    "def region_dice_score(segmented_image, gt, region_number):\n",
    "    count_intersection = intersection_count(segmented_image, gt, region_number)\n",
    "    count_segmented_image = region_count(segmented_image,region_number)\n",
    "    count_gt = region_count(gt, region_number)\n",
    "    region_score = 2* count_intersection/ ( count_segmented_image+ count_gt)\n",
    "    return region_score\n",
    "\n",
    "def dice_score_weighted(segmented_image, gt):\n",
    "    dice_score_background = region_dice_score(segmented_image, gt, 0)\n",
    "    dice_score_nucleus = region_dice_score(segmented_image, gt, 1)\n",
    "    dice_score = 0.5 * (dice_score_nucleus + dice_score_background)\n",
    "    return dice_score\n",
    "\n",
    "def dice_score_unweighted(segmented_image, gt):\n",
    "    count_intersection = intersection_count(segmented_image, gt, 0) + intersection_count(segmented_image, gt, 1)\n",
    "    dice_score = 2*count_intersection/(segmented_image.size + gt.size)\n",
    "    return dice_score\n",
    "\n",
    "\n",
    "def evaluate_accuracy_weighted(segmented_image, gt):\n",
    "    clipped_gt = gt_clip(gt)\n",
    "    background_number = find_background_number(segmented_image)\n",
    "    clipped_segmented_image = segmented_image_clip(segmented_image, background_number)\n",
    "    dice_score = dice_score_weighted(clipped_segmented_image, clipped_gt)\n",
    "    return dice_score\n",
    "\n",
    "def evaluate_accuracy_unweighted(segmented_image, gt):\n",
    "    clipped_gt = gt_clip(gt)\n",
    "    background_number = find_background_number(segmented_image)\n",
    "    clipped_segmented_image = segmented_image_clip(segmented_image, background_number)\n",
    "    dice_score = dice_score_unweighted(clipped_segmented_image, clipped_gt)\n",
    "    return dice_score"
   ],
   "metadata": {
    "collapsed": false,
    "pycharm": {
     "name": "#%%\n"
    }
   }
  },
  {
   "cell_type": "code",
   "execution_count": 134,
   "outputs": [
    {
     "name": "stdout",
     "output_type": "stream",
     "text": [
      "0.922304174427804\n",
      "0.9264\n"
     ]
    }
   ],
   "source": [
    "dice_score_weight = evaluate_accuracy_weighted(segmented_image, gt_resize)\n",
    "dice_score_unweight = evaluate_accuracy_unweighted(segmented_image, gt_resize)\n",
    "print(dice_score_weight)\n",
    "print(dice_score_unweight)"
   ],
   "metadata": {
    "collapsed": false,
    "pycharm": {
     "name": "#%%\n"
    }
   }
  }
 ],
 "metadata": {
  "kernelspec": {
   "display_name": "Python 3",
   "language": "python",
   "name": "python3"
  },
  "language_info": {
   "codemirror_mode": {
    "name": "ipython",
    "version": 2
   },
   "file_extension": ".py",
   "mimetype": "text/x-python",
   "name": "python",
   "nbconvert_exporter": "python",
   "pygments_lexer": "ipython2",
   "version": "2.7.6"
  }
 },
 "nbformat": 4,
 "nbformat_minor": 0
}