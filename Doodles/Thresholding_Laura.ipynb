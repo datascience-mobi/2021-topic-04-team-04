{
 "cells": [
  {
   "cell_type": "code",
   "execution_count": 1,
   "outputs": [],
   "source": [
    "%load_ext autoreload\n",
    "%autoreload 2\n",
    "import numpy as np\n",
    "import skimage.io as sk\n",
    "from Functions import image_processing as ip\n",
    "from Functions import seeded_region_growing as srg\n",
    "from Functions import unseeded_region_growing as urg\n",
    "from Functions import seed_detection as sd\n",
    "from Functions import region_merging as rm\n",
    "from Functions import dice_score as ds\n",
    "from Functions import segmentation as seg\n",
    "from PIL import Image\n",
    "\n",
    "\n"
   ],
   "metadata": {
    "collapsed": false,
    "pycharm": {
     "name": "#%%\n"
    }
   }
  },
  {
   "cell_type": "markdown",
   "source": [
    "## Challenges"
   ],
   "metadata": {
    "collapsed": false,
    "pycharm": {
     "name": "#%% md\n"
    }
   }
  },
  {
   "cell_type": "markdown",
   "source": [
    "### Cells at the border of the image\n",
    "\n",
    "In the ground truth images cells that were only partly shown in the images were not present in the\n",
    "ground truth images. We decided against removing these only partly shown cells, as we thought they\n",
    "should be found by the algorithm. This had a small impact on our dice score, which varies for\n",
    "different images, as a different amount of cells is only partly shown.\n",
    "\n",
    "\n"
   ],
   "metadata": {
    "collapsed": false,
    "pycharm": {
     "name": "#%% md\n"
    }
   }
  },
  {
   "cell_type": "markdown",
   "source": [
    "## Results\n",
    "\n",
    "### Impact of gaussian filter on region growing\n",
    "\n",
    "In this test, the influence of the usage of a gaussian filter before region growing was investigated.\n",
    "\n",
    "Even though the cells appear to be more blurry when using a gaussian filter with sigma is 3, the\n",
    "dice score is higher after using the filter. After using the filter, the cells appear a bit\n",
    "bigger and rounder, what matches the ground truth image more. Our algorithm\n",
    "\n"
   ],
   "metadata": {
    "collapsed": false,
    "pycharm": {
     "name": "#%% md\n"
    }
   }
  },
  {
   "cell_type": "code",
   "execution_count": null,
   "outputs": [],
   "source": [],
   "metadata": {
    "collapsed": false,
    "pycharm": {
     "name": "#%%\n"
    }
   }
  }
 ],
 "metadata": {
  "kernelspec": {
   "display_name": "Python 3",
   "language": "python",
   "name": "python3"
  },
  "language_info": {
   "codemirror_mode": {
    "name": "ipython",
    "version": 2
   },
   "file_extension": ".py",
   "mimetype": "text/x-python",
   "name": "python",
   "nbconvert_exporter": "python",
   "pygments_lexer": "ipython2",
   "version": "2.7.6"
  }
 },
 "nbformat": 4,
 "nbformat_minor": 0
}