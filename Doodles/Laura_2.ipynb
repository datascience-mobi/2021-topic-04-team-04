{
 "cells": [
  {
   "cell_type": "code",
   "execution_count": null,
   "metadata": {
    "collapsed": true
   },
   "outputs": [],
   "source": []
  },
  {
   "cell_type": "code",
   "execution_count": null,
   "outputs": [],
   "source": [
    "%load_ext autoreload\n",
    "%autoreload 2\n",
    "import numpy as np\n",
    "import skimage.io as sk\n",
    "from Functions import image_processing as ip\n",
    "from Functions import seeded_region_growing as srg\n",
    "from Functions import unseeded_region_growing as urg\n",
    "from Functions import seed_detection as sd\n",
    "from Functions import region_merging as rm\n",
    "from Functions import dice_score as ds\n",
    "from Functions import segmentation as seg\n",
    "from PIL import Image"
   ],
   "metadata": {
    "collapsed": false,
    "pycharm": {
     "name": "#%%\n"
    }
   }
  },
  {
   "cell_type": "code",
   "execution_count": null,
   "outputs": [],
   "source": [
    "image_hela33_small = sk.imread(\"../Data/N2DL-HeLa/img/t13.tif\")[100:200, 450:550]\n",
    "image_hela33_small = ip.subtract_minimum(image_hela33_small)\n",
    "image_gt_hela33_small = sk.imread(\"../Data/N2DL-HeLa/gt/man_seg13.tif\")[100:200, 450:550]\n",
    "\n",
    "image_hela33_clipped = ip.image_clipping(image_hela33_small,0.03*np.amax(image_hela33_small),0.1*np.amax(image_hela33_small))\n",
    "image_hela33_clipped_extreme = ip.image_clipping_extreme(image_hela33_small, 0.03*np.amax(image_hela33_small), 0.1*np.amax(image_hela33_small))\n",
    "image_hela33_median = ip.median_filter(image_hela33_small, 5)\n",
    "image_hela33_gauss = ip.gaussian_filter(image_hela33_small, 3)\n",
    "ip.show_three_images_colorbar(image_hela33_small, image_hela33_clipped, image_hela33_clipped_extreme, 0.45)\n",
    "ip.show_three_images_colorbar(image_hela33_median, image_hela33_gauss, image_gt_hela33_small, 0.45)"
   ],
   "metadata": {
    "collapsed": false,
    "pycharm": {
     "name": "#%%\n"
    }
   }
  },
  {
   "cell_type": "code",
   "execution_count": null,
   "outputs": [],
   "source": [
    "image_small_segmented_urg = seg.unseeded_segmentation(image_hela33_small, image_gt_hela33_small, (0,0), 50, 0.01, 300)\n",
    "image_clipped_segmented_urg = seg.unseeded_segmentation(image_hela33_clipped, image_gt_hela33_small, (0,0), 50, 0.1, 300)\n",
    "image_clipped_extreme_segmented_urg = seg.unseeded_segmentation(image_hela33_clipped_extreme, image_gt_hela33_small, (0,0), 50, 0.1, 300)\n",
    "image_median_segmented_urg = seg.unseeded_segmentation(image_hela33_median, image_gt_hela33_small, (0,0), 50, 0.1, 300)\n",
    "image_gauss_segmented_urg = seg.unseeded_segmentation(image_hela33_gauss, image_gt_hela33_small, (0,0), 50, 0.1, 300)\n",
    "ip.show_three_images_colorbar(image_small_segmented_urg, image_clipped_segmented_urg, image_clipped_extreme_segmented_urg, 0.45)\n",
    "ip.show_three_images_colorbar(image_median_segmented_urg,image_gauss_segmented_urg, image_gt_hela33_small, 0.45)\n"
   ],
   "metadata": {
    "collapsed": false,
    "pycharm": {
     "name": "#%%\n"
    }
   }
  }
 ],
 "metadata": {
  "kernelspec": {
   "display_name": "Python 3",
   "language": "python",
   "name": "python3"
  },
  "language_info": {
   "codemirror_mode": {
    "name": "ipython",
    "version": 2
   },
   "file_extension": ".py",
   "mimetype": "text/x-python",
   "name": "python",
   "nbconvert_exporter": "python",
   "pygments_lexer": "ipython2",
   "version": "2.7.6"
  }
 },
 "nbformat": 4,
 "nbformat_minor": 0
}