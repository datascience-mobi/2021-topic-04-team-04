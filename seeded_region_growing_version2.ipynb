{
 "cells": [
  {
   "cell_type": "code",
   "execution_count": null,
   "metadata": {
    "collapsed": true
   },
   "outputs": [],
   "source": [
    "import skimage.io as sk\n",
    "import numpy as np\n",
    "from Functions import image_processing as ip\n",
    "from Functions import seed_detection as sd\n",
    "from Functions import seeded_region_growing as srg"
   ]
  },
  {
   "cell_type": "code",
   "execution_count": null,
   "outputs": [],
   "source": [
    "image = sk.imread(\"Data/N2DH-GOWT1/img/t01.tif\")  # load image\n",
    "img_s = image[100:400, 200:500]\n",
    "ip.show_image(img_s, 15, 8)\n",
    "img_result = sd.seeds(img_s, 0.1, 1)\n",
    "img_result = sd.seed_merging(img_result)\n",
    "#img_result = sd.decrease_region_number(img_result, 50)\n",
    "ip.show_image(img_result, 15, 8)"
   ],
   "metadata": {
    "collapsed": false,
    "pycharm": {
     "name": "#%%\n"
    }
   }
  },
  {
   "cell_type": "code",
   "execution_count": null,
   "outputs": [
    {
     "ename": "KeyboardInterrupt",
     "evalue": "",
     "output_type": "error",
     "traceback": [
      "\u001B[1;31m---------------------------------------------------------------------------\u001B[0m",
      "\u001B[1;31mKeyboardInterrupt\u001B[0m                         Traceback (most recent call last)",
      "\u001B[1;32m<ipython-input-31-f0d1d5f70759>\u001B[0m in \u001B[0;36m<module>\u001B[1;34m\u001B[0m\n\u001B[1;32m----> 1\u001B[1;33m \u001B[0mimg_result\u001B[0m \u001B[1;33m=\u001B[0m \u001B[0msrg\u001B[0m\u001B[1;33m.\u001B[0m\u001B[0mregion_growing\u001B[0m\u001B[1;33m(\u001B[0m\u001B[0mimg_s\u001B[0m\u001B[1;33m,\u001B[0m \u001B[0mimg_result\u001B[0m\u001B[1;33m)\u001B[0m\u001B[1;33m\u001B[0m\u001B[1;33m\u001B[0m\u001B[0m\n\u001B[0m\u001B[0;32m      2\u001B[0m \u001B[0mip\u001B[0m\u001B[1;33m.\u001B[0m\u001B[0mshow_image\u001B[0m\u001B[1;33m(\u001B[0m\u001B[0mimg_result\u001B[0m\u001B[1;33m,\u001B[0m \u001B[1;36m15\u001B[0m\u001B[1;33m,\u001B[0m \u001B[1;36m8\u001B[0m\u001B[1;33m)\u001B[0m\u001B[1;33m\u001B[0m\u001B[1;33m\u001B[0m\u001B[0m\n\u001B[0;32m      3\u001B[0m \u001B[1;33m\u001B[0m\u001B[0m\n\u001B[0;32m      4\u001B[0m \u001B[1;33m\u001B[0m\u001B[0m\n",
      "\u001B[1;32m~\\PycharmProjects\\2021-topic-04-team-04\\Functions\\seeded_region_growing.py\u001B[0m in \u001B[0;36mregion_growing\u001B[1;34m(img, reg)\u001B[0m\n\u001B[0;32m    273\u001B[0m \u001B[1;33m\u001B[0m\u001B[0m\n\u001B[0;32m    274\u001B[0m     \u001B[1;32mwhile\u001B[0m \u001B[0munlabeled_pixel_exist\u001B[0m\u001B[1;33m(\u001B[0m\u001B[0mreg\u001B[0m\u001B[1;33m)\u001B[0m\u001B[1;33m:\u001B[0m\u001B[1;33m\u001B[0m\u001B[1;33m\u001B[0m\u001B[0m\n\u001B[1;32m--> 275\u001B[1;33m         new_distances = update_distances(img, reg, means, pos_min_dist, left_neighbors, right_neighbors, top_neighbors,\n\u001B[0m\u001B[0;32m    276\u001B[0m                                          \u001B[0mbottom_neighbors\u001B[0m\u001B[1;33m,\u001B[0m \u001B[0mleft_distances\u001B[0m\u001B[1;33m,\u001B[0m \u001B[0mright_distances\u001B[0m\u001B[1;33m,\u001B[0m \u001B[0mtop_distances\u001B[0m\u001B[1;33m,\u001B[0m\u001B[1;33m\u001B[0m\u001B[1;33m\u001B[0m\u001B[0m\n\u001B[0;32m    277\u001B[0m                                          bottom_distances)\n",
      "\u001B[1;32m~\\PycharmProjects\\2021-topic-04-team-04\\Functions\\seeded_region_growing.py\u001B[0m in \u001B[0;36mupdate_distances\u001B[1;34m(img, reg, means, new_pixel, left_neighbors, right_neighbors, top_neighbors, bottom_neighbors, left_distances, right_distances, top_distances, bottom_distances)\u001B[0m\n\u001B[0;32m    132\u001B[0m \u001B[1;33m\u001B[0m\u001B[0m\n\u001B[0;32m    133\u001B[0m     \u001B[0mleft_distances\u001B[0m \u001B[1;33m=\u001B[0m \u001B[0mupdate_one_distance\u001B[0m\u001B[1;33m(\u001B[0m\u001B[0mimg\u001B[0m\u001B[1;33m,\u001B[0m \u001B[0mreg\u001B[0m\u001B[1;33m,\u001B[0m \u001B[0mmeans\u001B[0m\u001B[1;33m,\u001B[0m \u001B[0mmax_intensity\u001B[0m\u001B[1;33m,\u001B[0m \u001B[0mnew_pixel\u001B[0m\u001B[1;33m,\u001B[0m \u001B[0mleft_neighbors\u001B[0m\u001B[1;33m,\u001B[0m \u001B[0mleft_distances\u001B[0m\u001B[1;33m)\u001B[0m\u001B[1;33m\u001B[0m\u001B[1;33m\u001B[0m\u001B[0m\n\u001B[1;32m--> 134\u001B[1;33m     \u001B[0mright_distances\u001B[0m \u001B[1;33m=\u001B[0m \u001B[0mupdate_one_distance\u001B[0m\u001B[1;33m(\u001B[0m\u001B[0mimg\u001B[0m\u001B[1;33m,\u001B[0m \u001B[0mreg\u001B[0m\u001B[1;33m,\u001B[0m \u001B[0mmeans\u001B[0m\u001B[1;33m,\u001B[0m \u001B[0mmax_intensity\u001B[0m\u001B[1;33m,\u001B[0m \u001B[0mnew_pixel\u001B[0m\u001B[1;33m,\u001B[0m \u001B[0mright_neighbors\u001B[0m\u001B[1;33m,\u001B[0m \u001B[0mright_distances\u001B[0m\u001B[1;33m)\u001B[0m\u001B[1;33m\u001B[0m\u001B[1;33m\u001B[0m\u001B[0m\n\u001B[0m\u001B[0;32m    135\u001B[0m     \u001B[0mtop_distances\u001B[0m \u001B[1;33m=\u001B[0m \u001B[0mupdate_one_distance\u001B[0m\u001B[1;33m(\u001B[0m\u001B[0mimg\u001B[0m\u001B[1;33m,\u001B[0m \u001B[0mreg\u001B[0m\u001B[1;33m,\u001B[0m \u001B[0mmeans\u001B[0m\u001B[1;33m,\u001B[0m \u001B[0mmax_intensity\u001B[0m\u001B[1;33m,\u001B[0m \u001B[0mnew_pixel\u001B[0m\u001B[1;33m,\u001B[0m \u001B[0mtop_neighbors\u001B[0m\u001B[1;33m,\u001B[0m \u001B[0mtop_distances\u001B[0m\u001B[1;33m)\u001B[0m\u001B[1;33m\u001B[0m\u001B[1;33m\u001B[0m\u001B[0m\n\u001B[0;32m    136\u001B[0m     bottom_distances = update_one_distance(img, reg, means, max_intensity, new_pixel, bottom_neighbors,\n",
      "\u001B[1;32m~\\PycharmProjects\\2021-topic-04-team-04\\Functions\\seeded_region_growing.py\u001B[0m in \u001B[0;36mupdate_one_distance\u001B[1;34m(img, reg, means, max_intensity, new_pixel, one_border_neighbors, one_border_distances)\u001B[0m\n\u001B[0;32m    117\u001B[0m \u001B[1;33m\u001B[0m\u001B[0m\n\u001B[0;32m    118\u001B[0m \u001B[1;32mdef\u001B[0m \u001B[0mupdate_one_distance\u001B[0m\u001B[1;33m(\u001B[0m\u001B[0mimg\u001B[0m\u001B[1;33m,\u001B[0m \u001B[0mreg\u001B[0m\u001B[1;33m,\u001B[0m \u001B[0mmeans\u001B[0m\u001B[1;33m,\u001B[0m \u001B[0mmax_intensity\u001B[0m\u001B[1;33m,\u001B[0m \u001B[0mnew_pixel\u001B[0m\u001B[1;33m,\u001B[0m \u001B[0mone_border_neighbors\u001B[0m\u001B[1;33m,\u001B[0m \u001B[0mone_border_distances\u001B[0m\u001B[1;33m)\u001B[0m\u001B[1;33m:\u001B[0m\u001B[1;33m\u001B[0m\u001B[1;33m\u001B[0m\u001B[0m\n\u001B[1;32m--> 119\u001B[1;33m     \u001B[0mpositions_to_update\u001B[0m \u001B[1;33m=\u001B[0m \u001B[0mnp\u001B[0m\u001B[1;33m.\u001B[0m\u001B[0mwhere\u001B[0m\u001B[1;33m(\u001B[0m\u001B[0mone_border_neighbors\u001B[0m \u001B[1;33m==\u001B[0m \u001B[0mreg\u001B[0m\u001B[1;33m[\u001B[0m\u001B[0mnew_pixel\u001B[0m\u001B[1;33m]\u001B[0m\u001B[1;33m)\u001B[0m\u001B[1;33m\u001B[0m\u001B[1;33m\u001B[0m\u001B[0m\n\u001B[0m\u001B[0;32m    120\u001B[0m     one_border_distances[positions_to_update[0],\n\u001B[0;32m    121\u001B[0m                          \u001B[0mpositions_to_update\u001B[0m\u001B[1;33m[\u001B[0m\u001B[1;36m1\u001B[0m\u001B[1;33m]\u001B[0m\u001B[1;33m]\u001B[0m \u001B[1;33m=\u001B[0m \u001B[0mcalculate_one_distance\u001B[0m\u001B[1;33m(\u001B[0m\u001B[0mmax_intensity\u001B[0m\u001B[1;33m,\u001B[0m \u001B[0mmeans\u001B[0m\u001B[1;33m,\u001B[0m\u001B[1;33m\u001B[0m\u001B[1;33m\u001B[0m\u001B[0m\n",
      "\u001B[1;31mKeyboardInterrupt\u001B[0m: "
     ]
    }
   ],
   "source": [
    "img_result = srg.region_growing(img_s, img_result)\n",
    "ip.show_image(img_result, 15, 8)\n"
   ],
   "metadata": {
    "collapsed": false,
    "pycharm": {
     "name": "#%%\n"
    }
   }
  },
  {
   "cell_type": "code",
   "execution_count": null,
   "outputs": [],
   "source": [],
   "metadata": {
    "collapsed": false,
    "pycharm": {
     "name": "#%%\n"
    }
   }
  }
 ],
 "metadata": {
  "kernelspec": {
   "display_name": "Python 3",
   "language": "python",
   "name": "python3"
  },
  "language_info": {
   "codemirror_mode": {
    "name": "ipython",
    "version": 2
   },
   "file_extension": ".py",
   "mimetype": "text/x-python",
   "name": "python",
   "nbconvert_exporter": "python",
   "pygments_lexer": "ipython2",
   "version": "2.7.6"
  }
 },
 "nbformat": 4,
 "nbformat_minor": 0
}