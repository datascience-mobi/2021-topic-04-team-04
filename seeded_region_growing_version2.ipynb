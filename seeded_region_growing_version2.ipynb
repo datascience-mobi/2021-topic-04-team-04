{
 "cells": [
  {
   "cell_type": "code",
   "execution_count": null,
   "metadata": {
    "collapsed": true
   },
   "outputs": [],
   "source": [
    "import skimage.io as sk\n",
    "from Functions import image_processing as ip\n",
    "from Functions import seed_detection as sd\n",
    "from Functions import seeded_region_growing as srg\n",
    "\n",
    "#  import numpy as np"
   ]
  },
  {
   "cell_type": "code",
   "execution_count": null,
   "outputs": [],
   "source": [
    "image = sk.imread(\"Data/N2DH-GOWT1/img/t01.tif\")  # load image\n",
    "img_s = image[100:400, 200:500]\n",
    "ip.show_image(img_s, 15, 8)\n",
    "img_result = sd.seeds(img_s, 0.1, 1)\n",
    "img_result = sd.seed_merging(img_result)\n",
    "#img_result = sd.decrease_region_number(img_result, 50)\n",
    "ip.show_image(img_result, 15, 8)"
   ],
   "metadata": {
    "collapsed": false,
    "pycharm": {
     "name": "#%%\n"
    }
   }
  },
  {
   "cell_type": "code",
   "execution_count": 8,
   "outputs": [
    {
     "name": "stderr",
     "output_type": "stream",
     "text": [
      "C:\\Users\\L\\anaconda3\\lib\\site-packages\\numpy\\core\\fromnumeric.py:3372: RuntimeWarning: Mean of empty slice.\n",
      "  return _methods._mean(a, axis=axis, dtype=dtype,\n",
      "C:\\Users\\L\\anaconda3\\lib\\site-packages\\numpy\\core\\_methods.py:170: RuntimeWarning: invalid value encountered in double_scalars\n",
      "  ret = ret.dtype.type(ret / rcount)\n"
     ]
    },
    {
     "ename": "KeyboardInterrupt",
     "evalue": "",
     "output_type": "error",
     "traceback": [
      "\u001B[1;31m---------------------------------------------------------------------------\u001B[0m",
      "\u001B[1;31mKeyboardInterrupt\u001B[0m                         Traceback (most recent call last)",
      "\u001B[1;32m<ipython-input-8-f0d1d5f70759>\u001B[0m in \u001B[0;36m<module>\u001B[1;34m\u001B[0m\n\u001B[1;32m----> 1\u001B[1;33m \u001B[0mimg_result\u001B[0m \u001B[1;33m=\u001B[0m \u001B[0msrg\u001B[0m\u001B[1;33m.\u001B[0m\u001B[0mregion_growing\u001B[0m\u001B[1;33m(\u001B[0m\u001B[0mimg_s\u001B[0m\u001B[1;33m,\u001B[0m \u001B[0mimg_result\u001B[0m\u001B[1;33m)\u001B[0m\u001B[1;33m\u001B[0m\u001B[1;33m\u001B[0m\u001B[0m\n\u001B[0m\u001B[0;32m      2\u001B[0m \u001B[0mip\u001B[0m\u001B[1;33m.\u001B[0m\u001B[0mshow_image\u001B[0m\u001B[1;33m(\u001B[0m\u001B[0mimg_result\u001B[0m\u001B[1;33m,\u001B[0m \u001B[1;36m15\u001B[0m\u001B[1;33m,\u001B[0m \u001B[1;36m8\u001B[0m\u001B[1;33m)\u001B[0m\u001B[1;33m\u001B[0m\u001B[1;33m\u001B[0m\u001B[0m\n\u001B[0;32m      3\u001B[0m \u001B[1;33m\u001B[0m\u001B[0m\n\u001B[0;32m      4\u001B[0m \u001B[1;33m\u001B[0m\u001B[0m\n",
      "\u001B[1;32m~\\PycharmProjects\\2021-topic-04-team-04\\Functions\\seeded_region_growing.py\u001B[0m in \u001B[0;36mregion_growing\u001B[1;34m(img, reg)\u001B[0m\n\u001B[0;32m    281\u001B[0m         \u001B[0mbottom_distances\u001B[0m \u001B[1;33m=\u001B[0m \u001B[0mnew_distances\u001B[0m\u001B[1;33m[\u001B[0m\u001B[1;36m3\u001B[0m\u001B[1;33m]\u001B[0m\u001B[1;33m\u001B[0m\u001B[1;33m\u001B[0m\u001B[0m\n\u001B[0;32m    282\u001B[0m \u001B[1;33m\u001B[0m\u001B[0m\n\u001B[1;32m--> 283\u001B[1;33m         regions_new = label_new_pixel(reg, left_distances, right_distances, top_distances, bottom_distances,\n\u001B[0m\u001B[0;32m    284\u001B[0m                                       left_neighbors, right_neighbors, top_neighbors, bottom_neighbors)\n\u001B[0;32m    285\u001B[0m         \u001B[0mreg\u001B[0m \u001B[1;33m=\u001B[0m \u001B[0mregions_new\u001B[0m\u001B[1;33m[\u001B[0m\u001B[1;36m0\u001B[0m\u001B[1;33m]\u001B[0m\u001B[1;33m\u001B[0m\u001B[1;33m\u001B[0m\u001B[0m\n",
      "\u001B[1;32m~\\PycharmProjects\\2021-topic-04-team-04\\Functions\\seeded_region_growing.py\u001B[0m in \u001B[0;36mlabel_new_pixel\u001B[1;34m(reg, left_distances, right_distances, top_distances, bottom_distances, left_neighbors, right_neighbors, top_neighbors, bottom_neighbors)\u001B[0m\n\u001B[0;32m    225\u001B[0m                     \u001B[0mright_neighbors\u001B[0m\u001B[1;33m,\u001B[0m\u001B[1;33m\u001B[0m\u001B[1;33m\u001B[0m\u001B[0m\n\u001B[0;32m    226\u001B[0m                     top_neighbors, bottom_neighbors):\n\u001B[1;32m--> 227\u001B[1;33m     pos_min_dist_return = position_of_smallest_distance(left_distances, right_distances, top_distances,\n\u001B[0m\u001B[0;32m    228\u001B[0m                                                         bottom_distances)\n\u001B[0;32m    229\u001B[0m     \u001B[0mpos_min_dist\u001B[0m \u001B[1;33m=\u001B[0m \u001B[0mpos_min_dist_return\u001B[0m\u001B[1;33m[\u001B[0m\u001B[1;36m0\u001B[0m\u001B[1;33m]\u001B[0m\u001B[1;33m\u001B[0m\u001B[1;33m\u001B[0m\u001B[0m\n",
      "\u001B[1;32m~\\PycharmProjects\\2021-topic-04-team-04\\Functions\\seeded_region_growing.py\u001B[0m in \u001B[0;36mposition_of_smallest_distance\u001B[1;34m(left_distances, right_distances, top_distances, bottom_distances)\u001B[0m\n\u001B[0;32m    163\u001B[0m     \u001B[0mright_min_dist\u001B[0m \u001B[1;33m=\u001B[0m \u001B[0mposition_of_smallest_distance_one_border\u001B[0m\u001B[1;33m(\u001B[0m\u001B[0mright_distances\u001B[0m\u001B[1;33m)\u001B[0m\u001B[1;33m\u001B[0m\u001B[1;33m\u001B[0m\u001B[0m\n\u001B[0;32m    164\u001B[0m     \u001B[0mtop_min_dist\u001B[0m \u001B[1;33m=\u001B[0m \u001B[0mposition_of_smallest_distance_one_border\u001B[0m\u001B[1;33m(\u001B[0m\u001B[0mright_distances\u001B[0m\u001B[1;33m)\u001B[0m\u001B[1;33m\u001B[0m\u001B[1;33m\u001B[0m\u001B[0m\n\u001B[1;32m--> 165\u001B[1;33m     \u001B[0mbottom_min_dist\u001B[0m \u001B[1;33m=\u001B[0m \u001B[0mposition_of_smallest_distance_one_border\u001B[0m\u001B[1;33m(\u001B[0m\u001B[0mbottom_distances\u001B[0m\u001B[1;33m)\u001B[0m\u001B[1;33m\u001B[0m\u001B[1;33m\u001B[0m\u001B[0m\n\u001B[0m\u001B[0;32m    166\u001B[0m \u001B[1;33m\u001B[0m\u001B[0m\n\u001B[0;32m    167\u001B[0m     \u001B[0mpos_min_distances\u001B[0m \u001B[1;33m=\u001B[0m \u001B[1;33m[\u001B[0m\u001B[0mleft_min_dist\u001B[0m\u001B[1;33m,\u001B[0m \u001B[0mright_min_dist\u001B[0m\u001B[1;33m,\u001B[0m \u001B[0mtop_min_dist\u001B[0m\u001B[1;33m,\u001B[0m \u001B[0mbottom_min_dist\u001B[0m\u001B[1;33m]\u001B[0m\u001B[1;33m\u001B[0m\u001B[1;33m\u001B[0m\u001B[0m\n",
      "\u001B[1;32m~\\PycharmProjects\\2021-topic-04-team-04\\Functions\\seeded_region_growing.py\u001B[0m in \u001B[0;36mposition_of_smallest_distance_one_border\u001B[1;34m(one_border_distance)\u001B[0m\n\u001B[0;32m    153\u001B[0m \u001B[1;33m\u001B[0m\u001B[0m\n\u001B[0;32m    154\u001B[0m \u001B[1;32mdef\u001B[0m \u001B[0mposition_of_smallest_distance_one_border\u001B[0m\u001B[1;33m(\u001B[0m\u001B[0mone_border_distance\u001B[0m\u001B[1;33m)\u001B[0m\u001B[1;33m:\u001B[0m\u001B[1;33m\u001B[0m\u001B[1;33m\u001B[0m\u001B[0m\n\u001B[1;32m--> 155\u001B[1;33m     \u001B[0mminimal_distances\u001B[0m \u001B[1;33m=\u001B[0m \u001B[0mnp\u001B[0m\u001B[1;33m.\u001B[0m\u001B[0mwhere\u001B[0m\u001B[1;33m(\u001B[0m\u001B[0mone_border_distance\u001B[0m \u001B[1;33m==\u001B[0m \u001B[0mnp\u001B[0m\u001B[1;33m.\u001B[0m\u001B[0mamin\u001B[0m\u001B[1;33m(\u001B[0m\u001B[0mone_border_distance\u001B[0m\u001B[1;33m)\u001B[0m\u001B[1;33m)\u001B[0m\u001B[1;33m\u001B[0m\u001B[1;33m\u001B[0m\u001B[0m\n\u001B[0m\u001B[0;32m    156\u001B[0m     \u001B[0mpos_min_dist\u001B[0m \u001B[1;33m=\u001B[0m \u001B[0mlist\u001B[0m\u001B[1;33m(\u001B[0m\u001B[0mzip\u001B[0m\u001B[1;33m(\u001B[0m\u001B[0mminimal_distances\u001B[0m\u001B[1;33m[\u001B[0m\u001B[1;36m0\u001B[0m\u001B[1;33m]\u001B[0m\u001B[1;33m,\u001B[0m \u001B[0mminimal_distances\u001B[0m\u001B[1;33m[\u001B[0m\u001B[1;36m1\u001B[0m\u001B[1;33m]\u001B[0m\u001B[1;33m)\u001B[0m\u001B[1;33m)\u001B[0m\u001B[1;33m[\u001B[0m\u001B[1;36m0\u001B[0m\u001B[1;33m]\u001B[0m\u001B[1;33m\u001B[0m\u001B[1;33m\u001B[0m\u001B[0m\n\u001B[0;32m    157\u001B[0m     \u001B[0mpos_min_dist\u001B[0m \u001B[1;33m=\u001B[0m \u001B[1;33m(\u001B[0m\u001B[0mint\u001B[0m\u001B[1;33m(\u001B[0m\u001B[0mpos_min_dist\u001B[0m\u001B[1;33m[\u001B[0m\u001B[1;36m0\u001B[0m\u001B[1;33m]\u001B[0m\u001B[1;33m)\u001B[0m\u001B[1;33m,\u001B[0m \u001B[0mint\u001B[0m\u001B[1;33m(\u001B[0m\u001B[0mpos_min_dist\u001B[0m\u001B[1;33m[\u001B[0m\u001B[1;36m1\u001B[0m\u001B[1;33m]\u001B[0m\u001B[1;33m)\u001B[0m\u001B[1;33m)\u001B[0m\u001B[1;33m\u001B[0m\u001B[1;33m\u001B[0m\u001B[0m\n",
      "\u001B[1;32m<__array_function__ internals>\u001B[0m in \u001B[0;36mamin\u001B[1;34m(*args, **kwargs)\u001B[0m\n",
      "\u001B[1;32m~\\anaconda3\\lib\\site-packages\\numpy\\core\\fromnumeric.py\u001B[0m in \u001B[0;36mamin\u001B[1;34m(a, axis, out, keepdims, initial, where)\u001B[0m\n\u001B[0;32m   2828\u001B[0m     \u001B[1;36m6\u001B[0m\u001B[1;33m\u001B[0m\u001B[1;33m\u001B[0m\u001B[0m\n\u001B[0;32m   2829\u001B[0m     \"\"\"\n\u001B[1;32m-> 2830\u001B[1;33m     return _wrapreduction(a, np.minimum, 'min', axis, None, out,\n\u001B[0m\u001B[0;32m   2831\u001B[0m                           keepdims=keepdims, initial=initial, where=where)\n\u001B[0;32m   2832\u001B[0m \u001B[1;33m\u001B[0m\u001B[0m\n",
      "\u001B[1;32m~\\anaconda3\\lib\\site-packages\\numpy\\core\\fromnumeric.py\u001B[0m in \u001B[0;36m_wrapreduction\u001B[1;34m(obj, ufunc, method, axis, dtype, out, **kwargs)\u001B[0m\n\u001B[0;32m     85\u001B[0m                 \u001B[1;32mreturn\u001B[0m \u001B[0mreduction\u001B[0m\u001B[1;33m(\u001B[0m\u001B[0maxis\u001B[0m\u001B[1;33m=\u001B[0m\u001B[0maxis\u001B[0m\u001B[1;33m,\u001B[0m \u001B[0mout\u001B[0m\u001B[1;33m=\u001B[0m\u001B[0mout\u001B[0m\u001B[1;33m,\u001B[0m \u001B[1;33m**\u001B[0m\u001B[0mpasskwargs\u001B[0m\u001B[1;33m)\u001B[0m\u001B[1;33m\u001B[0m\u001B[1;33m\u001B[0m\u001B[0m\n\u001B[0;32m     86\u001B[0m \u001B[1;33m\u001B[0m\u001B[0m\n\u001B[1;32m---> 87\u001B[1;33m     \u001B[1;32mreturn\u001B[0m \u001B[0mufunc\u001B[0m\u001B[1;33m.\u001B[0m\u001B[0mreduce\u001B[0m\u001B[1;33m(\u001B[0m\u001B[0mobj\u001B[0m\u001B[1;33m,\u001B[0m \u001B[0maxis\u001B[0m\u001B[1;33m,\u001B[0m \u001B[0mdtype\u001B[0m\u001B[1;33m,\u001B[0m \u001B[0mout\u001B[0m\u001B[1;33m,\u001B[0m \u001B[1;33m**\u001B[0m\u001B[0mpasskwargs\u001B[0m\u001B[1;33m)\u001B[0m\u001B[1;33m\u001B[0m\u001B[1;33m\u001B[0m\u001B[0m\n\u001B[0m\u001B[0;32m     88\u001B[0m \u001B[1;33m\u001B[0m\u001B[0m\n\u001B[0;32m     89\u001B[0m \u001B[1;33m\u001B[0m\u001B[0m\n",
      "\u001B[1;31mKeyboardInterrupt\u001B[0m: "
     ]
    }
   ],
   "source": [
    "img_result = srg.region_growing(img_s, img_result)\n",
    "ip.show_image(img_result, 15, 8)\n"
   ],
   "metadata": {
    "collapsed": false,
    "pycharm": {
     "name": "#%%\n"
    }
   }
  },
  {
   "cell_type": "code",
   "execution_count": null,
   "outputs": [],
   "source": [],
   "metadata": {
    "collapsed": false,
    "pycharm": {
     "name": "#%%\n"
    }
   }
  }
 ],
 "metadata": {
  "kernelspec": {
   "display_name": "Python 3",
   "language": "python",
   "name": "python3"
  },
  "language_info": {
   "codemirror_mode": {
    "name": "ipython",
    "version": 2
   },
   "file_extension": ".py",
   "mimetype": "text/x-python",
   "name": "python",
   "nbconvert_exporter": "python",
   "pygments_lexer": "ipython2",
   "version": "2.7.6"
  }
 },
 "nbformat": 4,
 "nbformat_minor": 0
}