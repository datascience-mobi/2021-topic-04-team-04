{
 "cells": [
  {
   "cell_type": "markdown",
   "source": [
    "7 Evaluation measures\n",
    "<br>\n",
    "7.1 Dice score\n",
    "<br>\n",
    "The dice score is a method to determine the accuracy of the segmentation. Thereby, a ground truth image is compared with\n",
    "the result image of the algorithm. The dice score is defined as follows:\n",
    "<br>\n",
    "$$ DSC = \\frac{ 2 \\times |S \\cap G|}{|S| + |G|} $$\n",
    "<br>\n",
    "The intersection is the number of pixels that have the same value in the ground truth and result image. The doubled\n",
    "intersection is divided by the total number of pixels in the ground truth and result image. This delivers a number\n",
    "between zero and one. The higher the value the better was the performance of the algorithm.\n",
    "<br>\n",
    "Another implementation of the dice score would be weighting equally between background and cell pixels. This makes it possible\n",
    "to consider even small regions, for example when there are proportionally few cells compared to the background.\n",
    "\n",
    "$$\\overline{DSC}=\\frac{1}{2} \\sum\\limits_{i=1}^{2} \\left(\\frac{2 \\times |S_i \\cap G_i|}{|S_i|+|G_i|}\\right)$$\n",
    "\n",
    "Thereby, two regions were considered: cells and background. For each region, the dice score was calculated individually\n",
    "and then weighted equally. With that every region has the same influence on the result in spite of the size.\n",
    "The background was defined as the largest region and received another value than every other region in order to create a\n",
    "binary array.\n",
    "image after clipping to binary array\n",
    "\n",
    "\n",
    "equation for standard deviation\n",
    "$$ \\sigma = \\sqrt{\\left(\\frac{1}{9}\\sum\\limits_{i=1}^{9}(x_i-\\overline{x}\\right)^2}$$\n",
    "<br>\n",
    "$$x_i$$\n",
    "$$\\overline{x}$$\n",
    "\n",
    "equation similarity\n",
    "$$s=1-\\frac{\\sigma}{\\sigma_{max}}$$\n",
    "<br>\n",
    "$$\\sigma$$\n",
    "$$\\sigma_{max}$$\n",
    "\n",
    "\n",
    "equation euclidean distance\n",
    "$$d_{max} = max_{1\\leq i\\leq 8} {d_i = \\frac{x-x_i}{x}}$$\n",
    "<br>\n",
    "$$d_{max}$$\n",
    "$$d_i$$\n",
    "$$x$$\n",
    "$$x_i$$"
   ],
   "metadata": {
    "collapsed": false,
    "pycharm": {
     "name": "#%% md\n"
    }
   }
  }
 ],
 "metadata": {
  "kernelspec": {
   "display_name": "Python 3",
   "language": "python",
   "name": "python3"
  },
  "language_info": {
   "codemirror_mode": {
    "name": "ipython",
    "version": 2
   },
   "file_extension": ".py",
   "mimetype": "text/x-python",
   "name": "python",
   "nbconvert_exporter": "python",
   "pygments_lexer": "ipython2",
   "version": "2.7.6"
  }
 },
 "nbformat": 4,
 "nbformat_minor": 0
}