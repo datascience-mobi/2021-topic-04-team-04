{
 "cells": [
  {
   "cell_type": "code",
   "execution_count": null,
   "outputs": [],
   "source": [
    "import numpy as np\n",
    "%pylab\n",
    "%matplotlib inline\n",
    "%load_ext autoreload\n",
    "%autoreload 2\n",
    "\n",
    "from Functions import image_processing as ip\n",
    "from Functions import seed_detection as sd\n",
    "from Functions import seeded_region_growing as srg\n",
    "from Functions import old_seeded_region_growing as old_srg\n",
    "import skimage.io as sk\n",
    "from Functions import region_merging as rm\n",
    "from Functions import dice_score as ds\n",
    "from Functions import segmentation as seg"
   ],
   "metadata": {
    "collapsed": false,
    "pycharm": {
     "name": "#%%\n"
    }
   }
  },
  {
   "cell_type": "markdown",
   "source": [
    "7 Evaluation measures\n",
    "<br>\n",
    "7.1 Dice score\n",
    "<br>\n",
    "The dice score is a method to determine the accuracy of the segmentation. Thereby, a ground truth image is compared with\n",
    "the result image of the algorithm. The ground truth image is a given result picture. The dice score is defined as follows:\n",
    "<br>\n",
    "$$ DSC = \\frac{ 2 \\times |S \\cap G|}{|S| + |G|} $$\n",
    "<br>\n",
    "The intersection is the number of pixels that have the same value in the ground truth and result image. The doubled\n",
    "intersection is divided by the total number of pixels in the ground truth and result image. This delivers a number\n",
    "between zero and one. The higher the value the better was the performance of the algorithm.\n",
    "<br>\n",
    "Another implementation of the dice score would be weighting equally between background and cell pixels. This makes it possible\n",
    "to consider even small regions, for example when there are proportionally few cells compared to the background.\n",
    "\n",
    "$$\\overline{DSC}=\\frac{1}{2} \\sum\\limits_{i=1}^{2} \\left(\\frac{2 \\times |S_i \\cap G_i|}{|S_i|+|G_i|}\\right)$$\n",
    "\n",
    "Thereby, two regions were considered: cells and background. For each region, the dice score was calculated individually\n",
    "and then weighted equally. With that every region has the same influence on the result in spite of the size.\n",
    "The background was defined as the largest region and received another value than every other region in order to create a\n",
    "binary array. With that the ground truth and the result image are comparable and do not depend on different region numbers for every cell.\n",
    "The weighted dice score is important because the background has often a higher proportion in the total image. So loosing cells,\n",
    "could not have such a high impact on the unweighted dice score as desired."
   ],
   "metadata": {
    "collapsed": false
   }
  },
  {
   "cell_type": "markdown",
   "source": [
    "equation for standard deviation\n",
    "$$ \\sigma = \\sqrt{\\left(\\frac{1}{9}\\sum\\limits_{i=1}^{9}(x_i-\\overline{x}\\right)^2}$$\n",
    "<br>\n",
    "$$x_i$$\n",
    "$$\\overline{x}$$\n",
    "\n",
    "equation similarity\n",
    "$$s=1-\\frac{\\sigma}{\\sigma_{max}}$$\n",
    "<br>\n",
    "$$\\sigma$$\n",
    "$$\\sigma_{max}$$\n",
    "\n",
    "\n",
    "equation euclidean distance\n",
    "$$d_{max} = \\mathop{max}_{1\\leq i\\leq 8} \\left\\{ d_i = \\frac{x-x_i}{x} \\right\\}$$\n",
    "<br>\n",
    "$$d_{max}$$\n",
    "$$d_i$$\n",
    "$$x$$\n",
    "$$x_i$$\n"
   ],
   "metadata": {
    "collapsed": false
   }
  },
  {
   "cell_type": "markdown",
   "source": [
    "To test, which preprocessing method leads to the best result, different clipping methods and filters were compared. The\n",
    "total algorithm for seeded region growing was applied to a fraction of an image. Using the weighted and unweighted dice\n",
    "score, the best parameters where defined for every image. Thereby the focus was laid on the optimization of the weighted\n",
    "dice score. The following shows the different preprocessed images:"
   ],
   "metadata": {
    "collapsed": false
   }
  },
  {
   "cell_type": "code",
   "execution_count": null,
   "outputs": [],
   "source": [
    "image_intensity = sk.imread(\"Data/N2DH-GOWT1/img/t31.tif\")\n",
    "image_intensity_small = image_intensity[400:500, 300:400]\n",
    "image_clipped = ip.image_clipping(image_intensity_small,0.1*np.amax(image_intensity_small),0.9*np.amax(image_intensity_small))\n",
    "image_clipped_extreme = ip.image_clipping_extreme(image_intensity_small, 0.03*np.amax(image_intensity_small), 0.1*np.amax(image_intensity_small))\n",
    "image_median = ip.median_filter(image_intensity_small, 5)\n",
    "image_gauss = ip.gaussian_filter(image_intensity_small, 3)\n",
    "image_anisotropic = ip.anisotropic_filter(image_intensity_small)\n",
    "ip.show_three_images_colorbar(image_intensity_small, image_clipped, image_clipped_extreme, 0.45)\n",
    "ip.show_three_images_colorbar(image_median, image_gauss, image_anisotropic, 0.45)"
   ],
   "metadata": {
    "collapsed": false,
    "pycharm": {
     "name": "#%%\n"
    }
   }
  },
  {
   "cell_type": "markdown",
   "source": [
    "On these pictures the seeded region growing algorithm was conducted the parameters were also determined individually for every preprocessed image."
   ],
   "metadata": {
    "collapsed": false
   }
  },
  {
   "cell_type": "code",
   "execution_count": null,
   "outputs": [],
   "source": [
    "image_gt = sk.imread(\"Data/N2DH-GOWT1/gt/man_seg31.tif\")\n",
    "image_gt_small = image_gt[400:500, 300:400]\n",
    "image_small_segmented = seg.seeded_segmentation(image_intensity_small, image_gt_small, 0.9, 0.1, 150)\n",
    "image_clipped_segmented = seg.seeded_segmentation(image_clipped, image_gt_small, 0.01, 0.1, 200)\n",
    "image_clipped_extreme_segmented = seg.seeded_segmentation(image_clipped_extreme, image_gt_small, 0.9, 0.1, 200)\n",
    "image_median_segmented = seg.seeded_segmentation(image_median, image_gt_small, 0.9, 0.1, 150)\n",
    "image_gauss_segmented = seg.seeded_segmentation(image_gauss, image_gt_small, 0.9, 0.1, 200)\n",
    "image_anisotropic_segmented = seg.seeded_segmentation(image_anisotropic, image_gt_small, 0.01, 0.2, 200)\n",
    "ip.show_three_images_colorbar(image_small_segmented, image_clipped_segmented, image_clipped_extreme_segmented, 0.45)\n",
    "ip.show_three_images_colorbar(image_median_segmented,image_gauss_segmented, image_anisotropic_segmented, 0.45)"
   ],
   "metadata": {
    "collapsed": false,
    "pycharm": {
     "name": "#%%\n"
    }
   }
  },
  {
   "cell_type": "markdown",
   "source": [
    "It is visible that the algorithm is working well on every image. The unprocessed image has already a dice score of 0.988.\n",
    "The highest possible dice score is 1 so preprocessing cannot increase the result significantly.\n",
    "Only the median filter increased the result with a weighted dice score of 0.989 slightly. All other filters and clipping\n",
    "methods decreased the dice score a little. The Gauss filter performed the worst on this data set and decreased the dice score\n",
    "to 0.94. This might be because, the Gauss filter blurs edges and thereby makes the identification of cells harder.\n",
    "Otherwise, the range between all values of the dice score is not significantly different, the performance on other, more complicated\n",
    "datasets would be interesting.\n",
    "\n"
   ],
   "metadata": {
    "collapsed": false
   }
  }
 ],
 "metadata": {
  "kernelspec": {
   "display_name": "Python 3",
   "language": "python",
   "name": "python3"
  },
  "language_info": {
   "codemirror_mode": {
    "name": "ipython",
    "version": 2
   },
   "file_extension": ".py",
   "mimetype": "text/x-python",
   "name": "python",
   "nbconvert_exporter": "python",
   "pygments_lexer": "ipython2",
   "version": "2.7.6"
  }
 },
 "nbformat": 4,
 "nbformat_minor": 0
}