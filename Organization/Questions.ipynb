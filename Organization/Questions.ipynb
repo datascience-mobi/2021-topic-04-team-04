{
 "cells": [
  {
   "cell_type": "markdown",
   "metadata": {
    "collapsed": true,
    "pycharm": {
     "name": "#%% md\n"
    }
   },
   "source": [
    "Questions\n",
    "\n",
    "1. Was genau müssen wir mit .gitignore machen?\n",
    "2. Wo ist das Template für die Fragen?\n",
    "3. Was ist bei den Daten gt und img?\n",
    "4. Ist das Bild auf schwarz-weiß runtergebrochen oder wurde ein spezielles Farbschema verwendet?\n",
    "5. Was ist der Dice score?\n"
   ]
  }
 ],
 "metadata": {
  "kernelspec": {
   "display_name": "Python 3",
   "language": "python",
   "name": "python3"
  },
  "language_info": {
   "codemirror_mode": {
    "name": "ipython",
    "version": 2
   },
   "file_extension": ".py",
   "mimetype": "text/x-python",
   "name": "python",
   "nbconvert_exporter": "python",
   "pygments_lexer": "ipython2",
   "version": "2.7.6"
  }
 },
 "nbformat": 4,
 "nbformat_minor": 0
}