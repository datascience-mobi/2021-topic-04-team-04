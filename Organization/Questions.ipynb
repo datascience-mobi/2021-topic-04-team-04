{
 "cells": [
  {
   "cell_type": "markdown",
   "metadata": {
    "collapsed": true,
    "pycharm": {
     "name": "#%% md\n"
    }
   },
   "source": [
    "Questions\n",
    "\n",
    "+ Was genau müssen wir mit .gitignore machen?\n",
    "+ Wo ist das Template für die Fragen?\n",
    "+ Was ist bei den Daten gt und img?\n",
    "+ Ist das Bild auf schwarz-weiß runtergebrochen oder wurde ein spezielles Farbschema verwendet?\n",
    "   Müssen wir das beachten?\n",
    "+ Was ist der Dice score? -> Vergleich zwischen 2 Sets, welche Sets sollen verglichen werden?\n",
    "+ Environment anlegen? Warum und Wie?\n",
    "+ 1 Paper über Code verschnellern: wir haben keine nötige Hardware?\n",
    "+ Können wir ein kleineres Bild zum Ausprobieren verwenden? (Zu lange Rechenzeiten für große Biler)\n",
    "+ Treshold Bestimmung über Otsu-Method?\n",
    "+ Methoden in anderes Markdown importieren?\n",
    "+ Welche Ergebnisse der Bildanalyse brauchen wir für die Präsentation am 12.05.?\n",
    "+ Sind auf den Bildern immer nur der Zellkern angefärbt, oder die gesamte Zelle und wir müssen darin den Zellkern identifizieren?\n",
    "+ Wie lesen wir am besten mehrere Bilder ein?"
   ]
  }
 ],
 "metadata": {
  "kernelspec": {
   "display_name": "Python 3",
   "language": "python",
   "name": "python3"
  },
  "language_info": {
   "codemirror_mode": {
    "name": "ipython",
    "version": 2
   },
   "file_extension": ".py",
   "mimetype": "text/x-python",
   "name": "python",
   "nbconvert_exporter": "python",
   "pygments_lexer": "ipython2",
   "version": "2.7.6"
  }
 },
 "nbformat": 4,
 "nbformat_minor": 0
}