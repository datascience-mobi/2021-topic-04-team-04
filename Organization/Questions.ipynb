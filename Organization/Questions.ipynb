{
 "cells": [
  {
   "cell_type": "markdown",
   "metadata": {
    "collapsed": true,
    "pycharm": {
     "name": "#%% md\n"
    }
   },
   "source": [
    "Questions\n",
    "\n",
    "1. Was genau müssen wir mit .gitignore machen?\n",
    "2. Wo ist das Template für die Fragen?\n",
    "3. Was ist bei den Daten gt und img?\n",
    "4. Ist das Bild auf schwarz-weiß runtergebrochen oder wurde ein spezielles Farbschema verwendet?\n",
    "   Müssen wir das beachten?\n",
    "5. Was ist der Dice score? -> Vergleich zwischen 2 Sets, welche Sets sollen verglichen werden?\n",
    "6. Environment anlegen? Warum und Wie?\n",
    "7. Sollen wir auf die hochgeladenen Daten beim Programmieren zugreifen oder auf dei lokal gespeicherten?\n",
    "   Wie greifen wir auf die hochgeladenen Daten auf Github zu beim programmieren?\n",
    "8. 1 Paper über Code verschnellern: wir haben keine nötige Hardware?\n",
    "9. Können wir ein kleineres Bild zum Ausprobieren verwenden? (Zu lange Rechenzeiten für große Biler)\n",
    "10. Treshold Bestimmung über Otsu-Method?\n",
    "11. Methoden in anderes Markdown importieren?\n",
    "12. Welche Ergebnisse der Bildanalyse brauchen wir für die Präsentation am 12.05.?\n",
    "13. Sind auf den Bildern immer nur der Zellkern angefärbt, oder die gesamte Zelle und wir müssen darin den Zellkern identifizieren?\n",
    "14. Wie lesen wir am besten mehrere Bilder ein?"
   ]
  }
 ],
 "metadata": {
  "kernelspec": {
   "display_name": "Python 3",
   "language": "python",
   "name": "python3"
  },
  "language_info": {
   "codemirror_mode": {
    "name": "ipython",
    "version": 2
   },
   "file_extension": ".py",
   "mimetype": "text/x-python",
   "name": "python",
   "nbconvert_exporter": "python",
   "pygments_lexer": "ipython2",
   "version": "2.7.6"
  }
 },
 "nbformat": 4,
 "nbformat_minor": 0
}