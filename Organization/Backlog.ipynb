{
 "cells": [
  {
   "cell_type": "markdown",
   "metadata": {
    "collapsed": true,
    "pycharm": {
     "name": "#%% md\n"
    }
   },
   "source": [
    "Milestones\n",
    " * Data visualization\n",
    "    * Histograms\n",
    " * Preprocess images:\n",
    "    * Filering\n",
    "        * Try out different filtering methods\n",
    "            * linear and non-linear filtering\n",
    "            * median filter\n",
    "            * anisotropic filtering\n",
    "    * Image clipping\n",
    "    * Edge detection\n",
    "    * Create higher contrast\n",
    " * Implement seeded region growing algorithm\n",
    "    * Automatic seed detection algorithm\n",
    "    * Region growing algorithm\n",
    "        * try out different distancing methods (relative Euclidean distance, difference of region and pixle)\n",
    "        * try out different tresholds\n",
    "        * try out method with 4 or 8 neighbours\n",
    "    * Region merging algorithm\n",
    "        * vary tresholds\n",
    "        * consider different criteria (similarity, size, both)\n",
    " * Implement unseeded region growing algorithm\n",
    " * Expand algorithm to other hyprid methods\n",
    " * Compare seeded and unseeded region growing\n",
    " * Compare with other algorithms\n",
    "    * Tresholding (exchange with other groups)\n",
    "    * assess which method works best on which kind of image\n",
    "    * JSEG algorithm (paper 1)\n",
    "    * segmentation algorithm (Fan et al.)\n",
    "  * Performance measure: Accuracy tests\n",
    "    * Dice score\n",
    "    * Apply other accuracy tests\n",
    "    * Compare\n",
    "  * Evaluate collected results\n",
    "\n"
   ]
  }
 ],
 "metadata": {
  "kernelspec": {
   "display_name": "Python 3",
   "language": "python",
   "name": "python3"
  },
  "language_info": {
   "codemirror_mode": {
    "name": "ipython",
    "version": 2
   },
   "file_extension": ".py",
   "mimetype": "text/x-python",
   "name": "python",
   "nbconvert_exporter": "python",
   "pygments_lexer": "ipython2",
   "version": "2.7.6"
  }
 },
 "nbformat": 4,
 "nbformat_minor": 0
}