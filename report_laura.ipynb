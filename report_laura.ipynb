{
 "cells": [
  {
   "cell_type": "markdown",
   "metadata": {
    "collapsed": true,
    "pycharm": {
     "name": "#%% md\n"
    }
   },
   "source": [
    "## Differences between Seeded and Unseeded Region Growing\n",
    "In seeded region growing the pixels of one region are always connected. In unseeded region growing,\n",
    "pixels which are assigned to the same region, but are not connected can appear.\n",
    "This leads to differences in the region merging process. While region merging by intensity distance\n",
    "leads to good results for seeded region growing, for unseeded region growing pixels of the cell nucleus\n",
    "are easily merged to the background. Because of that, a small threshold needs to be chosen for region\n",
    "merging by intensity distance. Region merging by size leads to better results.\n",
    "\n",
    "A problem we faced when performing region merging on results of the unseeded region merging were\n",
    "the unconnected pixels, which where assigned to a large region. Therefore, they were not\n",
    "merged to their neighbors, because the overall size of the region was above the threshold.\n",
    "This resulted in spots, which resembled salt and pepper noise. In order to improve our result,\n",
    "we used a median filter with a 3x3 sized filter mask. This improved our dice score.\n"
   ]
  },
  {
   "cell_type": "code",
   "execution_count": 1,
   "outputs": [],
   "source": [
    "%load_ext autoreload\n",
    "%autoreload 2\n",
    "\n",
    "import numpy as np\n",
    "import skimage.io as sk\n",
    "import matplotlib.pyplot as plt\n",
    "from Functions import image_processing as ip\n",
    "from Functions import seeded_region_growing as srg\n",
    "from Functions import unseeded_region_growing as urg\n",
    "from Functions import seed_detection as sd\n",
    "from Functions import region_merging as rm\n",
    "from Functions import old_seeded_region_growing as old_srg\n",
    "from Functions import old_unseeded_region_growing as old_urg\n",
    "from Functions import dice_score as ds"
   ],
   "metadata": {
    "collapsed": false,
    "pycharm": {
     "name": "#%%\n"
    }
   }
  },
  {
   "cell_type": "code",
   "execution_count": null,
   "outputs": [],
   "source": [
    "# Bilder nebeneinander: unseeded region growing, merging, median filter\n",
    "\n",
    "image_intensity = sk.imread(\"Data/N2DH-GOWT1/img/t01.tif\")\n",
    "image_intensity_small = image_intensity[300:400, 400:500]\n",
    "image_urg = sk.imread(\"Result_Pictures/Unseeded_Region_Growing/N2DH-GOWT1/urg_t01.tif\")\n",
    "image_urg_small = image_urg[300:400, 400:500]\n",
    "image_ground_truth = sk.imread(\"Data/N2DH-GOWT1/gt/man_seg01.tif\")\n",
    "image_ground_truth_small = image_ground_truth[300:400, 400:500]\n",
    "\n",
    "image_merged = rm.region_merging(image_urg_small, image_intensity_small, 0.001, 10000)\n",
    "score_merged = ds.evaluate_accuracy_weighted(image_merged, gt)\n",
    "\n",
    "ip.show_images_side_by_side()\n"
   ],
   "metadata": {
    "collapsed": false,
    "pycharm": {
     "name": "#%%\n"
    }
   }
  },
  {
   "cell_type": "markdown",
   "source": [
    "\n",
    "### Bei Comparison of Seeded and Unseeded Region Growing:\n",
    "If many seeds are used in the seeded region growing, less pixel have to be assigned\n",
    "during the algorithm which leads to a faster result. In the unseeded region grwoing\n",
    "all pixels except the start pixel have to be assigned using the algorithm, which\n",
    "takes more time.\n",
    "\n",
    "\n"
   ],
   "metadata": {
    "collapsed": false,
    "pycharm": {
     "name": "#%% md\n"
    }
   }
  }
 ],
 "metadata": {
  "kernelspec": {
   "display_name": "Python 3",
   "language": "python",
   "name": "python3"
  },
  "language_info": {
   "codemirror_mode": {
    "name": "ipython",
    "version": 2
   },
   "file_extension": ".py",
   "mimetype": "text/x-python",
   "name": "python",
   "nbconvert_exporter": "python",
   "pygments_lexer": "ipython2",
   "version": "2.7.6"
  }
 },
 "nbformat": 4,
 "nbformat_minor": 0
}