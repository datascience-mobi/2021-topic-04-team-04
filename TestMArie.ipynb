{
 "cells": [
  {
   "cell_type": "code",
   "execution_count": 8,
   "metadata": {
    "collapsed": true
   },
   "outputs": [
    {
     "ename": "SyntaxError",
     "evalue": "invalid syntax (functions.py, line 1)",
     "output_type": "error",
     "traceback": [
      "Traceback \u001B[1;36m(most recent call last)\u001B[0m:\n",
      "  File \u001B[0;32m\"C:\\Users\\marie\\anaconda3\\lib\\site-packages\\IPython\\core\\interactiveshell.py\"\u001B[0m, line \u001B[0;32m3331\u001B[0m, in \u001B[0;35mrun_code\u001B[0m\n    exec(code_obj, self.user_global_ns, self.user_ns)\n",
      "\u001B[1;36m  File \u001B[1;32m\"<ipython-input-8-9b4a43365240>\"\u001B[1;36m, line \u001B[1;32m1\u001B[1;36m, in \u001B[1;35m<module>\u001B[1;36m\u001B[0m\n\u001B[1;33m    from Functions import functions\u001B[0m\n",
      "\u001B[1;36m  File \u001B[1;32m\"C:\\Users\\marie\\Documents\\Studium\\Semester4\\Bioinfo\\Projekt\\Functions\\functions.py\"\u001B[1;36m, line \u001B[1;32m1\u001B[0m\n\u001B[1;33m    %pylab\u001B[0m\n\u001B[1;37m    ^\u001B[0m\n\u001B[1;31mSyntaxError\u001B[0m\u001B[1;31m:\u001B[0m invalid syntax\n"
     ]
    }
   ],
   "source": [
    "from Functions import functions\n",
    "\n",
    "\n",
    "functions.sum(2,4)"
   ]
  },
  {
   "cell_type": "code",
   "execution_count": null,
   "outputs": [],
   "source": [
    "\n",
    "\n",
    "#pathlist = [\"Data/N2DH-GOWT1/img/t01.tif\", \"Data/N2DH-GOWT1/img/t21.tif\", \"Data/N2DH-GOWT1/img/t31.tif\", \"Data/N2DH-GOWT1/img/t39.tif\",\"Data/N2DH-GOWT1/img/t52.tif\",\"Data/N2DH-GOWT1/img/t72.tif\"]\n",
    "#img_l = sk.imread_collection(pathlist)\n",
    "#imshow(img_l)"
   ],
   "metadata": {
    "collapsed": false,
    "pycharm": {
     "name": "#%%\n"
    }
   }
  }
 ],
 "metadata": {
  "kernelspec": {
   "display_name": "Python 3",
   "language": "python",
   "name": "python3"
  },
  "language_info": {
   "codemirror_mode": {
    "name": "ipython",
    "version": 2
   },
   "file_extension": ".py",
   "mimetype": "text/x-python",
   "name": "python",
   "nbconvert_exporter": "python",
   "pygments_lexer": "ipython2",
   "version": "2.7.6"
  }
 },
 "nbformat": 4,
 "nbformat_minor": 0
}