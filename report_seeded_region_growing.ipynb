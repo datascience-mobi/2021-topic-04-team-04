{
 "cells": [
  {
   "cell_type": "markdown",
   "source": [
    "**Implementation and evaluation of region growing**\n",
    "\n",
    "Data Analysis MoBi SS2021, Topic 04: Biomedical image analysis\n",
    "\n",
    "Tutor: Nicolas Peschke\n",
    "\n",
    "Group 04: Marie Becker, Ina Jung, Laura Kaschnitz, Johanna Möller\n",
    "\n",
    "<br>"
   ],
   "metadata": {
    "collapsed": false
   }
  },
  {
   "cell_type": "markdown",
   "source": [
    "**Abstract**\n",
    "\n",
    "Region growing is an interesting approach for image segmentation which can be used to evaluate microscopy images and detecting cell structures.\n",
    "It is further divided it into seeded and unseeded region growing. <br>\n",
    "In this project, algorithms for both seeded and unseeded region growing are implemented and executed on the datasets N2DH-GOWT1, N2DL-HeLa and NIH3T3.\n",
    "Preprocessing and parameter adjustment for merging is applied for difficult datasets to reduce noise and focus on the important information.\n",
    "The dice score evaluates the result and the performance of the algorithm by comparing the segmented images to a manually segmented ground truth image. <br>\n",
    "Both seeded and unseeded region growing algorithms lead to very good results with high dice scores up to 0.99 for simple segmentation tasks.\n",
    "The vectorization of the algorithm allows acceptable speeds despite the large computing power required, since each pixel is assigned individually and intermediate steps in the algorithm are permanently updated.\n",
    "A simultaneous allocation of the pixels could lead to equally good results and faster runtime.\n",
    "Interfering image elements with strongly deviating pixel intensities compared to their neighborhood are still a challenge to be overcome.\n",
    "Even after applying the algorithm, some pixels will not be segmented properly and must be added by manual parameter determination. <br>\n",
    "With an improvement of the runtime by simultaneous assignment of the pixels and automatic parameter determination in combination with better preprocessing, these challenges could be mastered and a more robust algorithm could be obtained.\n",
    "\n",
    "\n",
    "<br>"
   ],
   "metadata": {
    "collapsed": false
   }
  },
  {
   "cell_type": "markdown",
   "source": [
    "**Table of content**\n",
    "\n",
    "1.\tIntroduction\n",
    "2.\tDatasets – N2DH-GOWT1, N2DL-HeLa and NIH3T3\n",
    "3.\tImports\n",
    "4.\tPreprocessing <br>\n",
    "4.1 Clipping <br>\n",
    "4.2 Filtering <br>\n",
    "5.\tSegmentation algorithm <br>\n",
    "5.1 Seeded region growing algorithm <br>\n",
    "5.1.1 Seed selection <br>\n",
    "5.1.1.1 Seed selection based on similarities <br>\n",
    "5.1.1.2 Seed selection based on Eucledian distance <br>\n",
    "5.1.2 Seeded region growing <br>\n",
    "5.2 Unseeded region growing algorithm <br>\n",
    "5.3 Region merging <br>\n",
    "5.3.1 Region merging based on similarity of intensity <br>\n",
    "5.3.2 Region merging based on size <br>\n",
    "5.4 Differences between seeded and unseeded region growing <br>\n",
    "6.\tEvaluation measures <br>\n",
    "6.1 Dice score <br>\n",
    "7. Results <br>\n",
    "7.1 N2DH-GOWT1 <br>\n",
    "7.2 N2DL-HeLa <br>\n",
    "7.2.1 Shifted intensity range in N2DL-HeLa <br>\n",
    "7.2.2 High cell density and intensity differences of nuclei <br>\n",
    "7.2.3 Final results <br>\n",
    "7.3 NIH3T3 <br>\n",
    "7.3.1 Bright spots in NIH3T3 data set <br>\n",
    "7.3.2 Blurs in NIH3T3 data set <br>\n",
    "7.3.3 Changing background intensities <br>\n",
    "7.3.4 Final results <br>\n",
    "7.4 Evaluation of preprocessing <br>\n",
    "7.5 Comparison Seeded and unseeded region growing results <br>\n",
    "8. Challenges <br>\n",
    "8.1 Optimizing Seeded region growing algorithm <br>\n",
    "8.2 Optimizing Unseeded region growing algorithm <br>\n",
    "8.3 Comparison Seeded and Unseeded region growing algorithms <br>\n",
    "8.4 Memory error <br>\n",
    "9. Discussion\n",
    "10. Bibliography\n",
    "\n",
    "<br>"
   ],
   "metadata": {
    "collapsed": false
   }
  },
  {
   "cell_type": "markdown",
   "source": [
    "# Introduction\n",
    "\n",
    "Image segmentation is an image processing program in the field of data analysis, whose role has become increasingly important in recent years.\n",
    "It consists in grouping pixels of the image by commonalities of image intensities and thus creating regions of pixels that can be used for data analysis and evaluation.\n",
    "In this way, image content can be simplified, and its representation can be modified by using methods like thresholding, boundary or region-based segmentation or hybrid techniques.\n",
    "Image segmentation is often the first step in image analysis. It is widely used, especially in the medical field, but also in the processing of geographical data.\n",
    "\n",
    "Region growing is a subset of the hybrid techniques of image segmentation which can be used for cell nuclei segmentation.\n",
    "\n",
    "This class of methods can be further subdivided into seeded and unseeded region growing, while the focus in this project lies on seeded region growing.\n",
    "Here, selected initial seeds are assigned pixels from the neighborhood if their relative Euclidean distance to the seeds is below a certain threshold.\n",
    "Subsequently, certain regions are merged to combine similar or small regions (Shih and Cheng, 2005).\n",
    "\n",
    "After implementing the seeded region growing algorithm, its performance will be evaluated.\n",
    "For this, result images are compared to already segmented gt-images by using the Dice score.\n",
    "Finally, seeded and unseeded region growing are also compared with each other using the Dice Score.\n",
    "\n",
    "<br>"
   ],
   "metadata": {
    "collapsed": false
   }
  },
  {
   "cell_type": "markdown",
   "source": [
    "# Datasets – N2DH-GOWT1, N2DL-HeLa and NIH3T3\n",
    "\n",
    "In order to run and test the implemented seeded region growing algorithm, three different datasets were used: N2DH-GOWT1, N2DL-HeLa and NIH3T3.\n",
    "The datasets consist of a total of 28 image files, in which different structures of the nucleus were stained using the fluorescent protein GFP.\n",
    "Attached to the data sets are gt-images where the nuclei have already been segmented.\n",
    "The images and gt-images of these datasets are often used to evaluate the performance of newly implemented algorithms.\n",
    "\n",
    "Each dataset has specific challenges that need to be considered.\n",
    "\n",
    "In the first dataset N2DH-GOWT1, transcription factor Oct 4 was stained by GFP in mouse embryonic stem cells.\n",
    "The nuclei are well in focus and do not overlap.\n",
    "There are no reflections or blurs.\n",
    "However, the stained nuclei differ greatly in brightness.\n",
    "Compared to the other data sets, N2DH-GOWT1 is considered to be the easiest to work with.\n",
    "\n",
    "N2DL-HeLa shows GFP labeled core histone 2b proteins from human cervical carcinomas.\n",
    "Overall, the cell density is high whereas the resolution is low, and the nuclei vary greatly in brightness.\n",
    "Furthermore, the intensity values of the images lie between 33 000 and 36 000.\n",
    "There are no interfering effects due to reflections or blurs.\n",
    "\n",
    "The last dataset NIH3T3 consists of mouse embryo fibroblasts.\n",
    "EGFP was used to label the CD-tagged protein.\n",
    "In NIH3T3 the nuclei are displayed in a very low contrast and differ strongly in their size and shape.\n",
    "Very bright regions, presumably caused by reflections from the microscope, probably make this data set the most challenging.\n",
    "\n",
    "<br>"
   ],
   "metadata": {
    "collapsed": false
   }
  },
  {
   "cell_type": "markdown",
   "source": [
    "# Imports\n",
    "\n",
    "In order to test the implemented algorithm, initial uploads of the datasets and various modules were made. <br>\n",
    "The modules access self-implemented functions in other notebooks or import python modules lieke numpy, skimage and medpy."
   ],
   "metadata": {
    "collapsed": false
   }
  },
  {
   "cell_type": "code",
   "execution_count": null,
   "outputs": [],
   "source": [
    "%load_ext autoreload\n",
    "%autoreload 2\n",
    "\n",
    "import skimage.io as sk\n",
    "from Functions import image_processing as ip\n",
    "from Functions import seeded_region_growing as srg\n",
    "from Functions import unseeded_region_growing as urg\n",
    "from Functions import seed_detection as sd\n",
    "from Functions import visualization as vis"
   ],
   "metadata": {
    "collapsed": false,
    "pycharm": {
     "name": "#%%\n"
    }
   }
  },
  {
   "cell_type": "markdown",
   "source": [
    "The test data sets were uploaded to the GitHub.\n",
    "Consequently, they can be accessed and displayed on PyCharm.\n",
    "Here an image of each data set is shown."
   ],
   "metadata": {
    "collapsed": false
   }
  },
  {
   "cell_type": "code",
   "execution_count": null,
   "outputs": [],
   "source": [
    "vis.load_images()"
   ],
   "metadata": {
    "collapsed": false,
    "pycharm": {
     "name": "#%%\n"
    }
   }
  },
  {
   "cell_type": "markdown",
   "source": [
    "# Preprocessing\n",
    "Preprocessing is an important step in the preparation of data.\n",
    "Clipping, filtering and other methods can be used to optimize the data to yield better results of the algorithm.\n",
    "For instance, background noise can be decreased, and the image can be reduced to its essential content.\n",
    "However, it is crucial to avoid losing too much relevant information by overuse of preprocessing.\n",
    "\n",
    "The algorithm will be applied to both unprocessed and preprocessed images.\n",
    "By comparing the result images the influence of preprocessing can be tested.\n",
    "\n",
    "## Clipping\n",
    "With the clipping method, all intensity values of an image below or above manually defined thresholds will be set to their value.\n",
    "This allows to combine extreme values and to reduce the intensity spectrum.\n",
    "\n",
    "For clipping, a pre-implemented method from the numpy module is used.\n",
    "\n",
    "In addition, a separate method was implemented in which the values below or above the thresholds were set to the minimum and maximum intensities of the image.\n",
    "This variant is intended to increase the contrast of the combined intensities to the remaining.\n",
    "Below the unclipped picture (left), the normal clipped picture (middle) and the picture clipped with the self implemented funtion (right) are shown:"
   ],
   "metadata": {
    "collapsed": false
   }
  },
  {
   "cell_type": "code",
   "execution_count": null,
   "outputs": [],
   "source": [
    "vis.clipping_examples()"
   ],
   "metadata": {
    "collapsed": false,
    "pycharm": {
     "name": "#%%\n"
    }
   }
  },
  {
   "cell_type": "markdown",
   "source": [
    "In order to reduce disturbances of the image caused by very bright intensity values, the functions remove_bright_spots\n",
    "and remove_bright_spots_with_border were implemented. The first method sets the intensity values of bright spots to an\n",
    "intensity similar to the background.\n",
    "The second method clips the bright spot together with a border around the bright spots of variable size.\n",
    "This will be very useful for the third data set to fade very bright spots into the background using two different thresholds:"
   ],
   "metadata": {
    "collapsed": false
   }
  },
  {
   "cell_type": "code",
   "execution_count": null,
   "outputs": [],
   "source": [
    "vis.bright_spots_example()"
   ],
   "metadata": {
    "collapsed": false,
    "pycharm": {
     "name": "#%%\n"
    }
   }
  },
  {
   "cell_type": "markdown",
   "source": [
    "## Filtering\n",
    "Median ang gaussian filtering were considered to improve the segmentation results.\n",
    "\n",
    "The median filter sorts the intensity values of the specified neighborhood and assigns the median value to the central pixel.\n",
    "\n",
    "The Gaussian filter is a linear filter that weights the intensity values of the specified neighborhood with a Gaussian distribution.\n",
    "Subsequently, the calculated mean value is assigned to the central pixel.\n",
    "Due to the weighting, the Gaussian filter is an improvement of the Mean filter.\n",
    "\n",
    "A pre-implemented function of the numpy module has been used for both filtering methods."
   ],
   "metadata": {
    "collapsed": false
   }
  },
  {
   "cell_type": "markdown",
   "source": [
    "# Segmentation algorithms\n",
    "## Seeded region growing algorithm\n",
    "Seeded region growing is a sub-method of image segmentation.\n",
    "It consists of the determination of initial seeds, followed by the assignment of pixels to the seeds, known as seeded region growing.\n",
    "Regions can then be combined in region merging.\n",
    "The implementation of the seeded region algorithm is based on the paper of Frank Y. Shih and Shouxian Cheng (Shih and Cheng, 2005)."
   ],
   "metadata": {
    "collapsed": false
   }
  },
  {
   "cell_type": "markdown",
   "source": [
    "### Seed selection\n",
    "In order for pixels to be selected as seeds, they must fulfill two conditions.\n",
    "One concerns the similarity, the other the Euclidean distance of a pixel to its neighborhood.\n",
    "\n",
    "#### Seed selection based on similarities\n",
    "\n",
    "To evaluate the similarity, the standard deviation $$\\sigma$$ of each pixel to its 3x3 neighborhood is calculated:\n",
    "\n",
    "$$ \\sigma = \\sqrt{\\left(\\frac{1}{9}\\sum\\limits_{i=1}^{9}(x_i-\\overline{x}\\right)^2}$$\n",
    "\n",
    "with $$x_i$$ as pixel intensities and $$\\overline{x_i}$$ as the mean intensities of the 3x3 neighborhood of a pixel.\n",
    "$$\\sigma$$ is then normalized by dividing by the maximum value of all calculated standard deviations and the similarity $$s$$ is obtained from the following equation:\n",
    "\n",
    "$$s=1-\\frac{\\sigma}{\\sigma_{max}}$$\n",
    "The similarity $$s$$ is then compared to a threshold.\n",
    "If $$s$$ is greater than the threshold, the pixel can be considered as seed. For this purpose, Otsu thresholding was used to define the threshold value."
   ],
   "metadata": {
    "collapsed": false
   }
  },
  {
   "cell_type": "markdown",
   "source": [
    "#### Seed Selection based on Euclidean Distance\n",
    "\n",
    "Now all pixels whose similarity $$s$$ is greater than a threshold are further used for seed selection based on Eucledian distance in order to exclude pixels that lie on the border between two regions.\n",
    "The maximum value $$d_{max}$$ of the Euclidean distances of a pixel to its neighborhood is calculated by:\n",
    "\n",
    "$$d_{max} = \\mathop{max}_{1\\leq i\\leq 8} \\left\\{ d_i = \\frac{x-x_i}{x} \\right\\}$$\n",
    "$$d_{max}$$ is then also compared to the threshold.\n",
    "If $$d_{max}$$ is lower than the threshold, the pixel is considered a seed.\n",
    "\n",
    "For visualization the  algorithm is applied to a section of the loaded image (left).\n",
    "The implemented algorithm results in the following seeds (right)."
   ],
   "metadata": {
    "collapsed": false
   }
  },
  {
   "cell_type": "code",
   "execution_count": null,
   "outputs": [],
   "source": [
    "image_intensity_small = sk.imread(\"Data/N2DH-GOWT1/img/t01.tif\")[300:400, 400:500]\n",
    "image_seeds = sd.seeds(image_intensity_small, 0.5)\n",
    "ip.show_two_images_colorbar(image_intensity_small, image_seeds, 0.65)"
   ],
   "metadata": {
    "collapsed": false,
    "pycharm": {
     "name": "#%%\n"
    }
   }
  },
  {
   "cell_type": "markdown",
   "source": [
    "### Seeded region growing\n",
    "Before starting the region growing algorithm based on the selected seeds, the seeds have to be assigned to regions."
   ],
   "metadata": {
    "collapsed": false
   }
  },
  {
   "cell_type": "code",
   "execution_count": null,
   "outputs": [],
   "source": [
    "image_regions_from_seeds = sd.seed_merging(image_seeds)"
   ],
   "metadata": {
    "collapsed": false,
    "pycharm": {
     "name": "#%%\n"
    }
   }
  },
  {
   "cell_type": "markdown",
   "source": [
    "The seeded region growing algorithm labels all pixels to the regions created out of the seeds iteratively.\n",
    "Thereby, it always labels the pixel with the closest intensity distance to one of its neighboring regions first\n",
    "(Gómez et al., 2007), (Shih and Cheng, 2005).\n",
    "\n",
    "The algorithm follows the steps below:\n",
    "1. First, the neighboring pixels to the created regions are selected and stored in four 2d numpy arrays for left, right,\n",
    "top and bottom neighbors.\n",
    "1. The distance of these pixels to its neighboring regions is calculated based on previously computed mean intensity\n",
    "values of the regions. The formula $$dist = \\frac{|p - \\bar r_n|}{intensity_{max}}$$ is used.\n",
    "1. The smallest distance is selected, and the associated pixel position determined. This pixel is now merged to its\n",
    "neighboring regions.\n",
    "1. Before the next pixel can be selected, the mean intensity value of the changed region, the arrays of neighboring\n",
    "regions, and the distances to the changed region need to be recalculated.\n",
    "1. Again, the most similar pixel is selected and labeled. This procedure is repeated until all pixels are labeled.\n",
    "\n",
    "Below the results of seeded region growing are shown (original image left, seeds middle, image after region growing right)"
   ],
   "metadata": {
    "collapsed": false
   }
  },
  {
   "cell_type": "code",
   "execution_count": null,
   "outputs": [],
   "source": [
    "image_regions = srg.region_growing(image_intensity_small, image_regions_from_seeds.copy())\n",
    "ip.show_three_images_colorbar(image_intensity_small, image_seeds, image_regions, 0.45)"
   ],
   "metadata": {
    "collapsed": false,
    "pycharm": {
     "name": "#%%\n"
    }
   }
  },
  {
   "cell_type": "markdown",
   "source": [
    "## Unseeded region growing algorithm\n",
    "Furthermore, another region growing algorithm was implemented based on the paper of Zheng Lin, Jesse Jin and Hugues Talbot (Lin et al., 2000). In difference to seeded region growing where several pixels are detected before the algorithm start, in unseeded region growing only one start pixel is chosen randomly. The algorithm is similar to seeded region growing and follows the steps below:\n",
    "1. Based on the first seed the neighboring pixel are selected and stored in 2d numpy arrays for left, right top and bottom neighbors.\n",
    "1. The intensity distance of these neighboring pixels to the start region is calculated according to <br>\n",
    "$$dist = |p - \\bar r_n|$$\n",
    "1. The smallest distance and the associated pixel are selected.\n",
    "1. This pixel is now labeled. For labeling three options exist:\n",
    "1. If the intensity distance of the pixel is smaller than a threshold, the pixel is merged to its neighboring region\n",
    "1. If the intensity distance of the still unlabeled pixel to another region is smaller than the threshold, the pixel is merged to this region. This only makes sense when the algorithm continues and more regions exist.\n",
    "1. If both previous conditions are false, the pixel must belong to a new region. A new region is added.\n",
    "1. After labeling the first pixel, the arrays of neighboring pixel need to be updated, and the intensity distances are recalculated.\n",
    "1. This is used to calculate the pixel which is labeled next according to the above conditions. The algorithm continues until all pixel are labeled to a region.\n",
    "The result of unseeded region growing can be seen below (unprocessed image left, result of seeded region growing right).\n",
    "Here the pixel on position (0,0) is selected as starting point."
   ],
   "metadata": {
    "collapsed": false
   }
  },
  {
   "cell_type": "code",
   "execution_count": null,
   "outputs": [],
   "source": [
    "image_result_unseeded = urg.unseeded_region_growing_algorithm(image_intensity_small, (0,0), 5)\n",
    "ip.show_two_images_colorbar(image_intensity_small, image_result_unseeded, 0.65)"
   ],
   "metadata": {
    "collapsed": false,
    "pycharm": {
     "name": "#%%\n"
    }
   }
  },
  {
   "cell_type": "markdown",
   "source": [
    "## Region merging\n",
    "In both algorithms, seeded and unseeded region growing too many regions are received due to intensity differences in the background as well as in the cell nuclei.\n",
    "To solve this over-segmentation a region merging algorithm was implemented.\n",
    "The received regions are merged based on two criteria: similarity of intensity values and region size.\n",
    "\n",
    "### Region merging based on similarity of intensity\n",
    "The first selection criteria is implemented via the following procedure:\n",
    "1. First the neighboring regions are determined for every region and stored in a 2d numpy array.\n",
    "1. This is used to calculate the distances between all neighboring regions which are stored in an upper triangle 2d\n",
    "numpy array. The distance between two regions is calculated using <br>\n",
    "$$dist = \\frac{\\bar r_m - \\bar r_n}{intensity_{max}}$$\n",
    "1. Then the most similar regions are selected and merged.\n",
    "1. This procedure is repeated until the distance between the most similar regions is bigger than a threshold. For that, in every\n",
    "iteration the mean intensity value of the newly merged region, and the distances to its neighboring regions are updated.\n",
    "The numpy array, in which neighboring regions are stored is updated as well.\n",
    "\n",
    "### Region merging based on size\n",
    "Region merging by size follows the steps below:\n",
    "1. First the size of every region is calculated and stored in a 1d array.\n",
    "1. The smallest region is selected and compared to a threshold. If it is smaller, the algorithm continues.\n",
    "1. The previously determined neighboring regions are used to find out the most similar neighboring region by calculating\n",
    "the distances using the same formula. The selected smallest region is merged to its most similar neighbor.\n",
    "1. Afterwards, region sizes are updated, the smallest region is recomputed and its size is compared to the threshold.\n",
    "1. The next most similar neighboring region is determined based on recalculated distances and neighboring regions.\n",
    "The algorithm stops as soon as the smallest region is bigger than the threshold.\n",
    "\n",
    "To easily differentiate between nuclei and background, a clipping algorithm is used on the result of the region merging\n",
    "algorithm. This algorithm clips nuclei to the intensity value 1 and background to the value 0."
   ],
   "metadata": {
    "collapsed": false
   }
  },
  {
   "cell_type": "code",
   "execution_count": null,
   "outputs": [],
   "source": [
    "vis.region_growing_example()"
   ],
   "metadata": {
    "collapsed": false,
    "pycharm": {
     "name": "#%%\n"
    }
   }
  },
  {
   "cell_type": "markdown",
   "source": [
    "The figures compare the over-segmented image with the merged image after region merging by intensity\n",
    "similarity, with the image after complete merging, and with the clipped image (from left to right).\n",
    "The first row shows the results of seeded region growing.\n",
    "In the second row the results of unseeded region growing can be seen.\n",
    "\n",
    "## Differences between Seeded and Unseeded region growing\n",
    "In seeded region growing the pixels of one region are always connected while in unseeded region growing,\n",
    "pixels which are assigned to the same region, but are not connected can appear.\n",
    "This leads to differences in the region merging process. While region merging by intensity distance\n",
    "leads to good results for seeded region growing, for unseeded region growing pixels of the cell nucleus\n",
    "are easily merged to the background. Because of that, a small threshold needs to be chosen for region\n",
    "merging by intensity distance.\n",
    "\n",
    "Region merging by size leads to better results, although some unconnected pixel remained.\n",
    "That's because in unseeded region growing regions are not limited to one nucleus.\n",
    "So single pixel appear which belong to big, distant regions and can not be merged.\n",
    "This resulted in spots, which resembled salt and pepper noise.\n",
    "\n",
    "In order to improve our result,\n",
    "a median filter with a 3x3 sized filter mask was used which improved the dice score. When using a\n",
    "bigger filter size, the holes within the nuclei shirk, which is an improvement, but nuclei that are\n",
    "only partly detected are merged to the background and lost. We decided that it is more important to\n",
    "see all nuclei, even if they are only partly detected. Following this, a filter with size 3 was used.\n",
    "\n",
    "Another difference to consider is the normalization of calculated intensity distances.\n",
    "In seeded region growing intensity distances are always normalized to values between 0 and 1.\n",
    "Instead, in unseeded region growing only differences are calculated. This needs to be considered in preprocessing.\n",
    "However, in region merging normalized distances are used which also affects unseeded region growing.\n",
    "\n",
    "# Evaluation measures\n",
    "## Dice score\n",
    "The dice score is a method to determine the accuracy of the segmentation. Thereby, a ground truth image (given resulting picture) is compared with\n",
    "the resulting image of the algorithm. The dice score is defined as follows:\n",
    "<br>\n",
    "$$ DSC = \\frac{ 2 \\times |S \\cap G|}{|S| + |G|} $$\n",
    "<br>\n",
    "The intersection is the number of pixels that have the same value in the ground truth and result image. The doubled\n",
    "intersection is divided by the total number of pixels in the ground truth and result image. This delivers a number\n",
    "between zero and one. The higher the value the better was the performance of the algorithm.\n",
    "<br>\n",
    "To evaluate an algorithm more accurately the dice score can be weighting equally between different regions\n",
    "(weighted dice score).\n",
    "This makes it possible to consider small and bigger regions equally.\n",
    "This is important in nuclei detection because there are proportionally few nuclei compared to the background.\n",
    "So loosing nuclei would not have such a high impact on the unweighted dice score as desired.\n",
    "<br>\n",
    "$$\\overline{DSC}=\\frac{1}{2} \\sum\\limits_{i=1}^{2} \\left(\\frac{2 \\times |S_i \\cap G_i|}{|S_i|+|G_i|}\\right)$$\n",
    "<br>\n",
    "In this case two regions were considered: nuclei and background. For each region, the dice score was calculated\n",
    "individually and then weighted equally.\n",
    "For implementation, the background was defined as the largest region and all other regions were considered as nuclei\n",
    "in order to create a binary array.\n",
    "This makes it possible to compare the ground truth, and the resulting images without depending on equal region numbers\n",
    "for every nucleus.\n",
    "\n",
    "# Results\n",
    "## N2DH-GOWT1\n",
    "The result of the seeded region growing on the image t01 of the N2DH-GOWT1 is shown below\n",
    "(original image, result of seeded region growing, result after merging and clipping, gt image (from left to right)).\n",
    "An unweighted dice score of 0.982, and a weighted dice score of 0.928 were obtained.\n",
    "\n",
    "Comparing the original image with the segmentation result all visible nuclei were caught.\n",
    "However, in the ground truth image some nuclei are missing, which might be a mistake in the ground truth images.\n",
    "This difference is reflected in the dice score. In the weighted dice score missing nuclei have a bigger impact.\n",
    "The weighted dice score result of 0.928 is still satisfying."
   ],
   "metadata": {
    "collapsed": false
   }
  },
  {
   "cell_type": "code",
   "execution_count": null,
   "outputs": [],
   "source": [
    "vis.results_gowt1_seeded()"
   ],
   "metadata": {
    "collapsed": false,
    "pycharm": {
     "name": "#%%\n"
    }
   }
  },
  {
   "cell_type": "markdown",
   "source": [
    "The following images show the results of the unseeded region growing algorithm on the same picture (t01).\n",
    "A dice score of 0.963 (unweighted) and 0.870 (weighted) was achieved.\n",
    "The lower weighted dice score confirms the remaining salt and pepper noise remaining in the merged picture (left),\n",
    "which is also visible in the final clipped image (second picture).\n",
    "A 3x3 median filter (third image) improves the result, and the clipped image (right).\n",
    "The weighted dice score increases to 0.929 (unweighted: 0.982) which is similar to the result of seeded region growing.\n",
    "The similar dice scores, and the same detected nuclei with both algorithms strengthen the theory of mistakes in the ground truth images."
   ],
   "metadata": {
    "collapsed": false
   }
  },
  {
   "cell_type": "code",
   "execution_count": null,
   "outputs": [],
   "source": [
    "vis.results_gowt1_unseeded()"
   ],
   "metadata": {
    "collapsed": false,
    "pycharm": {
     "name": "#%%\n"
    }
   }
  },
  {
   "cell_type": "markdown",
   "source": [
    "## N2DL-HeLa\n",
    "### Shifted intensity range in N2DL-HeLa\n",
    "For seed detection in the seeded region growing algorithm an otsu-threshold is used.\n",
    "Since normalized intensity distances are used, it is necessary to normalize the otsu-threshold.\n",
    "This works fine in images with an intensity range starting with 0.\n",
    "In the N2DL-Hela data set though a very high otsu-threshold was obtained due to the normalization on an intensity range\n",
    "between 33000 and 36000. This lead to memory errors because of too many seeds and resulted in worse algorithm outcomes\n",
    "after seeded region growing and region merging because of decreased intensity distances. ---> ist das so??\n",
    "Subtracting the minimal image intensity and thereby shifting the intensity range solves this issue.\n",
    "\n",
    "In unseeded region growing this issue doesn't occur because intensity distances are not normalized. However, for region\n",
    "merging by intensity distance very small intensity distances are obtained due to shift of intensity range\n",
    "which have to be considered in choosing thresholds.\n",
    "\n",
    "### High cell density and intensity differences of nuclei\n",
    "Due to the high cell density in this data set parameters for region merging by size have to be adapted.\n",
    "While for the N2DH-GOWT1 regions smaller than 400 pixel are merged, for N2DL-Hela images only 100 is used as parameter.\n",
    "\n",
    "Moreover, the nuclei differ greatly in intensity.\n",
    "This needs to be considered for region merging based on intensities distances. The threshold has to be adjusted to the\n",
    "darkest nuclei to prevent loosing nuclei.\n",
    "\n",
    "### Final results"
   ],
   "metadata": {
    "collapsed": false
   }
  },
  {
   "cell_type": "code",
   "execution_count": null,
   "outputs": [],
   "source": [
    "vis.results_hela()"
   ],
   "metadata": {
    "collapsed": false,
    "pycharm": {
     "name": "#%%\n"
    }
   }
  },
  {
   "cell_type": "markdown",
   "source": [
    "Seeded and unseeded region growing were performed on the image t13 of the N2DL-Hela Data set.\n",
    "To improve the results of seeded region growing, the normal image (first image) was preprocessed with the following functions and parameters:\n",
    "- ip.subtract_minimum: image\n",
    "- ip.image_clipping: image, 0.05 * np.amax(image), 0.15 * np.amax(image)\n",
    "- ip.median_filter: image, 3\n",
    "\n",
    "For seeded region growing (second image), the parameter 0.05 was used for the sd.seeds function and 20 for the sd.reduce_region_number function.\n",
    "Region merging was performed with parameters of 0.1 and 100. The final result after clipping can be seen in the third image.\n",
    "\n",
    "For unseeded region (fourth image) growing preprocessing was not performed because good results were obtained without it.\n",
    "For computing the unseeded region growing algorithm, (0,0) was selected as the start pixel and 50 as the similarity threshold.\n",
    "In the fifth picture the result after merging with parameters of 0.000001 and 10000, filtering with a 3x3 median filter to remove salt and pepper noise and clipping is shown.\n",
    "\n",
    "Comparing the resulting images with the gt image (sixth image) shows that in unseeded region growing most nuclei\n",
    "were detected, while after seeded region growing some nuclei are missing.\n",
    "The weighted dice scores of the results confirm this. It is noticeable that the first data set lead to better dice scores.\n",
    "\n",
    "A reason why more nuclei are lost compared to the first data set are the higher cell density,\n",
    "and less intensity distances between background and nuclei. Unseeded region growing seems to be more robust,\n",
    "while in seeded region growing seed detection in all nuclei was difficult.\n"
   ],
   "metadata": {
    "collapsed": false
   }
  },
  {
   "cell_type": "markdown",
   "source": [
    "## NIH3T3\n",
    "### Bright spots in NIH3T3 data set\n",
    "As mentioned before, the pictures of the third data set contain bright spots due to reflections of the microscope.\n",
    "This raises the risk of detecting the reflections as nuclei.\n",
    "Preprocessing to merge the bright spots into the background was evaluated.\n",
    "\n",
    "Removal of bright spots (middle) and removal of bright spots and a border (right) are compared.\n",
    "Removing also the border of the bright spots reduces the transition region between the bright spot and the background.\n",
    "This region can not be removed otherwise because of its similar intensity to the nuclei.\n",
    "\n",
    "Nevertheless, the risk of merging nuclei to the background is higher when the border are removed along with the bright\n",
    "spots. The small clipped parts inside the nuclei after removal of the bright spots without a border are removed easily\n",
    "during region merging by size.\n",
    "Removing the border as well leads to bigger missing nuclei parts and might make it impossible to compensate the missing\n",
    "parts in region merging.\n",
    "That's why it is important to choose a threshold which keeps the nuclei completely intact,\n",
    "if bright spots and borders are excised."
   ],
   "metadata": {
    "collapsed": false
   }
  },
  {
   "cell_type": "code",
   "execution_count": null,
   "outputs": [],
   "source": [
    "vis.nih3t3_show_bright_spots()"
   ],
   "metadata": {
    "collapsed": false,
    "pycharm": {
     "name": "#%%\n"
    }
   }
  },
  {
   "cell_type": "markdown",
   "source": [
    "The images are now segmented and clipped afterwards to differentiate nuclei and background.\n",
    "Seeded region growing is used."
   ],
   "metadata": {
    "collapsed": false
   }
  },
  {
   "cell_type": "code",
   "execution_count": null,
   "outputs": [],
   "source": [
    "vis.nih3t3_srg_bright_spots()"
   ],
   "metadata": {
    "collapsed": false,
    "pycharm": {
     "name": "#%%\n"
    }
   }
  },
  {
   "cell_type": "markdown",
   "source": [
    "In the unprocessed image (left) both, bright spot and nuclei are detected as nuclei.\n",
    "This confirms that a removal of the bright image spots is necessary.\n",
    "In the image with intact nucleus (middle) only the reflection is detected.\n",
    "Because too less of the bright spot was removed, adjusting the intensity distance merging parameters\n",
    "rather merges the nucleus to the background than the reflection.\n",
    "Removing a border along with the bright parts of the reflection solves this problem.\n",
    "Because nearly the whole bright spot is removed, it can be merged to the background by intensity distance.\n",
    "\n",
    "The dice scores confirm that the third image was segmented best.\n",
    "However, the weighted dice score of the third image reveals, that a part of the nucleus was merged to the background.\n",
    "This happens because the reflection leads to a smaller intensity difference between background and nucleus.\n",
    "\n",
    "### Blurs in NIH3T3 data set\n",
    "Another Challenge that had to be faced is, that some images of the third data set contained blurs, that are\n",
    "smaller than the nuclei but have similar intensities. They are registered as a region which mean is\n",
    "relatively close to a region of a nuclei and are therefore merged to the nuclei even if the threshold\n",
    "for merging by intensity is low. With merging by size, the blurs are merged to the nuclei. This\n",
    "happens because their intensities are more similar to the nuclei than the background."
   ],
   "metadata": {
    "collapsed": false
   }
  },
  {
   "cell_type": "code",
   "execution_count": null,
   "outputs": [],
   "source": [
    "vis.nih3t3_blurs()"
   ],
   "metadata": {
    "collapsed": false,
    "pycharm": {
     "name": "#%%\n"
    }
   }
  },
  {
   "cell_type": "markdown",
   "source": [
    "### Changing background intensities\n",
    "In some images of the third data set the background intensities are changing throughout the images.\n",
    "This makes it difficult to merge the background to one region after segmentation which is necessary to differentiate\n",
    "between nuclei and background.\n",
    "Because of that, especially in the lighter parts of the image nuclei are merged to the background.\n",
    "This has less impact on unseeded region growing because there regions aren't limited to on nucleus. --> eventuell in die andere Richtung argumentieren\n",
    "\n",
    "### Final results\n",
    "Below the image dna-42 of the NIH3T3 data set is shown (first image).\n",
    "Seeded (second image) and unseeded (fourth image) region growing were performed.\n",
    "For seeded region growing bright spots with border were removed (130,60,30) and a 3x3 gaussian filter was used.\n",
    "---> Seeds 0.001, 5\n",
    "---> Merged 0.1, 400"
   ],
   "metadata": {
    "collapsed": false
   }
  },
  {
   "cell_type": "code",
   "execution_count": null,
   "outputs": [],
   "source": [],
   "metadata": {
    "collapsed": false,
    "pycharm": {
     "name": "#%%\n"
    }
   }
  },
  {
   "cell_type": "markdown",
   "source": [
    "Although the bright spot could be successfully removed in an image fragment\n",
    "the different background intensities prevented this on the whole image.\n",
    "--> Add results seeded and unseeded similar to second data set"
   ],
   "metadata": {
    "collapsed": false
   }
  },
  {
   "cell_type": "markdown",
   "source": [
    "## Evaluation of preprocessing\n",
    "To test, which preprocessing method leads to the best result, different clipping methods and filters were compared. The\n",
    "total algorithm for seeded  and unseeded region growing was applied to a fraction of an image of the second data set. On the first\n",
    "data set high dice scores were obtained without preprocessing. Using the weighted and unweighted dice\n",
    "score, the best parameters where defined for every image. Thereby the focus was laid on the optimization of the weighted\n",
    "dice score.\n",
    "The first row of the following images shows the different preprocessing methods\n",
    "(unprocessed, clipped, extreme clipped, median filtered, gauss filtered, gt)."
   ],
   "metadata": {
    "collapsed": false
   }
  },
  {
   "cell_type": "code",
   "execution_count": null,
   "outputs": [],
   "source": [
    "vis.show_preprocessing()"
   ],
   "metadata": {
    "collapsed": false,
    "pycharm": {
     "name": "#%%\n"
    }
   }
  },
  {
   "cell_type": "markdown",
   "source": [
    "On these pictures the seeded (second row) and unseeded (third row) region growing algorithm were conducted. The parameters were determined individually\n",
    "for every preprocessed image.\n",
    "The obtained weighted dice scores are shown in this bar plot."
   ],
   "metadata": {
    "collapsed": false
   }
  },
  {
   "cell_type": "code",
   "execution_count": null,
   "outputs": [],
   "source": [
    "vis.barplot_preprocessing()"
   ],
   "metadata": {
    "collapsed": false,
    "pycharm": {
     "name": "#%%\n"
    }
   }
  },
  {
   "cell_type": "markdown",
   "source": [
    "It is visible that the algorithm is working well on every image for seeded and unseeded region growing.\n",
    "\n",
    "After seeded region growing, the weighted dice score after gauss filtering (0.888) is the lowest,\n",
    "while all other weighted dice scores are above 0.9.\n",
    "This might be because, the Gauss filter blurs edges and thereby complicates the identification of nuclei.\n",
    "All other preprocessing methods increase the weighted dice score, but only clipping improves the weighted\n",
    "dice score significantly (approximately 0.91 to 0.98).\n",
    "Normal clipping performs best (0.983). Unweighted dice scores conduct similarly.\n",
    "\n",
    "Unseeded region growing showed similar results.\n",
    "A high weighted dice score of 0.945 on the unprocessed image was determined\n",
    "as well as good results on every preprocessed image. All preprocessing methods improved the weighted dice score.\n",
    "The highest score was obtained with median filtering (0.9839) opposed to seeded region growing, followed by clipping (0.9835).\n",
    "Compared to seeded region growing unseeded region growing showed better results overall.\n",
    "\n",
    "## Comparison Seeded and Unseeded region growing results\n",
    "For both, seeded and unseeded region growing, parameters need to be determined for every image and data set individually.\n",
    "However, after optimizing preprocessing methods and parameters unseeded region growing lead to better results,\n",
    "especially in challenging data sets. This can be seen in the bar chart below."
   ],
   "metadata": {
    "collapsed": false
   }
  },
  {
   "cell_type": "code",
   "execution_count": null,
   "outputs": [],
   "source": [
    "vis.barplot_results()"
   ],
   "metadata": {
    "collapsed": false,
    "pycharm": {
     "name": "#%%\n"
    }
   }
  },
  {
   "cell_type": "markdown",
   "source": [
    "# Challenges\n",
    "## Runtime errors\n",
    "### Optimizing Seeded region growing algorithm\n",
    "The paper of Frank Y. Shih and Shouxian Cheng (Shih and Cheng, 2005) on which the used seeded region growing algorithm is based labels every pixel one by one which leads to\n",
    "long runtimes. This is why many runtime problems were encountered, especially with the first seeded region growing\n",
    "algorithm implemented.\n",
    "\n",
    "In the first region growing algorithm all pixels bordering an existing region are stored in a list. For loops are used\n",
    "to iterate over this list to find the intensity distance of these pixels to its closest neighboring region. It was\n",
    "observed that with this algorithm its impossible to segment the whole image in a sensible time with the available\n",
    "hardware.\n",
    "\n",
    "Hence, a new algorithm was implemented. It was evaluated to use numpy arrays or pandas data frames to vectorize the\n",
    "algorithm and decided to use numpy because of faster runtimes. Instead of storing only the smallest distance of every\n",
    "neighboring pixel to one of its adjacent regions, every distance is stored and does not need to be recalculated.\n",
    "Moreover, the use of for loops was almost completely reduced, and the algorithm was vectorized.\n",
    "A decrease of runtime by more than 20 times on a part of an\n",
    "image could be achieved. The improvement on the whole image is even bigger. This allows to execute the region growing\n",
    "algorithm on a whole image in 24 hours."
   ],
   "metadata": {
    "collapsed": false
   }
  },
  {
   "cell_type": "code",
   "execution_count": null,
   "outputs": [],
   "source": [
    "image_intensity_small = sk.imread(\"Data/N2DH-GOWT1/img/t01.tif\")[300:350, 400:450]\n",
    "#%timeit srg.region_growing(image_intensity_small, image_regions_from_seeds.copy())\n",
    "#%timeit old_srg.region_growing(image_intensity_small, image_regions_from_seeds.copy())"
   ],
   "metadata": {
    "collapsed": false,
    "pycharm": {
     "name": "#%%\n"
    }
   }
  },
  {
   "cell_type": "markdown",
   "source": [
    "### Optimizing Unseeded region growing algorithm\n",
    "The in the paper of Zheng Lin, Jesse Jin and Hugues Talbot (Lin et al., 2000) proposed unseeded region growing algorithm leads to the same problem. Because every pixel is\n",
    "selected separately, the runtime of the first implemented algorithm is too long to segment a complete image with our\n",
    "available hardware.\n",
    "\n",
    "That's why we rewrote the algorithm similarly to the seeded region growing algorithm. The runtime became nearly 100\n",
    "faster."
   ],
   "metadata": {
    "collapsed": false
   }
  },
  {
   "cell_type": "code",
   "execution_count": null,
   "outputs": [],
   "source": [
    "#%timeit urg.unseeded_region_growing_algorithm(image_intensity_small, (0,0), 5)\n",
    "#%timeit old_urg.old_unseeded_region_growing_algorithm(image_intensity_small, (0,0), 5)"
   ],
   "metadata": {
    "collapsed": false,
    "pycharm": {
     "name": "#%%\n"
    }
   }
  },
  {
   "cell_type": "markdown",
   "source": [
    "### Comparison of Seeded and unseeded region growing algorithm\n",
    "Whilst comparing both algorithms, no significant runtime difference between both algorithms can be discovered if\n",
    "compared on a small image. The runtime difference lies within the $$3 \\sigma$$ interval."
   ],
   "metadata": {
    "collapsed": false
   }
  },
  {
   "cell_type": "code",
   "execution_count": null,
   "outputs": [],
   "source": [
    "%timeit srg.region_growing(image_intensity_small, image_regions_from_seeds.copy())\n",
    "%timeit urg.unseeded_region_growing_algorithm(image_intensity_small, (0,0), 5)"
   ],
   "metadata": {
    "collapsed": false,
    "pycharm": {
     "name": "#%%\n"
    }
   }
  },
  {
   "cell_type": "markdown",
   "source": [
    "## Memory error\n",
    "In the region merging algorithm an array with the same number of rows and columns as the region number\n",
    "is needed. If too many seeds are found in the seed detection, too many regions are detected in the seeded region\n",
    "growing, and the region merging algorithm can not be performed. When trying to do so, a memory error occurs.\n",
    "That's why a method to reduce the seed number was implemented.\n",
    "\n",
    "# Discussion\n",
    "Despite the challenges of the different data sets images of each data set could be segmented successfully\n",
    "using preprocessing. Especially in the first data set N2DH-GOWT1 satisfying results and high dice scores were obtained.\n",
    "In the second data set (N2DL-Hela) normalizing and preprocessing could be used to gain high dice scores.\n",
    "\n",
    "--> final evaluation third data set\n",
    "Removing the bright spots before segmentation in the third data set (NIH3T3) solved this problem.\n",
    "However, bright spots in the same intensity range as nuclei can not be removed.\n",
    "This problem needs to be solved in future research.\n",
    "\n",
    "Preprocessing, especially clipping, of the images improved the results and is therefore recommended.\n",
    "For filtering a median filter showed better results compared to gauss because it does not blur edges and should be used.\n",
    "\n",
    "Although both, seeded and unseeded region growing, lead to good results,\n",
    "unseeded region growing was more robust against challenging images.\n",
    "One reason for that is the seed detection in seeded region growing which often fails to detect nuclei\n",
    "or background regions between nuclei.\n",
    "Increasing the number of seeds can't solve this problem because it leads to memory errors.\n",
    "Alongside less memory errors and smaller execution times for region merging, the smaller region number in unseeded\n",
    "region growing leads to regions with several nuclei. This compensates small intensity distances of nuclei to their\n",
    "background in bright background regions or because of dark nuclei.\n",
    "An advantage and disadvantage of unseeded region growing is its smaller number of region.\n",
    "However, a disadvantage of unseeded region growing are additional filtering methods which need to be applied after region merging.\n",
    "Since both algorithms still showed good results and dice scores they can be considered in future research.\n",
    "\n",
    "For evaluation only the dice score was used.\n",
    "Thereby, the weighted dice score lead to more meaningful results compared to the unweighted dice score because it\n",
    "considers nuclei and background equally.\n",
    "Still high weighted dice scores are received even if many nuclei are missing because of the impact of the background.\n",
    "Differences of ground truth images, and the received results are partly caused\n",
    "by mistakes in the ground truth images which don't show some nuclei, especially on image borders.\n",
    "Because of these to problems, other evaluation methods should be considered in future research.\n",
    "\n",
    "Despite the big runtime improvements, the runtime in both proposed algorithms is still too long. An algorithm which\n",
    "labels more than one pixel in one iteration could fix this problem. That's why we recommend using another algorithm\n",
    "of another paper in following research.\n",
    "\n",
    "All in all, both segmentation lead to satisfactory results with specifically adjusted parameters for each image.\n",
    "Nevertheless, in future research the process of determining parameters needs to be automated\n",
    "to make it available for everyone and to gain actual time reduction in nuclei detection via image segmentation."
   ],
   "metadata": {
    "collapsed": false
   }
  },
  {
   "cell_type": "markdown",
   "source": [
    "# Bibliography\n",
    "\n",
    "1. Lin, Z., Jin, J., and Talbot, H. (2000). Unseeded region growing for 3D image segmentation. In Selected papers from the Pan-Sydney workshop on Visualisation - Volume 2 (Sydney, Australia: Australian Computer Society, Inc.), pp. 31–37.\n",
    "1. Shih, F.Y., and Cheng, S. (2005). Automatic seeded region growing for color image segmentation. Image and Vision Computing 23, 877-886.\n",
    "1. Gómez, O., Gonzalez, J., and Morales, E. (2007). Image Segmentation Using Automatic Seeded Region Growing and Instance-Based Learning, Vol 4756.\n",
    "\n",
    "\n",
    "\n",
    "\n"
   ],
   "metadata": {
    "collapsed": false
   }
  }
 ],
 "metadata": {
  "kernelspec": {
   "display_name": "Python 3",
   "language": "python",
   "name": "python3"
  },
  "language_info": {
   "codemirror_mode": {
    "name": "ipython",
    "version": 2
   },
   "file_extension": ".py",
   "mimetype": "text/x-python",
   "name": "python",
   "nbconvert_exporter": "python",
   "pygments_lexer": "ipython2",
   "version": "2.7.6"
  }
 },
 "nbformat": 4,
 "nbformat_minor": 0
}