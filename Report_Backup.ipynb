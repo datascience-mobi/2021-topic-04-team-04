{
 "cells": [
  {
   "cell_type": "code",
   "execution_count": null,
   "outputs": [],
   "source": [],
   "metadata": {
    "collapsed": false,
    "pycharm": {
     "name": "#%%\n"
    }
   }
  },
  {
   "cell_type": "markdown",
   "source": [
    "# Implementation and evaluation of region growing\n",
    "\n",
    "Data Analysis MoBi SS2021, Topic 04: Biomedical image analysis\n",
    "\n",
    "Tutor: Nicolas Peschke\n",
    "\n",
    "Group 04: Marie Becker, Ina Jung, Laura Kaschnitz, Johanna Möller\n",
    "\n",
    "<br>"
   ],
   "metadata": {
    "collapsed": false
   }
  },
  {
   "cell_type": "markdown",
   "source": [
    "# Abstract\n",
    "\n",
    "Region growing is an interesting approach for image segmentation which can be used to evaluate microscopy images and\n",
    "to detect cellular structures like nuclei.\n",
    "In this project, algorithms for seeded and unseeded region growing are implemented. These methods are used to form\n",
    "regions, by assigning all pixels in the image. The major difference of the two algorithm is the start: while seeded\n",
    "region growing starts form initially calculated seeds, unseeded region growing starts from a randomly chosen start\n",
    "pixel. After regions are detected, they are merged to prevent oversegmentation.\n",
    "\n",
    "\n",
    "Here, the implemented algorithms were executed on the datasets N2DH-GOWT1, N2DL-HeLa and NIH3T3.\n",
    "In order to reduce noise, preprocessing was performed on the images. To further improve results, the parameters\n",
    "used during region growing were adjusted for each data set. To evaluate the segmented image, the Dice score was used.\n",
    "For this, the obtained result images were compared to manually segmented ground truth images.\n",
    "\n",
    "\n",
    "Both seeded and unseeded region growing algorithms led to good results with high Dice scores up to 0.95 for plain\n",
    "images. A disadvantage of the implementation is, that large computing power is required because each pixel is\n",
    "assigned individually. However, vectorization led to an acceptable speed.\n",
    "An improvement of the algorithm would be the simultaneous allocation of more than one pixel.\n",
    "This could result in equally good Dice scores and faster runtime.\n",
    "A further issue are interfering image elements with intensities similar to\n",
    "nuclei and this is still a challenge to be overcome.\n",
    "Another future improvement would be an automatic parameter determination for the different parameters used in\n",
    "preprocessing, seed detection and region merging. In this project, all parameters were determined manually.\n"
   ],
   "metadata": {
    "collapsed": false
   }
  },
  {
   "cell_type": "markdown",
   "source": [
    "# Table of contents\n",
    "1.\tIntroduction\n",
    "1.\tDatasets – N2DH-GOWT1, N2DL-HeLa and NIH3T3\n",
    "1.\tImports\n",
    "1.\tPreprocessing <br>\n",
    "    1. Clipping <br>\n",
    "    1. Filtering <br>\n",
    "1.\tSegmentation algorithm <br>\n",
    "    1. Seeded region growing algorithm <br>\n",
    "        1. Seed selection <br>\n",
    "            1. Seed selection based on similarities <br>\n",
    "            1. Seed selection based on Euclidean distance <br>\n",
    "        1. Seeded region growing <br>\n",
    "    1. Unseeded region growing algorithm <br>\n",
    "    1. Region merging <br>\n",
    "        1. Region merging based on similarity of intensity <br>\n",
    "        1. Region merging based on size <br>\n",
    "1. Differences between seeded and unseeded region growing <br>\n",
    "1.\tEvaluation measures <br>\n",
    "    1. Dice score <br>\n",
    "1. Results <br>\n",
    "    1. N2DH-GOWT1 <br>\n",
    "    1. N2DL-HeLa <br>\n",
    "        1. Shifted intensity range in N2DL-HeLa <br>\n",
    "        1. High cell density and intensity differences of nuclei <br>\n",
    "        1. Final results <br>\n",
    "    1. NIH3T3 <br>\n",
    "        1. Bright spots in NIH3T3 data set <br>\n",
    "        1. Blurs in NIH3T3 data set <br>\n",
    "        1. Changing background intensities <br>\n",
    "        1. Final results <br>\n",
    "    1. Evaluation of preprocessing <br>\n",
    "    1. Comparison seeded and unseeded region growing results <br>\n",
    "1. Challenges <br>\n",
    "    1. Optimizing seeded region growing algorithm <br>\n",
    "    1. Optimizing unseeded region growing algorithm <br>\n",
    "    1. Comparison seeded and unseeded region growing algorithms <br>\n",
    "    1. Memory error <br>\n",
    "1. Discussion\n",
    "1. Bibliography\n",
    "\n",
    "<br>"
   ],
   "metadata": {
    "collapsed": false
   }
  },
  {
   "cell_type": "markdown",
   "source": [
    "# Introduction\n",
    "\n",
    "Image segmentation is an image processing method in the field of data analysis, which role has become increasingly\n",
    "important in recent years.\n",
    "It consists of grouping pixels of an image by similarity of image intensities and thus creating regions of pixels\n",
    "that can be used for data analysis and evaluation.\n",
    "In this way, image content can be simplified, and its representation can be modified by using methods like\n",
    "thresholding, boundary or region-based segmentation or hybrid techniques.\n",
    "Image segmentation is often the first step in image analysis. It is widely used, especially in the medical field,\n",
    "but also in the processing of geographical data.\n",
    "\n",
    "Region growing is a subset of the hybrid techniques of image segmentation which can be used for cell nuclei\n",
    "segmentation. This class of methods can be further subdivided into seeded and unseeded region growing, which will both\n",
    "be implemented in this project. In seeded region growing, selected initial seeds are assigned pixels from their\n",
    "neighborhood if the pixels have a high intensity similarity. Subsequently, certain found regions are merged if they\n",
    "are similar in their mean intensity or if they are to small (Shih and Cheng, 2005). In unseeded region growing, the\n",
    "region growing is initiated using a start pixel. Another threshold is used and if the intensity distance of a newly\n",
    "assigned pixel is too high, a new region is formed. After unseeded region growing, region merging is performed as well.\n",
    "\n",
    "After implementing the seeded region growing algorithm, its performance will be evaluated.\n",
    "For this, result images are compared to already segmented gt-images, and the Dice score is calculated.\n",
    "Finally, seeded and unseeded region growing are also compared with each other using the Dice Score.\n",
    "\n",
    "<br>"
   ],
   "metadata": {
    "collapsed": false
   }
  },
  {
   "cell_type": "markdown",
   "source": [
    "# Datasets – N2DH-GOWT1, N2DL-HeLa and NIH3T3\n",
    "\n",
    "In order to run and test the implemented seeded region growing algorithm, three different datasets were used:\n",
    "N2DH-GOWT1, N2DL-HeLa and NIH3T3.\n",
    "The datasets consist of a total of 28 image files, in which different structures of the nucleus were stained using the\n",
    "fluorescent protein GFP.\n",
    "Included in the data sets are gt-images where the nuclei have already been segmented manually.\n",
    "The images and gt-images of these datasets are often used to evaluate the performance of newly implemented algorithms.\n",
    "\n",
    "Each dataset has specific challenges that need to be considered.\n",
    "\n",
    "In the first dataset N2DH-GOWT1, transcription factor Oct 4 was stained by GFP in mouse embryonic stem cells.\n",
    "The nuclei are well in focus and do not overlap.\n",
    "There are no reflections or blurs.\n",
    "However, the stained nuclei differ greatly in brightness.\n",
    "Compared to the other data sets, N2DH-GOWT1 is considered to be the easiest to work with.\n",
    "\n",
    "Images of the N2DL-HeLa data set show GFP labeled core histone 2b proteins from human cervical carcinomas.\n",
    "Overall, the cell density is high whereas the resolution is low, and the nuclei vary greatly in brightness.\n",
    "Furthermore, the intensity values of the images lie between 33 000 and 36 000.\n",
    "There are no interfering effects due to reflections or blurs.\n",
    "\n",
    "The last dataset NIH3T3 consists of mouse embryo fibroblasts.\n",
    "EGFP was used to label the CD-tagged protein.\n",
    "In NIH3T3 the nuclei are displayed in a very low contrast and differ strongly in their size and shape.\n",
    "Very bright regions, presumably caused by reflections from the microscope, probably make this data set the most\n",
    "challenging.\n",
    "\n",
    "<br>"
   ],
   "metadata": {
    "collapsed": false
   }
  },
  {
   "cell_type": "markdown",
   "source": [
    "# Imports\n",
    "\n",
    "In order to test the implemented algorithm, initial uploads of the datasets and various modules were made. <br>\n",
    "The modules access self-implemented functions in other notebooks or import the python modules\n",
    "numpy, skimage, pandas and seaborn."
   ],
   "metadata": {
    "collapsed": false
   }
  },
  {
   "cell_type": "code",
   "execution_count": null,
   "outputs": [],
   "source": [
    "%load_ext autoreload\n",
    "%autoreload 2\n",
    "\n",
    "import skimage.io as sk\n",
    "from Functions import image_processing as ip\n",
    "from Functions import seed_detection as sd\n",
    "from Functions import seeded_region_growing as srg\n",
    "from Functions import unseeded_region_growing as urg\n",
    "from Functions import old_seeded_region_growing as old_srg\n",
    "from Functions import old_unseeded_region_growing as old_urg\n",
    "from Functions import visualization as vis"
   ],
   "metadata": {
    "collapsed": false,
    "pycharm": {
     "name": "#%%\n"
    }
   }
  },
  {
   "cell_type": "markdown",
   "source": [
    "The test data sets were uploaded to GitHub and can be accessed and displayed in PyCharm.\n",
    "Here, an example image of each data set is shown."
   ],
   "metadata": {
    "collapsed": false
   }
  },
  {
   "cell_type": "code",
   "execution_count": null,
   "outputs": [],
   "source": [
    "vis.load_images()"
   ],
   "metadata": {
    "collapsed": false,
    "pycharm": {
     "name": "#%%\n"
    }
   }
  },
  {
   "cell_type": "markdown",
   "source": [
    "# Preprocessing\n",
    "Preprocessing is an important step in the preparation of images.\n",
    "Clipping, filtering and other methods can be used to optimize the data to yield better results.\n",
    "For instance, background noise can be decreased, and the essential content of the image can be elaborated.\n",
    "However, it is crucial to avoid losing relevant information by overuse of preprocessing.\n",
    "\n",
    "## Clipping\n",
    "With the clipping method, all intensity values of an image below or above manually defined thresholds will be set to\n",
    "these thresholds.\n",
    "This allows to combine extreme values and to reduce the intensity spectrum. For clipping, a pre-implemented method\n",
    "from the numpy module is used.\n",
    "\n",
    "In addition, a separate method was implemented in which the values below or above the thresholds were set to the\n",
    "minimum and maximum intensities of the image.\n",
    "This variant is intended to increase the contrast of the combined intensities to the remaining.\n",
    "Below the original picture (left), the normal clipped picture (middle), and the picture clipped with the self\n",
    "implemented function (right) are shown:"
   ],
   "metadata": {
    "collapsed": false
   }
  },
  {
   "cell_type": "code",
   "execution_count": null,
   "outputs": [],
   "source": [
    "vis.clipping_examples()"
   ],
   "metadata": {
    "collapsed": false,
    "pycharm": {
     "name": "#%%\n"
    }
   }
  },
  {
   "cell_type": "markdown",
   "source": [
    "In order to reduce disturbances of an image caused by very bright intensity values, the functions remove_bright_spots\n",
    "and remove_bright_spots_with_border were implemented. The first method sets the intensity values of bright spots to an\n",
    "intensity similar to the background.\n",
    "The second method clips the bright spots together with a border around the bright spots of variable size.\n",
    "This will be very useful for the third data set to fade very bright spots into the background using two different\n",
    "thresholds. The first threshold defines which intensity is considered as bright, and the second sets these pixels to a\n",
    "lower intensity, which is similar to the background."
   ],
   "metadata": {
    "collapsed": false
   }
  },
  {
   "cell_type": "code",
   "execution_count": null,
   "outputs": [],
   "source": [
    "vis.bright_spots_example()"
   ],
   "metadata": {
    "collapsed": false,
    "pycharm": {
     "name": "#%%\n"
    }
   }
  },
  {
   "cell_type": "markdown",
   "source": [
    "## Filtering\n",
    "Median and gaussian filtering were considered to improve the segmentation results.\n",
    "\n",
    "The median filter sorts the intensity values of the specified neighborhood and assigns the median value to the\n",
    "central pixel.\n",
    "\n",
    "The Gaussian filter is a linear filter that weights the intensity values of the specified neighborhood with a\n",
    "Gaussian distribution.\n",
    "Subsequently, the calculated mean value is assigned to the central pixel.\n",
    "Due to the weighting, the Gaussian filter is an improvement of the Mean filter.\n",
    "\n",
    "A pre-implemented function of the numpy module has been used for both filtering methods."
   ],
   "metadata": {
    "collapsed": false
   }
  },
  {
   "cell_type": "markdown",
   "source": [
    "# Segmentation algorithms\n",
    "\n",
    "## Seeded region growing algorithm\n",
    "Seeded region growing is a sub-method of image segmentation.\n",
    "It consists of the determination of initial seeds, followed by the assignment of pixels to the seeds, known as Seeded\n",
    "region growing (Adam and Bischof, 1994).\n",
    "Regions can then be combined in region merging.\n",
    "The implementation of the seeded region algorithm is based on the paper of Frank Y. Shih and Shouxian Cheng\n",
    "(Shih and Cheng, 2005)."
   ],
   "metadata": {
    "collapsed": false
   }
  },
  {
   "cell_type": "markdown",
   "source": [
    "### Seed selection\n",
    "In order for pixels to be selected as seeds, they must fulfill two conditions.\n",
    "One concerns the similarity, the other the maximal Euclidean distance of a pixel to its neighborhood.\n",
    "\n",
    "#### Seed selection based on similarities\n",
    "To evaluate the similarity, the standard deviation $\\sigma$ of each pixel to its 3x3 neighborhood is calculated:\n",
    "\n",
    "$$ \\sigma = \\sqrt{\\left(\\frac{1}{9}\\sum\\limits_{i=1}^{9}(x_i-\\overline{x}\\right)^2}$$\n",
    "\n",
    "with $x_i$ as pixel intensities and $\\overline{x}$ as the mean intensities of the 3x3 neighborhood of a pixel.\n",
    "$\\sigma$ is then normalized by dividing by the maximum value of all calculated standard deviations. The\n",
    "similarity $s$ is obtained from the following equation:\n",
    "\n",
    "$$s=1-\\frac{\\sigma}{\\sigma_{max}}$$\n",
    "\n",
    "The similarity $s$ is then compared to a threshold.\n",
    "If $s$ is greater than the threshold, the pixel can be considered as seed.\n",
    "For this purpose, Otsu thresholding was used to define the threshold value."
   ],
   "metadata": {
    "collapsed": false
   }
  },
  {
   "cell_type": "markdown",
   "source": [
    "#### Seed Selection based on Euclidean Distance\n",
    "\n",
    "Now all pixels whose similarity $s$ is greater than a threshold are further used for seed selection based on\n",
    "Euclidean distance in order to exclude pixels that lie on the border between two regions.\n",
    "The maximum value $d_{max}$ of the Euclidean distances of a pixel to its neighborhood is calculated by:\n",
    "\n",
    "$$d_{max} = \\mathop{max}_{1\\leq i\\leq 8} \\left\\{ d_i = \\frac{x-x_i}{x} \\right\\}$$\n",
    "\n",
    "$d_{max}$ is then also compared to the threshold.\n",
    "If $d_{max}$ is lower than the threshold, the pixel is considered a seed.\n",
    "\n",
    "For visualization the  algorithm is applied to a section of the loaded image (left).\n",
    "The implemented algorithm results in the following seeds (right)."
   ],
   "metadata": {
    "collapsed": false
   }
  },
  {
   "cell_type": "code",
   "execution_count": null,
   "outputs": [],
   "source": [
    "image_intensity_small = sk.imread(\"Data/N2DH-GOWT1/img/t01.tif\")[300:400, 400:500]\n",
    "image_seeds = sd.seeds(image_intensity_small, 0.5)\n",
    "ip.show_two_images_colorbar(image_intensity_small, image_seeds, 0.70)"
   ],
   "metadata": {
    "collapsed": false,
    "pycharm": {
     "name": "#%%\n"
    }
   }
  },
  {
   "cell_type": "markdown",
   "source": [
    "### Seeded region growing\n",
    "Before starting the region growing algorithm based on the selected seeds, the seeds have to be assigned to regions."
   ],
   "metadata": {
    "collapsed": false
   }
  },
  {
   "cell_type": "code",
   "execution_count": null,
   "outputs": [],
   "source": [
    "image_regions_from_seeds = sd.seed_merging(image_seeds)"
   ],
   "metadata": {
    "collapsed": false,
    "pycharm": {
     "name": "#%%\n"
    }
   }
  },
  {
   "cell_type": "markdown",
   "source": [
    "The seeded region growing algorithm labels all pixels to the regions created out of the seeds iteratively.\n",
    "Thereby, it always labels the pixel with the closest intensity distance to one of its neighboring regions first\n",
    "(Gómez et al., 2007)(Shih and Cheng, 2005).\n",
    "\n",
    "The algorithm follows the steps below:\n",
    "1. First, the neighboring pixels to the created regions are selected and stored in four 2D numpy arrays for left, right,\n",
    "top and bottom neighbors.\n",
    "1. The distance of these pixels to its neighboring regions is calculated based on previously computed mean intensity\n",
    "values of the regions. The formula $dist = \\frac{|p - \\bar r_n|}{intensity_{max}}$ is used.\n",
    "1. The smallest distance is selected, and the associated pixel position is determined. This pixel is now merged to its\n",
    "neighboring region.\n",
    "1. Before the next pixel can be selected, the mean intensity value of the changed region, the arrays of neighboring\n",
    "regions, and the distances to the changed region need to be recalculated.\n",
    "1. Again, the most similar pixel is selected and labeled. This procedure is repeated until all pixels are labeled.\n",
    "\n",
    "Below the results of seeded region growing are shown (original image left, seeds middle, image after\n",
    "region growing right)."
   ],
   "metadata": {
    "collapsed": false
   }
  },
  {
   "cell_type": "code",
   "execution_count": null,
   "outputs": [],
   "source": [
    "image_regions = srg.region_growing(image_intensity_small, image_regions_from_seeds.copy())\n",
    "ip.show_three_images_colorbar(image_intensity_small, image_seeds, image_regions, 0.45)"
   ],
   "metadata": {
    "collapsed": false,
    "pycharm": {
     "name": "#%%\n"
    }
   }
  },
  {
   "cell_type": "markdown",
   "source": [
    "## Unseeded region growing algorithm\n",
    "Furthermore, another region growing algorithm was implemented based on the paper of Zheng Lin, Jesse Jin and\n",
    "Hugues Talbot (Lin et al., 2000). In difference to seeded region growing where several pixels are detected before the\n",
    "algorithm starts, in unseeded region growing only one start pixel is chosen beforehand.\n",
    "\n",
    "The algorithm is similar to\n",
    "seeded region growing and follows the steps below:\n",
    "1. Based on the first seed the neighboring pixels are selected and stored in 2D numpy arrays for left, right top and\n",
    "bottom neighbors.\n",
    "1. The intensity distance of these neighboring pixels to the start region is calculated according to $dist = |p - \\bar r_n|$\n",
    "1. The smallest distance and the associated pixel are selected.\n",
    "1. This pixel is now labeled. For labeling three options exist:\n",
    "    1. If the intensity distance of the pixel is smaller than a threshold, the pixel is merged to its neighboring\n",
    "    region. Otherwise it will be proceeded with the next condition.\n",
    "    1. If the intensity distance of the pixel to another, not neighboring, region is smaller than\n",
    "    the threshold, the pixel is merged to this region.\n",
    "    1. If both previous conditions are false, the pixel forms a new region.\n",
    "1. After labeling the first pixel, the arrays of neighboring pixel need to be updated, and the intensity distances\n",
    "are recalculated. This is used to calculate the pixel which is labeled next according to the above conditions.\n",
    "1.  The algorithm continues until all pixel are labeled to a region.\n",
    "\n",
    "The result of unseeded region growing can be seen below (unprocessed image left, result of seeded region growing right).\n",
    "Here the pixel on position (0,0) is selected as the starting point."
   ],
   "metadata": {
    "collapsed": false
   }
  },
  {
   "cell_type": "code",
   "execution_count": null,
   "outputs": [],
   "source": [
    "image_result_unseeded = urg.unseeded_region_growing_algorithm(image_intensity_small, (0, 0), 5)\n",
    "ip.show_two_images_colorbar(image_intensity_small, image_result_unseeded, 0.70)"
   ],
   "metadata": {
    "collapsed": false,
    "pycharm": {
     "name": "#%%\n"
    }
   }
  },
  {
   "cell_type": "markdown",
   "source": [
    "## Region merging\n",
    "In both algorithms, seeded and unseeded region growing, too many regions are received due to high intensity differences\n",
    "in the background as well as in the cell nuclei.\n",
    "To solve this over-segmentation a region merging algorithm was implemented.\n",
    "The received regions are merged based on two criteria: distance of intensity values and region size.\n",
    "\n",
    "### Region merging based on distance of intensity\n",
    "The first selection criteria is implemented via the following procedure:\n",
    "1. First, the neighboring regions are determined for every region and stored in a 2D numpy array.\n",
    "1. This is used to calculate the distances between all neighboring regions which are stored in an upper triangle 2D\n",
    "numpy array. The distance between two regions is calculated using $dist = \\frac{\\bar r_m - \\bar r_n}{intensity_{max}}$\n",
    "1. Then the most similar regions are selected and merged.\n",
    "1. This procedure is repeated until the distance between the most similar regions is bigger than a threshold.\n",
    "For that, in every iteration the mean intensity value of the newly merged region, and the distances to its\n",
    "neighboring regions are updated as well as the numpy array, in which neighboring regions are stored.\n",
    "\n",
    "### Region merging based on size\n",
    "Region merging by size follows the steps below:\n",
    "1. First, the size of every region is calculated and stored in a 1D array.\n",
    "1. The smallest region is selected and compared to a threshold. If it is smaller, the algorithm continues.\n",
    "1. The previously determined neighboring regions are used to find out the most similar neighboring region by\n",
    "calculating the distances. The selected smallest region is merged to its most similar neighbor.\n",
    "1. Afterwards, region sizes are updated, the smallest region is recomputed and its size is compared to the threshold.\n",
    "1. The next most similar neighboring region is determined based on recalculated distances and neighboring regions.\n",
    "\n",
    "The algorithm stops as soon as the smallest region is bigger than the threshold.\n",
    "\n",
    "To easily differentiate between nuclei and background, a clipping algorithm is used on the result of the region merging\n",
    "algorithm. This algorithm clips nuclei to the intensity value 1 and background to the value 0."
   ],
   "metadata": {
    "collapsed": false
   }
  },
  {
   "cell_type": "code",
   "execution_count": null,
   "outputs": [],
   "source": [
    "vis.region_growing_example()"
   ],
   "metadata": {
    "collapsed": false,
    "pycharm": {
     "name": "#%%\n"
    }
   }
  },
  {
   "cell_type": "markdown",
   "source": [
    "The figures compare the over-segmented image with the merged image after region merging based on intensity\n",
    "distance, with the image after complete merging, and with the clipped image (from left to right).\n",
    "The first row shows the results of seeded region growing.\n",
    "In the second row the results of unseeded region growing can be seen.\n",
    "\n",
    "## Differences between seeded and unseeded region growing\n",
    "In seeded region growing the pixels of one region are always connected. In the case of unseeded region growing,\n",
    "pixels can appear that are assigned to the same region but are not connected.\n",
    "This leads to differences in the region merging process. Region merging based on intensity distance\n",
    "leads to good results for seeded region growing.\n",
    "However, when using region merging based on the distance of intensity for unseeded region growing, pixels of the cell nucleus are easily\n",
    "merged to the background and build incorrectly assigned pixels within the nuclei. Because of that, a small threshold needs to be chosen for\n",
    "region merging by distance of intensity.\n",
    "\n",
    "Region merging by size leads to better results for the unseeded region growing algorithm, although some unconnected pixels remain.\n",
    "This is because regions are not limited to one nucleus.\n",
    "So single pixel appear which belong to big, distant regions and can not be merged.\n",
    "This resulted in spots, which resembled salt and pepper noise.\n",
    "\n",
    "In order to improve the result, a median filter with a 3x3 sized filter mask was used on the image after region merging.\n",
    "This improved the Dice score.\n",
    "When using a bigger filter size, the incorrectly assigned pixels within the nuclei shrink, but nuclei are\n",
    "only partly detected and thus merged to the background. However, the focus was set on detecting all nuclei, even if\n",
    "they are only partly detected. As a result, a filter with size 3 was used.\n",
    "\n",
    "Another difference to be noted is the normalization of the calculated intensity distances.\n",
    "In seeded region growing, the intensity distances are always normalized to a value between 0 and 1.\n",
    "For unseeded region growing, only differences are calculated instead. This must be taken into account in preprocessing.\n",
    "However, normalized distances are used in region merging, which also affects unseeded region growing.\n",
    "\n",
    "# Evaluation measures\n",
    "\n",
    "## Dice score\n",
    "The Dice score is a method to determine the accuracy of segmentation. Thereby, a gt-image (given\n",
    "in the data set) is compared with the resulting image of the algorithm. The Dice score is defined as follows:\n",
    "<br>\n",
    "$$ DSC = \\frac{ 2 \\times |S \\cap G|}{|S| + |G|} $$\n",
    "<br>\n",
    "The intersection is the number of pixels that have the same value in the gt and result image. The doubled\n",
    "intersection is divided by the total number of pixels in the gt and result image. This yields a number\n",
    "between zero and one. The higher the value the better was the performance of the algorithm.\n",
    "<br>\n",
    "To evaluate an algorithm more accurately the Dice score can weight equally between different regions\n",
    "(weighted Dice score).\n",
    "With that, small and bigger regions can be considered equally (Tiu, 2019).\n",
    "This is important in nuclei detection because there are proportionally few pixels belonging to nuclei compared to pixels\n",
    "belonging to the background.\n",
    "So loosing nuclei would not have the desired impact on the unweighted Dice score.\n",
    "<br>\n",
    "$$\\overline{DSC}=\\frac{1}{2} \\sum\\limits_{i=1}^{2} \\left(\\frac{2 \\times |S_i \\cap G_i|}{|S_i|+|G_i|}\\right)$$\n",
    "<br>\n",
    "In this case two regions were considered: nuclei and background. For each region, the Dice score was calculated\n",
    "individually and then weighted equally by calculating their mean value.\n",
    "For implementation, the background was defined as the largest region and all other regions were considered as nuclei\n",
    "in order to create a binary array.\n",
    "This makes it possible to compare the gt, and the result images without depending on equal region numbers\n",
    "for every nucleus.\n",
    "\n",
    "# Results\n",
    "## N2DH-GOWT1\n",
    "The result of the seeded region growing on the image t01 of the N2DH-GOWT1 data set is shown below\n",
    "(original image, result of seeded region growing, result after merging and clipping, gt image (from left to right)).\n",
    "A Dice score of 0.865 was obtained.\n",
    "\n",
    "Comparing the original image with the segmentation result shows that nearly all visible nuclei were caught.\n",
    "However, in the gt-image some nuclei are shown, which were not detected by the implemented algorithm.\n",
    "This difference is reflected in the Dice score.\n",
    "However, a value of 0.865 is still satisfying."
   ],
   "metadata": {
    "collapsed": false
   }
  },
  {
   "cell_type": "code",
   "execution_count": null,
   "outputs": [],
   "source": [
    "vis.results_gowt1_seeded()"
   ],
   "metadata": {
    "collapsed": false,
    "pycharm": {
     "name": "#%%\n"
    }
   }
  },
  {
   "cell_type": "markdown",
   "source": [
    "The following images show the results of the unseeded region growing algorithm on the same image (t01).\n",
    "A Dice score of 0.759 was achieved.\n",
    "The lower Dice score confirms the remaining salt and pepper noise remaining in the merged picture (left),\n",
    "which is also visible in the final clipped image (second picture).\n",
    "A 3x3 median filter, applied after region merging, improves the result (third image). To compute the Dice score, this\n",
    "image is also clipped (right).\n",
    "The Dice score increases to 0.868 which is similar to the result of seeded region growing.\n",
    "The unseeded region growing algorithm missed similar nuclei. These nuclei are very similar to the background and are\n",
    "therefore harder to detect."
   ],
   "metadata": {
    "collapsed": false
   }
  },
  {
   "cell_type": "code",
   "execution_count": null,
   "outputs": [],
   "source": [
    "vis.results_gowt1_unseeded()"
   ],
   "metadata": {
    "collapsed": false,
    "pycharm": {
     "name": "#%%\n"
    }
   }
  },
  {
   "cell_type": "markdown",
   "source": [
    "## N2DL-HeLa\n",
    "### Shifted intensity range in N2DL-HeLa\n",
    "For seed detection in the seeded region growing algorithm an Otsu threshold is used.\n",
    "Since normalized intensity distances are used, it is necessary to normalize the Otsu threshold.\n",
    "This works fine in images with an intensity range starting from 0.\n",
    "In the N2DL-Hela data set though a very high Otsu threshold was obtained due to the normalization on an intensity range\n",
    "between 33000 and 36000. This lead to memory errors because of too many seeds and resulted in worse algorithm outcomes\n",
    "after seeded region growing and region merging because of decreased normalized intensity distances.\n",
    "Subtracting the minimal image intensity and thereby shifting the intensity range solves this issue.\n",
    "\n",
    "In unseeded region growing this issue does not occur because intensity distances are not normalized. However, for region\n",
    "merging by intensity distance the distances are normalized. As the image was not normalized beforehand, a very small\n",
    "threshold for intensity merging has to be chosen in order to compensate this.\n",
    "\n",
    "### High cell density and intensity differences of nuclei\n",
    "Due to the high cell density in this data set parameters for region merging by size have to be adapted.\n",
    "While for the N2DH-GOWT1 regions smaller than 400 pixel are merged, for N2DL-Hela images only 100 is used as parameter.\n",
    "\n",
    "Moreover, the nuclei differ greatly in intensity.\n",
    "This needs to be considered for region merging based on intensities distances. The threshold has to be adjusted to the\n",
    "darkest nuclei to prevent loosing nuclei.\n",
    "\n",
    "### Final results"
   ],
   "metadata": {
    "collapsed": false
   }
  },
  {
   "cell_type": "code",
   "execution_count": null,
   "outputs": [],
   "source": [
    "vis.results_hela()"
   ],
   "metadata": {
    "collapsed": false,
    "pycharm": {
     "name": "#%%\n"
    }
   }
  },
  {
   "cell_type": "markdown",
   "source": [
    "Seeded and unseeded region growing were performed on the image t13 of the N2DL-Hela Data set.\n",
    "To improve the results of seeded region growing, the normal image (first image) was preprocessed with the following\n",
    "functions and parameters:\n",
    "- ip.subtract_minimum: image\n",
    "- ip.image_clipping: image, 0.05 * max(image), 0.15 * max(image)\n",
    "- ip.median_filter: image, 3\n",
    "\n",
    "For seeded region growing (second image), the parameter 0.05 was used for the sd.seeds function and 20 for the\n",
    "sd.reduce_region_number function.\n",
    "Region merging was performed with parameters of 0.1 and 100. The final result after clipping can be seen in the third\n",
    "image.\n",
    "\n",
    "For unseeded region (fourth image) growing preprocessing was not performed because good results were obtained without\n",
    "it.\n",
    "For computing the unseeded region growing algorithm, (0,0) was selected as the start pixel and 50 as the distance\n",
    "threshold.\n",
    "In the fifth picture the result after merging with parameters of 0.000001 and 10000, filtering with a 3x3 median filter\n",
    "to remove salt and pepper noise and clipping is shown.\n",
    "\n",
    "Comparing the resulting images with the gt image (sixth image) shows that in unseeded region growing most nuclei\n",
    "were detected, while after seeded region growing some nuclei are missing.\n",
    "The Dice scores of the results confirm this. It is noticeable that the first data set lead to better Dice\n",
    "scores.\n",
    "\n",
    "A reason why more nuclei are lost compared to the first data set are the higher cell density,\n",
    "and less intensity distances between background and nuclei. Unseeded region growing seems to be more robust,\n",
    "while in seeded region growing seed detection in all nuclei was difficult."
   ],
   "metadata": {
    "collapsed": false
   }
  },
  {
   "cell_type": "markdown",
   "source": [
    "## NIH3T3\n",
    "### Bright spots in NIH3T3 data set\n",
    "As mentioned before, the images of the third data set contain bright spots due to reflections of the microscope.\n",
    "This raises the risk of detecting the reflections as nuclei.\n",
    "Preprocessing to merge the bright spots into the background was evaluated.\n",
    "\n",
    "Removal of bright spots (middle) and removal of bright spots with a border (right) are compared.\n",
    "For the normal bright spot removal, all pixels with intensities above a threshold are considered as bright and then\n",
    "set to a lower intensity, resembling the background. For the removal with a border, an artificial border is created\n",
    "around the pixels considered as to bright and is also set to a lower intensity value.\n",
    "The removal of the bright spots with a border reduces the transition region between the bright spot and the background.\n",
    "This transition region can not be removed otherwise (merged) because of its similar intensity to the nuclei.\n",
    "\n",
    "Nevertheless, the risk of merging nuclei to the background is higher, when a border is removed along with the bright\n",
    "spots. If the intensity which is considered as to bright is too low, parts of nuclei will be clipped. These small\n",
    "clipped parts inside the nuclei are not a problem if the bright spot is removed without a border. The clipped regions\n",
    "within nuclei are small and will be merged to the rest of it. <br>\n",
    "Removing the border as well leads to bigger missing nuclei parts and might make it impossible to compensate the missing\n",
    "parts in region merging.\n",
    "Because of that it is important to choose a threshold which keeps the nuclei completely intact,\n",
    "after bright spots and borders are excised."
   ],
   "metadata": {
    "collapsed": false
   }
  },
  {
   "cell_type": "code",
   "execution_count": null,
   "outputs": [],
   "source": [
    "vis.nih3t3_show_bright_spots()"
   ],
   "metadata": {
    "collapsed": false,
    "pycharm": {
     "name": "#%%\n"
    }
   }
  },
  {
   "cell_type": "markdown",
   "source": [
    "The images are now segmented and clipped afterwards to differentiate nuclei and background.\n",
    "Seeded region growing is used."
   ],
   "metadata": {
    "collapsed": false
   }
  },
  {
   "cell_type": "code",
   "execution_count": null,
   "outputs": [],
   "source": [
    "vis.nih3t3_srg_bright_spots()"
   ],
   "metadata": {
    "collapsed": false,
    "pycharm": {
     "name": "#%%\n"
    }
   }
  },
  {
   "cell_type": "markdown",
   "source": [
    "In the unprocessed image (left) both, bright spot and nuclei, are detected as nuclei.\n",
    "This confirms that a removal of the bright image spots is necessary.\n",
    "In the image with intact nucleus (middle) only the reflection is detected.\n",
    "Because not enough of the bright spot was removed, adjusting the intensity distance merging parameters\n",
    "rather merges the nucleus to the background than the reflection.\n",
    "Removing a border along with the bright parts of the reflection solves this problem.\n",
    "Because nearly the whole bright spot is removed, it can be merged to the background by intensity distance.\n",
    "\n",
    "The Dice scores confirm that the third image was segmented the best.\n",
    "However, the Dice score of the third image reveals, that a part of the nucleus was merged to the background.\n",
    "This happens because the reflection leads to a smaller intensity difference between background and nucleus.\n",
    "\n",
    "### Blurs in NIH3T3 data set\n",
    "Another Challenge that had to be faced is, that some images of the third data set contained blurs, that are\n",
    "smaller than the nuclei but have similar intensities. They are registered as a region which mean is\n",
    "relatively close to a region of nuclei and are therefore merged to nuclei even if the threshold\n",
    "for merging by intensity is low. With merging by size, the blurs are merged to the nuclei. This\n",
    "happens because their intensities are more similar to the nuclei than the background."
   ],
   "metadata": {
    "collapsed": false
   }
  },
  {
   "cell_type": "code",
   "execution_count": null,
   "outputs": [],
   "source": [
    "vis.nih3t3_blurs()"
   ],
   "metadata": {
    "collapsed": false,
    "pycharm": {
     "name": "#%%\n"
    }
   }
  },
  {
   "cell_type": "markdown",
   "source": [
    "### Changing background intensities\n",
    "In some images of the third data set the background intensities are changing within one image.\n",
    "This is a problem when merging the background to one region after segmentation which is necessary to differentiate\n",
    "between nuclei and background.\n",
    "The nuclei in the darker part of the image have similar intensities to the background in the lighter part, what makes\n",
    "merging very difficult.\n",
    "This has less impact on unseeded region growing because there regions are not limited to one nucleus.\n",
    "\n",
    "### Final results\n",
    "Below the image dna-42 of the NIH3T3 data set is shown (first image).\n",
    "For seeded region growing bright spots with border were removed (thresholds: 130, 60, 30) and a 3x3 gaussian filter\n",
    "with sigma 1 was used.\n",
    "The normal image (left), and the gt-image for comparison (second), as well as the result of region growing,\n",
    "with the parameters 0.001 and 5 for seed detection, (right) are shown in the first row.\n",
    "In the second row it can be seen that merging led to problems.\n",
    "The left image shows the result of clipping after merging with the parameters 0.057 and 200.\n",
    "This led to a Dice score of 0.44 because many cells in the upper fraction of the image were lost.\n",
    "In the middle, the clipped image is seen after merging with parameters 0.056 and 200.\n",
    "The Dice score decreased to 0.29 because the background is identified as two regions.\n",
    "The intensity difference between the two regions in the background is similar to the difference between nuclei\n",
    "and the background on the left side. Therefore, merging the background was not possible without losing nuclei.\n",
    "To solve this, manuel merging of the two background regions was conducted and slightly better results were obtained\n",
    "with a Dice score of 0.50, meaning that still many cells are undetected.\n",
    "\n",
    "Because the intensity of the background differs much among the picture, setting the bright spots to an\n",
    "intensity similar to their neighboring background was not possible. They were set to an intensity of the background on\n",
    "the right. This lead to problems in region merging, as the spots could not be merged to the background without\n",
    "losing too many nuclei.\n",
    "Although the bright spot could be successfully removed in an image fragment,\n",
    "the algorithm failed on the whole image."
   ],
   "metadata": {
    "collapsed": false
   }
  },
  {
   "cell_type": "code",
   "execution_count": null,
   "outputs": [],
   "source": [
    "vis.results_nih3t3_seeded()"
   ],
   "metadata": {
    "collapsed": false,
    "pycharm": {
     "name": "#%%\n"
    }
   }
  },
  {
   "cell_type": "markdown",
   "source": [
    "For the unseeded region growing the following result was obtained.\n",
    "The left image shows the result after unseeded region growing with the parameters 0.07 and 10000.\n",
    "Again after merging, a median filter with sigma 3 was used.\n",
    "The clipped image is shown on the right.\n",
    "The Dice score is 0.55, which shows that repeatedly not all nuclei could be detected, and the bright spots\n",
    "couldn't be removed. The reasons are the same as mentioned for seeded region growing."
   ],
   "metadata": {
    "collapsed": false
   }
  },
  {
   "cell_type": "code",
   "execution_count": null,
   "outputs": [],
   "source": [
    "vis.results_nih3t3_unseeded()"
   ],
   "metadata": {
    "collapsed": false,
    "pycharm": {
     "name": "#%%\n"
    }
   }
  },
  {
   "cell_type": "markdown",
   "source": [
    "Trying out different parameters on the whole image could lead to better results in seeded and unseeded region growing.\n",
    "Long runtimes of 24 hours prevented this though.\n",
    "\n",
    "Running the algorithm on less challenging images of the data set (dna01) led to better results, and a Dice score of\n",
    "0.86 for seeded and 0.95 for unseeded region growing was obtained.\n",
    "\n",
    "## Evaluation of preprocessing\n",
    "To test, which preprocessing method leads to the best result, different clipping methods and filters were compared. The\n",
    "total algorithm for seeded  and unseeded region growing was applied to a fraction of an image of the second data set.\n",
    "On the first\n",
    "data set high Dice scores were obtained without preprocessing. Using the weighted and unweighted Dice\n",
    "score, the parameters for the different methods where defined. The focus was laid on the optimization of the\n",
    "weighted Dice score.\n",
    "The first row of the following images shows the different preprocessing methods\n",
    "(unprocessed, clipped, extreme clipped, median filtered, gauss filtered, gt)."
   ],
   "metadata": {
    "collapsed": false
   }
  },
  {
   "cell_type": "code",
   "execution_count": null,
   "outputs": [],
   "source": [
    "vis.show_preprocessing()"
   ],
   "metadata": {
    "collapsed": false,
    "pycharm": {
     "name": "#%%\n"
    }
   }
  },
  {
   "cell_type": "markdown",
   "source": [
    "On these pictures the seeded (second row) and unseeded (third row) region growing algorithm were conducted.\n",
    "The obtained Dice scores are shown in this bar plot."
   ],
   "metadata": {
    "collapsed": false
   }
  },
  {
   "cell_type": "code",
   "execution_count": null,
   "outputs": [],
   "source": [
    "vis.barplot_preprocessing()"
   ],
   "metadata": {
    "collapsed": false,
    "pycharm": {
     "name": "#%%\n"
    }
   }
  },
  {
   "cell_type": "markdown",
   "source": [
    "It is visible that the algorithm is working well on every image for seeded and unseeded region growing.\n",
    "\n",
    "After seeded region growing, the weighted Dice score after gauss filtering (0.908) is exactly the same as in\n",
    "the unfiltered image, while all other weighted Dice scores are above 0.9.\n",
    "This might be because, the Gauss filter with sigma 1 does not change the intensities\n",
    "significantly, but a bigger sigma lead to blurring, and a lower Dice score.\n",
    "All other preprocessing methods increase the weighted Dice score, but only clipping improves the weighted\n",
    "Dice score significantly (approximately 0.91 to 0.98).\n",
    "Normal clipping performs best (0.983). Unweighted Dice scores conduct similarly.\n",
    "\n",
    "Unseeded region growing showed similar results.\n",
    "A high weighted Dice score of 0.945 on the unprocessed image was determined\n",
    "as well as good results on every preprocessed image. All preprocessing methods improved the weighted Dice score.\n",
    "For the Gauss filter a sigma of 3 was used, because a smaller sigma lead to a decrease of the Dice score.\n",
    "The highest value was obtained with median filtering (0.9839) opposed to seeded region growing, followed by clipping\n",
    "(0.9835).\n",
    "Compared to seeded region growing unseeded region growing showed better results overall.\n",
    "\n",
    "## Comparison seeded and unseeded region growing results\n",
    "For both, seeded and unseeded region growing, parameters need to be determined for every image and data set\n",
    "individually.\n",
    "However, after optimizing preprocessing methods and parameters unseeded region growing lead to better results,\n",
    "especially in challenging data sets. This can be seen in the bar chart below.\n"
   ],
   "metadata": {
    "collapsed": false
   }
  },
  {
   "cell_type": "code",
   "execution_count": null,
   "outputs": [],
   "source": [
    "vis.barplot_results()"
   ],
   "metadata": {
    "collapsed": false,
    "pycharm": {
     "name": "#%%\n"
    }
   }
  },
  {
   "cell_type": "markdown",
   "source": [
    "# Challenges\n",
    "## Runtime errors\n",
    "### Optimizing seeded region growing algorithm\n",
    "The implementation of Frank Y. Shih and Shouxian Cheng (Shih and Cheng, 2005),\n",
    "on which the implemented seeded region growing algorithm is based, labels every pixel individually, which leads to long runtimes.\n",
    "This is why many runtime problems were encountered, especially with the first implemented seeded region growing\n",
    "algorithm.\n",
    "\n",
    "In this first region growing algorithm, all pixels neighboring an existing region are stored in a list. For-loops are used\n",
    "to iterate over this list to find the pixel with the smallest intensity distance to a neighboring region. With this\n",
    "algorithm it is impossible to segment a whole image in a reasonable time using the available hardware.\n",
    "\n",
    "Hence, a new algorithm was implemented. It was evaluated whether to use numpy arrays or pandas data frames to\n",
    "vectorize the algorithm. It was decided to use numpy arrays because of their faster runtimes.\n",
    "Before, only the smallest distance of a pixel to its neighboring regions could be stored and so the distances had to\n",
    "be recalculated during each loop. Now, all distances were stored.\n",
    "Moreover, the use of for-loops was almost completely avoided, and the algorithm was vectorized.\n",
    "On a fraction of the image, the runtime could be 20-fold decreased. Using a whole image, the improvement would be\n",
    "even bigger. This allows to execute the region growing algorithm using a whole image in 24 hours."
   ],
   "metadata": {
    "collapsed": false
   }
  },
  {
   "cell_type": "code",
   "execution_count": null,
   "outputs": [],
   "source": [
    "image_intensity_small = sk.imread(\"Data/N2DH-GOWT1/img/t01.tif\")[300:350, 400:450]\n",
    "image_seeds = sd.seeds(image_intensity_small, 0.5)\n",
    "image_regions_from_seeds = sd.seed_merging(image_seeds)\n",
    "%timeit srg.region_growing(image_intensity_small, image_regions_from_seeds.copy())\n",
    "%timeit old_srg.region_growing(image_intensity_small, image_regions_from_seeds.copy())"
   ],
   "metadata": {
    "collapsed": false,
    "pycharm": {
     "name": "#%%\n"
    }
   }
  },
  {
   "cell_type": "markdown",
   "source": [
    "### Optimizing unseeded region growing algorithm\n",
    "The algorithm proposed unseeded region growing algorithm in the paper of Zheng Lin, Jesse Jin and Hugues Talbot (Lin et al., 2000)\n",
    "led to the same problem. Because every pixel is\n",
    "assigned individually, the runtime of the first implemented algorithm is too long to segment a complete image with the\n",
    "available hardware.\n",
    "\n",
    "This is why the algorithm was rewritten similarly to the seeded region growing algorithm.\n",
    "The runtime decreased by nearly 100 times."
   ],
   "metadata": {
    "collapsed": false
   }
  },
  {
   "cell_type": "code",
   "execution_count": null,
   "outputs": [],
   "source": [
    "%timeit urg.unseeded_region_growing_algorithm(image_intensity_small, (0,0), 5)\n",
    "%timeit old_urg.old_unseeded_region_growing_algorithm(image_intensity_small, (0,0), 5)"
   ],
   "metadata": {
    "collapsed": false,
    "pycharm": {
     "name": "#%%\n"
    }
   }
  },
  {
   "cell_type": "markdown",
   "source": [
    "### Comparison of seeded and unseeded region growing algorithm\n",
    "Whilst comparing both algorithms, no significant runtime difference between both algorithms can be discovered when\n",
    "compared on a small image. The runtime difference lies within the $3 \\sigma$ interval."
   ],
   "metadata": {
    "collapsed": false
   }
  },
  {
   "cell_type": "code",
   "execution_count": null,
   "outputs": [],
   "source": [
    "%timeit srg.region_growing(image_intensity_small, image_regions_from_seeds.copy())\n",
    "%timeit urg.unseeded_region_growing_algorithm(image_intensity_small, (0, 0), 5)"
   ],
   "metadata": {
    "collapsed": false,
    "pycharm": {
     "name": "#%%\n"
    }
   }
  },
  {
   "cell_type": "markdown",
   "source": [
    "## Memory error\n",
    "For the region merging algorithm an array with the same number of rows and columns as the region number\n",
    "is needed. If too many seeds are found in the seed detection, too many regions are detected in the seeded region\n",
    "growing, and the region merging algorithm can not be performed. When trying to do so, a memory error occurs.\n",
    "This is why a method to reduce the seed number was implemented.\n",
    "In unseeded region growing fewer regions occur which solves this problem right away.\n",
    "\n",
    "# Discussion\n",
    "Despite the challenges of the different data sets images of each data set could be segmented successfully\n",
    "using preprocessing. Especially in the first data set N2DH-GOWT1 satisfying results and high Dice scores were obtained.\n",
    "In the second data set (N2DL-Hela) normalizing and preprocessing could be used to gain high Dice scores.\n",
    "Little challenging images of the NIH3T3 data set led to high Dice scores as well.\n",
    "However, especially in images with bright spots and differing image intensities lower Dice scores where obtained.\n",
    "Even though these challenges could be solved on image fragments, the resources didn't suffice to solve these issues\n",
    "on the whole image because of too long runtimes. This needs to be addressed in future research.\n",
    "\n",
    "Preprocessing, especially clipping, of the images improved the results and is therefore recommended.\n",
    "For filtering a median filter showed to improve results on images for unseeded region\n",
    "growing and image clipping improved the results of seeded region growing. On difficult\n",
    "data sets, a Gauss filter was additionally used to improve seed detection.\n",
    "\n",
    "Although both, seeded and unseeded region growing, lead to good results,\n",
    "unseeded region growing was more robust against challenging image parts.\n",
    "One reason is that the seed detection in seeded region growing often fails to detect nuclei\n",
    "or background regions between nuclei.\n",
    "Increasing the number of seeds could solve this problem, but it leads to memory errors.\n",
    "Alongside less memory errors and smaller execution times for region merging, the smaller region number in unseeded\n",
    "region growing leads to bigger, unconnected regions with several nuclei. This compensates small intensity distances\n",
    "of nuclei to their background in bright background areas or because of dark nuclei.\n",
    "However, challenge of unseeded region growing are additional filtering methods which need to be applied after\n",
    "region merging.\n",
    "Since both algorithms still showed good results and Dice scores, they can be considered in future research.\n",
    "\n",
    "For evaluation only the Dice score was used.\n",
    "To gain a meaningful Dice score all background regions need to be merged together.\n",
    "This requirement complicates segmentation on images which differing background intensities and leads to worse results.\n",
    "Differences of gt-images and the received results are partly caused\n",
    "by mistakes in the gt-images, which do not show nuclei on image borders.\n",
    "Because of these problems, other evaluation methods should be considered in future research.\n",
    "\n",
    "Despite the big runtime improvements, the runtime in both proposed algorithms is still too long. An algorithm which\n",
    "labels more than one pixel in one iteration could fix this problem. This is why using another algorithm\n",
    "is recommended in following research.\n",
    "\n",
    "All in all, both segmentation algorithms lead to satisfying results.\n",
    "Nevertheless, in future research the process of determining parameters needs to be automated to gain actual time\n",
    "reduction in nuclei detection via image segmentation."
   ],
   "metadata": {
    "collapsed": false
   }
  },
  {
   "cell_type": "markdown",
   "source": [
    "# Bibliography\n",
    "1. Adams, R., Bischof, L. (1994). Seeded region growing. IEEE Transaction on Pattern Analysis and Machine Intelligence 16, 641-647\n",
    "1. Lin, Z., Jin, J., and Talbot, H. (2000). Unseeded region growing for 3D image segmentation. In Selected papers from\n",
    "the Pan-Sydney workshop on Visualisation - Volume 2 (Sydney, Australia: Australian Computer Society, Inc.), pp. 31–37.\n",
    "1. Shih, F.Y., and Cheng, S. (2005). Automatic seeded region growing for color image segmentation. Image and Vision\n",
    "Computing 23, 877-886.\n",
    "1. Tiu, E. (2019). Metrics to Evaluate your Semantic Segmentation Model. Towards data science\n",
    "https://towardsdatascience.com/metrics-to-evaluate-your-semantic-segmentation-model-6bcb99639aa2 (lastly opened: 08.07.2021)\n",
    "1. Gómez, O., Gonzalez, J., and Morales, E. (2007). Image Segmentation Using Automatic Seeded Region Growing and\n",
    "Instance-Based Learning, Vol 4756.\n",
    "\n",
    "\n",
    "\n",
    "\n",
    "\n"
   ],
   "metadata": {
    "collapsed": false
   }
  }
 ],
 "metadata": {
  "kernelspec": {
   "display_name": "Python 3",
   "language": "python",
   "name": "python3"
  },
  "language_info": {
   "codemirror_mode": {
    "name": "ipython",
    "version": 2
   },
   "file_extension": ".py",
   "mimetype": "text/x-python",
   "name": "python",
   "nbconvert_exporter": "python",
   "pygments_lexer": "ipython2",
   "version": "2.7.6"
  }
 },
 "nbformat": 4,
 "nbformat_minor": 0
}