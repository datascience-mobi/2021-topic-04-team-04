{
 "cells": [
  {
   "cell_type": "markdown",
   "metadata": {
    "collapsed": true,
    "pycharm": {
     "name": "#%% md\n"
    }
   },
   "source": [
    "# Report\n",
    "\n",
    "## Region Growing Algorithm\n",
    "\n",
    "### Region Merging\n",
    "In both algorithms, seeded and unseeded region growing too many regions are received due to intensity differences in\n",
    "background as well as in cell nuclei. To solve this over-segmentation a region merging algorithm was implemented.\n",
    "The received regions are merged by two criteria: similarity of intensity values and region size.\n"
   ]
  }
 ],
 "metadata": {
  "kernelspec": {
   "display_name": "Python 3",
   "language": "python",
   "name": "python3"
  },
  "language_info": {
   "codemirror_mode": {
    "name": "ipython",
    "version": 2
   },
   "file_extension": ".py",
   "mimetype": "text/x-python",
   "name": "python",
   "nbconvert_exporter": "python",
   "pygments_lexer": "ipython2",
   "version": "2.7.6"
  }
 },
 "nbformat": 4,
 "nbformat_minor": 0
}